{
  "cells": [
    {
      "cell_type": "markdown",
      "id": "68d2f193",
      "metadata": {
        "id": "68d2f193"
      },
      "source": [
        "# Assignment 0"
      ]
    },
    {
      "cell_type": "markdown",
      "id": "231ec299",
      "metadata": {
        "id": "231ec299"
      },
      "source": [
        "### <span style=\"color:chocolate\"> Submission requirements </span>\n",
        "\n",
        "Your work will not be graded if your notebook doesn't include output. In other words, <span style=\"color:red\"> make sure to rerun your notebook before submitting to Gradescope </span> (Note: if you are using Google Colab: go to Edit > Notebook Settings  and uncheck Omit code cell output when saving this notebook, otherwise the output is not printed).\n",
        "\n",
        "Additional points may be deducted if these requirements are not met:\n",
        "\n",
        "    \n",
        "* Comment your code;\n",
        "* Each graph should have a title, labels for each axis, and (if needed) a legend. Each graph should be understandable on its own;\n",
        "* Try and minimize the use of the global namespace (meaning, keep things inside functions).\n",
        "---"
      ]
    },
    {
      "cell_type": "markdown",
      "id": "aae36a3a",
      "metadata": {
        "id": "aae36a3a"
      },
      "source": [
        "### Import libraries"
      ]
    },
    {
      "cell_type": "code",
      "execution_count": 2,
      "id": "1d2c9a02",
      "metadata": {
        "id": "1d2c9a02"
      },
      "outputs": [],
      "source": [
        "import numpy as np\n",
        "np.random.seed(seed=1)"
      ]
    },
    {
      "cell_type": "markdown",
      "id": "8fb0f91b",
      "metadata": {
        "id": "8fb0f91b"
      },
      "source": [
        "---\n",
        "### <span style=\"color:chocolate\">Exercise 1:</span> Homogenous data types (10 points)\n",
        "\n",
        "1. Create a numpy array (my_array1) containing only integer values. Print the shape of the array and the type of its elements;\n",
        "2. Create another numpy array (my_array2) containing a mix of integer and string values. Print the shape of the array and the type of its elements. Comment on the type of its elements."
      ]
    },
    {
      "cell_type": "code",
      "execution_count": null,
      "id": "49c4add6",
      "metadata": {
        "colab": {
          "base_uri": "https://localhost:8080/"
        },
        "id": "49c4add6",
        "outputId": "b985673d-ec9b-40eb-b06c-242135d9a4a3"
      },
      "outputs": [
        {
          "output_type": "stream",
          "name": "stdout",
          "text": [
            "my_array1 shape: (5,)\n",
            "my_array1 type of elements: int64\n",
            "my_array2 shape: (5,)\n",
            "my_array2 type of elements: <U21\n"
          ]
        }
      ],
      "source": [
        "# YOUR CODE HERE\n",
        "# Create an array with integer values\n",
        "my_array1 = np.array([1, 2, 3, 4, 5])\n",
        "# Print the shape and type of elements in the array\n",
        "print(\"my_array1 shape:\", my_array1.shape)\n",
        "print(\"my_array1 type of elements:\", my_array1.dtype)\n",
        "\n",
        "# Create an array with mixed data types (integers and strings)\n",
        "my_array2 = np.array([1, 2, 'apple', 4, 'banana'])\n",
        "\n",
        "# Print the shape and type of elements in the array\n",
        "print(\"my_array2 shape:\", my_array2.shape)\n",
        "print(\"my_array2 type of elements:\", my_array2.dtype)"
      ]
    },
    {
      "cell_type": "markdown",
      "id": "b1df356f",
      "metadata": {
        "id": "b1df356f"
      },
      "source": [
        "# comment:\n",
        "my_array1 data is stored as int64 which is raw binary integer values.\n",
        "my_array2 data is stored as <U21 which is is Unicode encoded text (strings)"
      ]
    },
    {
      "cell_type": "markdown",
      "id": "8becfbd2",
      "metadata": {
        "id": "8becfbd2"
      },
      "source": [
        "---\n",
        "#### <span style=\"color:chocolate\">Exercise 2:</span> The size attribute (10 points)\n",
        "\n",
        "Create a numpy array (my_array3) and print its shape, size, and data type. What does size represent?"
      ]
    },
    {
      "cell_type": "code",
      "execution_count": null,
      "id": "a43d01b9-209d-4db7-9b12-3065ff64b239",
      "metadata": {
        "colab": {
          "base_uri": "https://localhost:8080/"
        },
        "id": "a43d01b9-209d-4db7-9b12-3065ff64b239",
        "outputId": "d3060baa-a33b-460e-dcd0-651e024cc6ec"
      },
      "outputs": [
        {
          "output_type": "stream",
          "name": "stdout",
          "text": [
            "(5,)\n",
            "5\n",
            "int64\n"
          ]
        }
      ],
      "source": [
        "# YOUR CODE HERE\n",
        "my_array3 = np.array([1, 2, 3, 4, 5])\n",
        "print(my_array3.shape)\n",
        "print(my_array3.size)\n",
        "print(my_array3.dtype)"
      ]
    },
    {
      "cell_type": "markdown",
      "source": [
        "Size represents the number of element in the array."
      ],
      "metadata": {
        "id": "9iDwvin7YWyg"
      },
      "id": "9iDwvin7YWyg"
    },
    {
      "cell_type": "markdown",
      "id": "89731f88",
      "metadata": {
        "id": "89731f88"
      },
      "source": [
        "---\n",
        "#### <span style=\"color:chocolate\">Exercise 3:</span> Tabular data layout (10 points)"
      ]
    },
    {
      "cell_type": "markdown",
      "id": "89c8c4d9",
      "metadata": {
        "id": "89c8c4d9"
      },
      "source": [
        "Create a tabular data layout using the numpy method <span style=\"color:chocolate\">np.random.random()</span>, where:\n",
        "* the first input is num_samples, and\n",
        "* the second input is num_features.\n",
        "\n",
        "Print the shape of the array."
      ]
    },
    {
      "cell_type": "code",
      "execution_count": null,
      "id": "dcabc0b0",
      "metadata": {
        "colab": {
          "base_uri": "https://localhost:8080/"
        },
        "id": "dcabc0b0",
        "outputId": "0cf28c58-b347-46ae-9fab-88d2e4f37e4f"
      },
      "outputs": [
        {
          "output_type": "stream",
          "name": "stdout",
          "text": [
            "Generated Data:\n",
            "[[4.17022005e-01 7.20324493e-01 1.14374817e-04 ... 2.73875932e-02\n",
            "  6.70467510e-01 4.17304802e-01]\n",
            " [5.58689828e-01 1.40386939e-01 1.98101489e-01 ... 4.21107625e-01\n",
            "  9.57889530e-01 5.33165285e-01]\n",
            " [6.91877114e-01 3.15515631e-01 6.86500928e-01 ... 2.87775339e-01\n",
            "  1.30028572e-01 1.93669579e-02]\n",
            " ...\n",
            " [5.94290854e-01 2.31462936e-01 4.26821349e-01 ... 9.11763174e-01\n",
            "  9.42498874e-01 6.13550027e-01]\n",
            " [2.14467781e-01 9.39418871e-01 7.50453547e-01 ... 9.04097157e-02\n",
            "  1.28975984e-01 1.05262527e-01]\n",
            " [1.72727463e-01 1.26430890e-01 7.78300890e-01 ... 8.59998592e-01\n",
            "  4.58550811e-01 9.30644392e-01]]\n",
            "\n",
            "Shape of the Array:\n",
            "(100, 17)\n"
          ]
        }
      ],
      "source": [
        "# already defined first and second inputs\n",
        "num_samples = 100\n",
        "num_features = 17\n",
        "\n",
        "# YOUR CODE HERE\n",
        "# Generate random data using np.random.random() with the given shape\n",
        "data = np.random.random((num_samples, num_features))\n",
        "\n",
        "# Print the data and its shape\n",
        "print(\"Generated Data:\")\n",
        "print(data)\n",
        "\n",
        "print(\"Shape of the Array:\")\n",
        "print(data.shape)"
      ]
    },
    {
      "cell_type": "markdown",
      "id": "9ea1e400",
      "metadata": {
        "id": "9ea1e400"
      },
      "source": [
        "---\n",
        "#### <span style=\"color:chocolate\">Exercise 4:</span> Image data layout (10 points)"
      ]
    },
    {
      "cell_type": "markdown",
      "id": "7c5b220a",
      "metadata": {
        "id": "7c5b220a"
      },
      "source": [
        "Create an image data layout using the numpy method <span style=\"color:chocolate\">np.random.random()</span>, where:\n",
        "\n",
        "* the first input is num_images;\n",
        "* the second input is num_rows;\n",
        "* the third input is num_cols;\n",
        "* the fourth input is num_channels.\n",
        "\n",
        "Print the shape of the array."
      ]
    },
    {
      "cell_type": "code",
      "execution_count": null,
      "id": "9b371f29",
      "metadata": {
        "colab": {
          "base_uri": "https://localhost:8080/"
        },
        "id": "9b371f29",
        "outputId": "c2271264-559b-4318-9304-316b2bfb7cad"
      },
      "outputs": [
        {
          "output_type": "stream",
          "name": "stdout",
          "text": [
            "Generated Image Data:\n",
            "[[[[0.25789298 0.93444549 0.61911963]\n",
            "   [0.98544491 0.03264387 0.72516666]\n",
            "   [0.56555424 0.49242405 0.25921813]\n",
            "   ...\n",
            "   [0.26161079 0.41227893 0.6115441 ]\n",
            "   [0.54683446 0.38927495 0.10142078]\n",
            "   [0.7122448  0.08813516 0.86607743]]\n",
            "\n",
            "  [[0.86344844 0.70845079 0.48642457]\n",
            "   [0.69914657 0.39498706 0.79749598]\n",
            "   [0.78641708 0.15552858 0.31781755]\n",
            "   ...\n",
            "   [0.96366271 0.59971437 0.00951972]\n",
            "   [0.41564101 0.02244175 0.31398433]\n",
            "   [0.48162493 0.57545934 0.2386502 ]]\n",
            "\n",
            "  [[0.55828658 0.39492013 0.50658219]\n",
            "   [0.19596701 0.15675161 0.75451701]\n",
            "   [0.32997323 0.64419569 0.5654556 ]\n",
            "   ...\n",
            "   [0.70937379 0.32590872 0.07344017]\n",
            "   [0.57973705 0.73351702 0.35884603]\n",
            "   [0.65375147 0.56659141 0.03410642]]\n",
            "\n",
            "  ...\n",
            "\n",
            "  [[0.9085518  0.0628612  0.33466736]\n",
            "   [0.96549291 0.68645273 0.58304565]\n",
            "   [0.32322443 0.18177244 0.95245839]\n",
            "   ...\n",
            "   [0.54658871 0.61293726 0.48044771]\n",
            "   [0.88533513 0.6138194  0.29664285]\n",
            "   [0.44180101 0.97973111 0.90294535]]\n",
            "\n",
            "  [[0.13657883 0.57350765 0.99458686]\n",
            "   [0.91238706 0.46521815 0.1786866 ]\n",
            "   [0.71185371 0.53977706 0.63746035]\n",
            "   ...\n",
            "   [0.22439366 0.41070581 0.32788623]\n",
            "   [0.37985803 0.85781391 0.70989533]\n",
            "   [0.270315   0.47833085 0.20222548]]\n",
            "\n",
            "  [[0.89653236 0.49032444 0.55849607]\n",
            "   [0.6325519  0.05934167 0.40948144]\n",
            "   [0.21693576 0.27186193 0.51092812]\n",
            "   ...\n",
            "   [0.9130089  0.27997329 0.24340596]\n",
            "   [0.03869836 0.92849171 0.00237753]\n",
            "   [0.27939238 0.06959885 0.87591742]]]\n",
            "\n",
            "\n",
            " [[[0.53581586 0.41595315 0.99826142]\n",
            "   [0.38565412 0.49356916 0.43600769]\n",
            "   [0.67236624 0.11516818 0.90223888]\n",
            "   ...\n",
            "   [0.96961828 0.77614338 0.81660484]\n",
            "   [0.0364248  0.49633353 0.83184387]\n",
            "   [0.07184534 0.16775395 0.81440894]]\n",
            "\n",
            "  [[0.13816346 0.86469766 0.78700075]\n",
            "   [0.95032327 0.64618168 0.66148052]\n",
            "   [0.30649799 0.73169867 0.18613125]\n",
            "   ...\n",
            "   [0.73349774 0.00536708 0.62760261]\n",
            "   [0.72681609 0.5499608  0.97604489]\n",
            "   [0.91374182 0.84118606 0.57193994]]\n",
            "\n",
            "  [[0.37586588 0.32322006 0.87561814]\n",
            "   [0.62050885 0.82905479 0.85112223]\n",
            "   [0.3916626  0.9511748  0.29088472]\n",
            "   ...\n",
            "   [0.93684653 0.92993825 0.81327642]\n",
            "   [0.93248013 0.9749823  0.53241192]\n",
            "   [0.26182025 0.57028357 0.08818402]]\n",
            "\n",
            "  ...\n",
            "\n",
            "  [[0.16112804 0.57168234 0.6491374 ]\n",
            "   [0.58930003 0.30803563 0.79657011]\n",
            "   [0.38870469 0.9865561  0.59273697]\n",
            "   ...\n",
            "   [0.48788058 0.88887609 0.92195277]\n",
            "   [0.15835577 0.61068511 0.70090688]\n",
            "   [0.77103049 0.20079695 0.07737998]]\n",
            "\n",
            "  [[0.71857527 0.29214189 0.37884632]\n",
            "   [0.69229853 0.54783327 0.80438931]\n",
            "   [0.7242238  0.92181141 0.08826473]\n",
            "   ...\n",
            "   [0.6826146  0.24179014 0.70884544]\n",
            "   [0.53470533 0.00625585 0.69306197]\n",
            "   [0.17021781 0.47237267 0.06360464]]\n",
            "\n",
            "  [[0.76820605 0.9387339  0.07325015]\n",
            "   [0.98358547 0.70111777 0.04737612]\n",
            "   [0.58997715 0.93994069 0.46306221]\n",
            "   ...\n",
            "   [0.1320501  0.77249952 0.12012347]\n",
            "   [0.90696523 0.07592568 0.80684179]\n",
            "   [0.60572029 0.28597516 0.99944389]]]\n",
            "\n",
            "\n",
            " [[[0.69226037 0.85580022 0.06646969]\n",
            "   [0.84291986 0.57728274 0.68456805]\n",
            "   [0.63552342 0.42951442 0.48356546]\n",
            "   ...\n",
            "   [0.45494767 0.44003461 0.57979037]\n",
            "   [0.36061149 0.92767564 0.40046912]\n",
            "   [0.36159807 0.04526269 0.25580511]]\n",
            "\n",
            "  [[0.37427453 0.71169553 0.23426414]\n",
            "   [0.08916831 0.53112234 0.67305923]\n",
            "   [0.87467281 0.61206115 0.02213499]\n",
            "   ...\n",
            "   [0.07714564 0.53232028 0.18803854]\n",
            "   [0.70486817 0.27234306 0.08670105]\n",
            "   [0.89836946 0.14129508 0.79734586]]\n",
            "\n",
            "  [[0.72231144 0.10331586 0.81728363]\n",
            "   [0.74237681 0.40588091 0.78163103]\n",
            "   [0.46712719 0.99831511 0.24824159]\n",
            "   ...\n",
            "   [0.67479534 0.10100121 0.42733001]\n",
            "   [0.51899973 0.32479738 0.27057099]\n",
            "   [0.84542097 0.11301222 0.81250318]]\n",
            "\n",
            "  ...\n",
            "\n",
            "  [[0.57866074 0.24766365 0.24951044]\n",
            "   [0.47936958 0.03806565 0.32627766]\n",
            "   [0.95798665 0.54319046 0.40584271]\n",
            "   ...\n",
            "   [0.13270454 0.32996658 0.05277089]\n",
            "   [0.909529   0.12494035 0.99633748]\n",
            "   [0.35634014 0.53732612 0.80689538]]\n",
            "\n",
            "  [[0.1270533  0.83102309 0.98947069]\n",
            "   [0.4130281  0.17411813 0.99721339]\n",
            "   [0.45952185 0.36348156 0.84603659]\n",
            "   ...\n",
            "   [0.48292428 0.34445938 0.06027677]\n",
            "   [0.83335483 0.58120067 0.51458283]\n",
            "   [0.23641804 0.05072017 0.60492517]]\n",
            "\n",
            "  [[0.0741377  0.17944829 0.10534355]\n",
            "   [0.66858327 0.2347599  0.80228587]\n",
            "   [0.28550123 0.51909976 0.85619423]\n",
            "   ...\n",
            "   [0.07982362 0.51907636 0.40473881]\n",
            "   [0.28373513 0.55055355 0.16119076]\n",
            "   [0.57636509 0.58602226 0.21263597]]]\n",
            "\n",
            "\n",
            " ...\n",
            "\n",
            "\n",
            " [[[0.22882884 0.30410061 0.92068709]\n",
            "   [0.2602155  0.94400386 0.92870674]\n",
            "   [0.16024304 0.60176957 0.87386917]\n",
            "   ...\n",
            "   [0.53762608 0.90253002 0.37856343]\n",
            "   [0.72090161 0.92650976 0.03400976]\n",
            "   [0.66064943 0.70659991 0.89051433]]\n",
            "\n",
            "  [[0.37544864 0.33670037 0.87385462]\n",
            "   [0.50831634 0.43688574 0.9774999 ]\n",
            "   [0.09250868 0.0338151  0.95323985]\n",
            "   ...\n",
            "   [0.09007987 0.66374919 0.98598697]\n",
            "   [0.2421405  0.13014433 0.65920414]\n",
            "   [0.21633539 0.78428283 0.88178492]]\n",
            "\n",
            "  [[0.35344606 0.18605107 0.87895732]\n",
            "   [0.37447135 0.12368318 0.45629752]\n",
            "   [0.33912618 0.22315756 0.49095052]\n",
            "   ...\n",
            "   [0.97973588 0.00585952 0.33803234]\n",
            "   [0.10980883 0.9699318  0.31667627]\n",
            "   [0.12070449 0.04640835 0.08223172]]\n",
            "\n",
            "  ...\n",
            "\n",
            "  [[0.11851536 0.10086256 0.65133396]\n",
            "   [0.31859598 0.70701417 0.15076567]\n",
            "   [0.78385667 0.21688091 0.82159899]\n",
            "   ...\n",
            "   [0.69187385 0.51774748 0.62792947]\n",
            "   [0.40960716 0.68138437 0.23555411]\n",
            "   [0.73441789 0.01223813 0.42559321]]\n",
            "\n",
            "  [[0.56587338 0.76022723 0.25529929]\n",
            "   [0.53895809 0.83442618 0.40714427]\n",
            "   [0.42915438 0.39254958 0.05593838]\n",
            "   ...\n",
            "   [0.02654654 0.97728702 0.70545019]\n",
            "   [0.0145406  0.4688569  0.90810899]\n",
            "   [0.14780847 0.02489558 0.03621593]]\n",
            "\n",
            "  [[0.96114488 0.70454769 0.36414175]\n",
            "   [0.8186694  0.87499484 0.6833157 ]\n",
            "   [0.46342894 0.50315958 0.34054873]\n",
            "   ...\n",
            "   [0.6780031  0.67398714 0.13340492]\n",
            "   [0.83915122 0.46409513 0.13516507]\n",
            "   [0.1663648  0.579849   0.36737697]]]\n",
            "\n",
            "\n",
            " [[[0.08794676 0.89598285 0.86207863]\n",
            "   [0.41718324 0.07764514 0.5198059 ]\n",
            "   [0.41541915 0.31125279 0.01039234]\n",
            "   ...\n",
            "   [0.80847488 0.5151988  0.18997513]\n",
            "   [0.78770242 0.44444779 0.15522099]\n",
            "   [0.45609076 0.73473672 0.24226157]]\n",
            "\n",
            "  [[0.21131979 0.15380354 0.51048834]\n",
            "   [0.78770061 0.53178504 0.96166063]\n",
            "   [0.09941174 0.07354256 0.17488363]\n",
            "   ...\n",
            "   [0.86061313 0.78997443 0.65208969]\n",
            "   [0.98603511 0.06847643 0.04474252]\n",
            "   [0.21288017 0.85311521 0.74624251]]\n",
            "\n",
            "  [[0.94693105 0.25101063 0.97720693]\n",
            "   [0.06237196 0.56820232 0.10202871]\n",
            "   [0.5387723  0.30742377 0.0561474 ]\n",
            "   ...\n",
            "   [0.79680798 0.6558934  0.06005868]\n",
            "   [0.44942247 0.28339667 0.45865693]\n",
            "   [0.65247319 0.97468515 0.91265529]]\n",
            "\n",
            "  ...\n",
            "\n",
            "  [[0.78014361 0.02876688 0.85877177]\n",
            "   [0.62899865 0.94166798 0.12763198]\n",
            "   [0.29134352 0.85388346 0.02644558]\n",
            "   ...\n",
            "   [0.79475754 0.14829446 0.90483847]\n",
            "   [0.01854216 0.30697288 0.65584008]\n",
            "   [0.83771135 0.26212613 0.4498373 ]]\n",
            "\n",
            "  [[0.21628422 0.41484792 0.02949679]\n",
            "   [0.29574258 0.66881266 0.51533878]\n",
            "   [0.07982394 0.63253359 0.01313418]\n",
            "   ...\n",
            "   [0.11618962 0.10509673 0.93425371]\n",
            "   [0.77401311 0.00106087 0.63325593]\n",
            "   [0.31757592 0.51199697 0.04849986]]\n",
            "\n",
            "  [[0.572738   0.76488953 0.86134612]\n",
            "   [0.55219419 0.01821607 0.10079253]\n",
            "   [0.67769728 0.03788476 0.11212882]\n",
            "   ...\n",
            "   [0.64045247 0.60777097 0.74379071]\n",
            "   [0.09166433 0.72102041 0.91281728]\n",
            "   [0.4269008  0.24457729 0.5256141 ]]]\n",
            "\n",
            "\n",
            " [[[0.73617599 0.29674059 0.02700922]\n",
            "   [0.46490461 0.67051671 0.19316282]\n",
            "   [0.43990369 0.93403487 0.6572644 ]\n",
            "   ...\n",
            "   [0.5982759  0.13406124 0.65870303]\n",
            "   [0.64060434 0.44924105 0.40528422]\n",
            "   [0.37554633 0.65994577 0.04843187]]\n",
            "\n",
            "  [[0.33289556 0.02725239 0.32770938]\n",
            "   [0.94544737 0.61586229 0.2563516 ]\n",
            "   [0.07887292 0.97317309 0.91055515]\n",
            "   ...\n",
            "   [0.91346703 0.23898626 0.59090148]\n",
            "   [0.95331178 0.7053657  0.79214862]\n",
            "   [0.88622501 0.17985378 0.612729  ]]\n",
            "\n",
            "  [[0.85144489 0.56903298 0.09148785]\n",
            "   [0.3652753  0.73132092 0.54643968]\n",
            "   [0.32765723 0.56459975 0.73446231]\n",
            "   ...\n",
            "   [0.90898373 0.15395066 0.80767642]\n",
            "   [0.33794664 0.32322142 0.7012581 ]\n",
            "   [0.66890407 0.24915673 0.07090858]]\n",
            "\n",
            "  ...\n",
            "\n",
            "  [[0.96667989 0.57961568 0.82530037]\n",
            "   [0.46535903 0.23502319 0.15038494]\n",
            "   [0.24753779 0.76465798 0.23986994]\n",
            "   ...\n",
            "   [0.73074926 0.3042241  0.95837835]\n",
            "   [0.83728366 0.35664657 0.75758055]\n",
            "   [0.46982054 0.41711944 0.91611965]]\n",
            "\n",
            "  [[0.82937061 0.36087809 0.11999887]\n",
            "   [0.3860435  0.79225311 0.07129718]\n",
            "   [0.51773755 0.59498133 0.58533719]\n",
            "   ...\n",
            "   [0.44793461 0.82370935 0.92014719]\n",
            "   [0.66000525 0.19777056 0.65310029]\n",
            "   [0.562353   0.31257233 0.13490194]]\n",
            "\n",
            "  [[0.68758328 0.66193314 0.69912251]\n",
            "   [0.10742823 0.28130955 0.28658404]\n",
            "   [0.83377503 0.73710553 0.57629942]\n",
            "   ...\n",
            "   [0.41456437 0.87316181 0.73377094]\n",
            "   [0.992429   0.33514438 0.77898199]\n",
            "   [0.31496702 0.46758934 0.24051145]]]]\n",
            "\n",
            "Shape of the Array:\n",
            "(100, 256, 256, 3)\n"
          ]
        }
      ],
      "source": [
        "# already defined inputs\n",
        "num_images = 100\n",
        "num_rows = 256\n",
        "num_cols = 256\n",
        "num_channels = 3 #(RGB)\n",
        "\n",
        "# YOUR CODE HERE\n",
        "# Generate random image data using np.random.random() with the given shape\n",
        "image_data = np.random.random((num_images, num_rows, num_cols, num_channels))\n",
        "\n",
        "# Print the data and its shape\n",
        "print(\"Generated Image Data:\")\n",
        "print(image_data)\n",
        "\n",
        "print(\"\\nShape of the Array:\")\n",
        "print(image_data.shape)"
      ]
    },
    {
      "cell_type": "markdown",
      "id": "19d7b075",
      "metadata": {
        "id": "19d7b075"
      },
      "source": [
        "---\n",
        "#### <span style=\"color:chocolate\">Exercise 5: </span>Mathematical operations on numpy arrays (15 points)"
      ]
    },
    {
      "cell_type": "markdown",
      "id": "b88b701f",
      "metadata": {
        "id": "b88b701f"
      },
      "source": [
        "Create a (3, 2) numpy array (you can name it my_array4) containing only integer values. Perform the following tasks:\n",
        "\n",
        "1. Print the shape of the array;\n",
        "2. Print the sum of all elements (hint: the axis argument is set to None);\n",
        "3. Print the sum of all elements by column;\n",
        "3. Print the sum of all elements by row and change the type of the resulting array elements to float;\n",
        "5. Print the first row of the array;\n",
        "6. Print the second row of the array;\n",
        "7. Select the element at position (1, 0);\n",
        "8. Modify the element at position (2, 1) by setting its value to 10 and print the array again;\n",
        "9. Loop over elements in the array. Print the output."
      ]
    },
    {
      "cell_type": "code",
      "execution_count": null,
      "id": "5efe6c22",
      "metadata": {
        "colab": {
          "base_uri": "https://localhost:8080/"
        },
        "id": "5efe6c22",
        "outputId": "31254549-c08b-420c-bd72-cd8cae38f9ec"
      },
      "outputs": [
        {
          "output_type": "stream",
          "name": "stdout",
          "text": [
            "Shape of the array:\n",
            "(3, 2)\n",
            "\n",
            "Sum of all elements:\n",
            "21\n",
            "\n",
            "Sum of elements by column:\n",
            "[ 9 12]\n",
            "\n",
            "Sum of elements by row (as float):\n",
            "[ 3.  7. 11.]\n",
            "\n",
            "First row:\n",
            "[1 2]\n",
            "\n",
            "Second row:\n",
            "[3 4]\n",
            "\n",
            "Element at position (1, 0):\n",
            "3\n",
            "\n",
            "Array after modifying element at position (2, 1):\n",
            "[[ 1  2]\n",
            " [ 3  4]\n",
            " [ 5 10]]\n",
            "\n",
            "Looping over elements in the array:\n",
            "1\n",
            "2\n",
            "3\n",
            "4\n",
            "5\n",
            "10\n"
          ]
        }
      ],
      "source": [
        "# YOUR CODE HERE\n",
        "# Create a (3, 2) numpy array with integer values\n",
        "my_array4 = np.array([[1, 2], [3, 4], [5, 6]])\n",
        "\n",
        "# 1. Print the shape of the array\n",
        "print(\"Shape of the array:\")\n",
        "print(my_array4.shape)\n",
        "\n",
        "# 2. Print the sum of all elements\n",
        "print(\"\\nSum of all elements:\")\n",
        "print(np.sum(my_array4, axis=None))\n",
        "\n",
        "# 3. Print the sum of all elements by column\n",
        "print(\"\\nSum of elements by column:\")\n",
        "print(np.sum(my_array4, axis=0))\n",
        "\n",
        "# 4. Print the sum of all elements by row and change the type of the resulting array elements to float\n",
        "print(\"\\nSum of elements by row (as float):\")\n",
        "print(np.sum(my_array4, axis=1, dtype=float))\n",
        "\n",
        "# 5. Print the first row of the array\n",
        "print(\"\\nFirst row:\")\n",
        "print(my_array4[0])\n",
        "\n",
        "# 6. Print the second row of the array\n",
        "print(\"\\nSecond row:\")\n",
        "print(my_array4[1])\n",
        "\n",
        "# 7. Select the element at position (1, 0)\n",
        "print(\"\\nElement at position (1, 0):\")\n",
        "print(my_array4[1, 0])\n",
        "\n",
        "# 8. Modify the element at position (2, 1) by setting its value to 10 and print the array again\n",
        "my_array4[2, 1] = 10\n",
        "print(\"\\nArray after modifying element at position (2, 1):\")\n",
        "print(my_array4)\n",
        "\n",
        "# 9. Loop over elements in the array and print each element\n",
        "print(\"\\nLooping over elements in the array:\")\n",
        "for row in my_array4:\n",
        "    for element in row:\n",
        "        print(element)"
      ]
    },
    {
      "cell_type": "markdown",
      "id": "7a7e249a",
      "metadata": {
        "id": "7a7e249a"
      },
      "source": [
        "You can find more examples here: https://numpy.org/doc/stable/reference/routines.math.html"
      ]
    },
    {
      "cell_type": "markdown",
      "id": "7f71edb9",
      "metadata": {
        "id": "7f71edb9"
      },
      "source": [
        "---\n",
        "#### <span style=\"color:chocolate\">Exercise 6:</span> Create arrays (15 points)\n",
        "\n",
        "1. Create and print a (3,2) numpy array of pixel values between 0 and 1.\n",
        "2. Create and print a (27,) numpy array representing years from 1991 to 2017\n",
        "3. Create and print a (3, 5, 10) numpy array of zeros\n",
        "4. Create and print a (3, 5, 10) numpy array of ones\n",
        "5. Create and print an array with a constant value (let's say 5) using np.ones()\n",
        "6. Create and print an array with random numbers drawn from a normal distribution with mean 0 and standard deviation 1. Set the sample size to 10.\n"
      ]
    },
    {
      "cell_type": "code",
      "execution_count": null,
      "id": "b1bf53cb",
      "metadata": {
        "colab": {
          "base_uri": "https://localhost:8080/"
        },
        "id": "b1bf53cb",
        "outputId": "51732485-aa80-46b0-caf9-db522b2383e0"
      },
      "outputs": [
        {
          "output_type": "stream",
          "name": "stdout",
          "text": [
            "Pixel values (3, 2) array:\n",
            "[[0.80584041 0.51253926]\n",
            " [0.50027804 0.25712724]\n",
            " [0.61799302 0.61705604]]\n",
            "\n",
            "Years array (1991 to 2017):\n",
            "[1991 1992 1993 1994 1995 1996 1997 1998 1999 2000 2001 2002 2003 2004\n",
            " 2005 2006 2007 2008 2009 2010 2011 2012 2013 2014 2015 2016 2017]\n",
            "\n",
            "(3, 5, 10) array of zeros:\n",
            "[[[0. 0. 0. 0. 0. 0. 0. 0. 0. 0.]\n",
            "  [0. 0. 0. 0. 0. 0. 0. 0. 0. 0.]\n",
            "  [0. 0. 0. 0. 0. 0. 0. 0. 0. 0.]\n",
            "  [0. 0. 0. 0. 0. 0. 0. 0. 0. 0.]\n",
            "  [0. 0. 0. 0. 0. 0. 0. 0. 0. 0.]]\n",
            "\n",
            " [[0. 0. 0. 0. 0. 0. 0. 0. 0. 0.]\n",
            "  [0. 0. 0. 0. 0. 0. 0. 0. 0. 0.]\n",
            "  [0. 0. 0. 0. 0. 0. 0. 0. 0. 0.]\n",
            "  [0. 0. 0. 0. 0. 0. 0. 0. 0. 0.]\n",
            "  [0. 0. 0. 0. 0. 0. 0. 0. 0. 0.]]\n",
            "\n",
            " [[0. 0. 0. 0. 0. 0. 0. 0. 0. 0.]\n",
            "  [0. 0. 0. 0. 0. 0. 0. 0. 0. 0.]\n",
            "  [0. 0. 0. 0. 0. 0. 0. 0. 0. 0.]\n",
            "  [0. 0. 0. 0. 0. 0. 0. 0. 0. 0.]\n",
            "  [0. 0. 0. 0. 0. 0. 0. 0. 0. 0.]]]\n",
            "\n",
            "(3, 5, 10) array of ones:\n",
            "[[[1. 1. 1. 1. 1. 1. 1. 1. 1. 1.]\n",
            "  [1. 1. 1. 1. 1. 1. 1. 1. 1. 1.]\n",
            "  [1. 1. 1. 1. 1. 1. 1. 1. 1. 1.]\n",
            "  [1. 1. 1. 1. 1. 1. 1. 1. 1. 1.]\n",
            "  [1. 1. 1. 1. 1. 1. 1. 1. 1. 1.]]\n",
            "\n",
            " [[1. 1. 1. 1. 1. 1. 1. 1. 1. 1.]\n",
            "  [1. 1. 1. 1. 1. 1. 1. 1. 1. 1.]\n",
            "  [1. 1. 1. 1. 1. 1. 1. 1. 1. 1.]\n",
            "  [1. 1. 1. 1. 1. 1. 1. 1. 1. 1.]\n",
            "  [1. 1. 1. 1. 1. 1. 1. 1. 1. 1.]]\n",
            "\n",
            " [[1. 1. 1. 1. 1. 1. 1. 1. 1. 1.]\n",
            "  [1. 1. 1. 1. 1. 1. 1. 1. 1. 1.]\n",
            "  [1. 1. 1. 1. 1. 1. 1. 1. 1. 1.]\n",
            "  [1. 1. 1. 1. 1. 1. 1. 1. 1. 1.]\n",
            "  [1. 1. 1. 1. 1. 1. 1. 1. 1. 1.]]]\n",
            "\n",
            "Array with constant value 5:\n",
            "[[[5. 5. 5. 5. 5. 5. 5. 5. 5. 5.]\n",
            "  [5. 5. 5. 5. 5. 5. 5. 5. 5. 5.]\n",
            "  [5. 5. 5. 5. 5. 5. 5. 5. 5. 5.]\n",
            "  [5. 5. 5. 5. 5. 5. 5. 5. 5. 5.]\n",
            "  [5. 5. 5. 5. 5. 5. 5. 5. 5. 5.]]\n",
            "\n",
            " [[5. 5. 5. 5. 5. 5. 5. 5. 5. 5.]\n",
            "  [5. 5. 5. 5. 5. 5. 5. 5. 5. 5.]\n",
            "  [5. 5. 5. 5. 5. 5. 5. 5. 5. 5.]\n",
            "  [5. 5. 5. 5. 5. 5. 5. 5. 5. 5.]\n",
            "  [5. 5. 5. 5. 5. 5. 5. 5. 5. 5.]]\n",
            "\n",
            " [[5. 5. 5. 5. 5. 5. 5. 5. 5. 5.]\n",
            "  [5. 5. 5. 5. 5. 5. 5. 5. 5. 5.]\n",
            "  [5. 5. 5. 5. 5. 5. 5. 5. 5. 5.]\n",
            "  [5. 5. 5. 5. 5. 5. 5. 5. 5. 5.]\n",
            "  [5. 5. 5. 5. 5. 5. 5. 5. 5. 5.]]]\n",
            "\n",
            "Array with random numbers from normal distribution (mean=0, std=1), sample size 10:\n",
            "[-0.59010589 -1.57041819 -0.16152746 -0.34316281 -0.89660714 -1.4972329\n",
            " -1.21294366  0.78488254 -1.98037443 -0.28082275]\n"
          ]
        }
      ],
      "source": [
        "# YOUR CODE HERE\n",
        "# Create a (3, 2) numpy array with pixel values between 0 and 1\n",
        "pixel_values = np.random.random((3, 2))\n",
        "print(\"Pixel values (3, 2) array:\")\n",
        "print(pixel_values)\n",
        "# Create a (27,) numpy array representing years from 1991 to 2017\n",
        "years = np.arange(1991, 2018)\n",
        "print(\"\\nYears array (1991 to 2017):\")\n",
        "print(years)\n",
        "# Create a (3, 5, 10) numpy array filled with zeros\n",
        "zeros_array = np.zeros((3, 5, 10))\n",
        "print(\"\\n(3, 5, 10) array of zeros:\")\n",
        "print(zeros_array)\n",
        "# Create a (3, 5, 10) numpy array filled with ones\n",
        "ones_array = np.ones((3, 5, 10))\n",
        "print(\"\\n(3, 5, 10) array of ones:\")\n",
        "print(ones_array)\n",
        "# Create an array filled with the constant value 5\n",
        "constant_value_array = np.ones((3, 5, 10)) * 5\n",
        "print(\"\\nArray with constant value 5:\")\n",
        "print(constant_value_array)\n",
        "# Create an array with random numbers drawn from a normal distribution\n",
        "normal_distribution_array = np.random.normal(loc=0, scale=1, size=10)\n",
        "print(\"\\nArray with random numbers from normal distribution (mean=0, std=1) sample size 10:\")\n",
        "print(normal_distribution_array)"
      ]
    },
    {
      "cell_type": "markdown",
      "id": "4fd05963",
      "metadata": {
        "id": "4fd05963"
      },
      "source": [
        "---\n",
        "#### <span style=\"color:chocolate\">Exercise 7:</span> Reshape arrays (10 points)"
      ]
    },
    {
      "cell_type": "markdown",
      "id": "e139e4eb",
      "metadata": {
        "id": "e139e4eb"
      },
      "source": [
        "Consider the following array:"
      ]
    },
    {
      "cell_type": "code",
      "execution_count": null,
      "id": "a5a192dc",
      "metadata": {
        "colab": {
          "base_uri": "https://localhost:8080/"
        },
        "id": "a5a192dc",
        "outputId": "a709faad-afc7-4a72-fe75-c92ac07548ff"
      },
      "outputs": [
        {
          "output_type": "stream",
          "name": "stdout",
          "text": [
            "(27,)\n"
          ]
        }
      ],
      "source": [
        "years = np.arange(1991, 2018, 1)\n",
        "print(years.shape)"
      ]
    },
    {
      "cell_type": "markdown",
      "id": "d3255640",
      "metadata": {
        "id": "d3255640"
      },
      "source": [
        "Perform the following operations on this array:\n",
        "    \n",
        "1. Create 3 nested arrays, each of size (3, 3). Call this array years_3d;\n",
        "2. Convert the years_3d array to a flat 1D array. Call this array years_1d;\n",
        "3. Add a new axis (in front) to the years_1d array. Call this array years_2d;\n",
        "4. Remove the first axis from years_2d array. Call this array years_1d.\n",
        "\n",
        "For each exercise print the array and its shape."
      ]
    },
    {
      "cell_type": "code",
      "execution_count": null,
      "id": "ab18878a",
      "metadata": {
        "colab": {
          "base_uri": "https://localhost:8080/"
        },
        "id": "ab18878a",
        "outputId": "901b70ca-88ce-4420-e004-85e2a573d8e3"
      },
      "outputs": [
        {
          "output_type": "stream",
          "name": "stdout",
          "text": [
            "Years 3D array:\n",
            "[[[1991 1992 1993]\n",
            "  [1994 1995 1996]\n",
            "  [1997 1998 1999]]\n",
            "\n",
            " [[2000 2001 2002]\n",
            "  [2003 2004 2005]\n",
            "  [2006 2007 2008]]\n",
            "\n",
            " [[2009 2010 2011]\n",
            "  [2012 2013 2014]\n",
            "  [2015 2016 2017]]]\n",
            "Shape of years_3d: (3, 3, 3)\n",
            "\n",
            "Years 1D array:\n",
            "[1991 1992 1993 1994 1995 1996 1997 1998 1999 2000 2001 2002 2003 2004\n",
            " 2005 2006 2007 2008 2009 2010 2011 2012 2013 2014 2015 2016 2017]\n",
            "Shape of years_1d: (27,)\n",
            "\n",
            "Years 2D array (new axis in front):\n",
            "[[1991 1992 1993 1994 1995 1996 1997 1998 1999 2000 2001 2002 2003 2004\n",
            "  2005 2006 2007 2008 2009 2010 2011 2012 2013 2014 2015 2016 2017]]\n",
            "Shape of years_2d: (1, 27)\n",
            "\n",
            "Years 1D array (after removing the first axis):\n",
            "[1991 1992 1993 1994 1995 1996 1997 1998 1999 2000 2001 2002 2003 2004\n",
            " 2005 2006 2007 2008 2009 2010 2011 2012 2013 2014 2015 2016 2017]\n",
            "Shape of years_1d: (27,)\n"
          ]
        }
      ],
      "source": [
        "# YOUR CODE HERE\n",
        "# 1. Create 3 nested arrays of size (3, 3) from the years array and call it years_3d\n",
        "years_3d = years.reshape(3, 3, 3)\n",
        "\n",
        "print(\"Years 3D array:\")\n",
        "print(years_3d)\n",
        "print(\"Shape of years_3d:\", years_3d.shape)\n",
        "# 2. Convert years_3d to a flat 1D array (years_1d)\n",
        "years_1d = years_3d.flatten()\n",
        "\n",
        "print(\"\\nYears 1D array:\")\n",
        "print(years_1d)\n",
        "print(\"Shape of years_1d:\", years_1d.shape)\n",
        "\n",
        "# 3. Add a new axis (in front) to the years_1d array to create years_2d\n",
        "years_2d = years_1d[np.newaxis, :]\n",
        "\n",
        "print(\"\\nYears 2D array (new axis in front):\")\n",
        "print(years_2d)\n",
        "print(\"Shape of years_2d:\", years_2d.shape)\n",
        "\n",
        "# 4. Remove the first axis from years_2d to get back to years_1d\n",
        "years_1d = years_2d.squeeze(axis=0)\n",
        "\n",
        "print(\"\\nYears 1D array (after removing the first axis):\")\n",
        "print(years_1d)\n",
        "print(\"Shape of years_1d:\", years_1d.shape)"
      ]
    },
    {
      "cell_type": "markdown",
      "id": "6a3a4011",
      "metadata": {
        "id": "6a3a4011"
      },
      "source": [
        "---\n",
        "#### <span style=\"color:chocolate\">Exercise 8:</span> Joining arrays (10 points)"
      ]
    },
    {
      "cell_type": "markdown",
      "id": "5382a84a",
      "metadata": {
        "id": "5382a84a"
      },
      "source": [
        "Provide 8 examples that use the methods <span style=\"color:cornflowerBlue\">np.concatenate()</span> and <span style=\"color:cornflowerBlue\">np.stack()</span>. Note: create 4 examples using each method."
      ]
    },
    {
      "cell_type": "code",
      "execution_count": null,
      "id": "a9c2ff1a",
      "metadata": {
        "colab": {
          "base_uri": "https://localhost:8080/"
        },
        "id": "a9c2ff1a",
        "outputId": "d6e89714-3bb8-45f4-a437-68c09a0f9fd8"
      },
      "outputs": [
        {
          "output_type": "stream",
          "name": "stdout",
          "text": [
            "\n",
            "Concatenate years_3d along axis 0:\n",
            "[[[1991 1992 1993]\n",
            "  [1994 1995 1996]\n",
            "  [1997 1998 1999]]\n",
            "\n",
            " [[2000 2001 2002]\n",
            "  [2003 2004 2005]\n",
            "  [2006 2007 2008]]\n",
            "\n",
            " [[2009 2010 2011]\n",
            "  [2012 2013 2014]\n",
            "  [2015 2016 2017]]\n",
            "\n",
            " [[1991 1992 1993]\n",
            "  [1994 1995 1996]\n",
            "  [1997 1998 1999]]\n",
            "\n",
            " [[2000 2001 2002]\n",
            "  [2003 2004 2005]\n",
            "  [2006 2007 2008]]\n",
            "\n",
            " [[2009 2010 2011]\n",
            "  [2012 2013 2014]\n",
            "  [2015 2016 2017]]]\n",
            "Shape: (6, 3, 3)\n",
            "\n",
            "Concatenate years_2d along axis 1:\n",
            "[[1991 1992 1993 1994 1995 1996 1997 1998 1999 2000 2001 2002 2003 2004\n",
            "  2005 2006 2007 2008 2009 2010 2011 2012 2013 2014 2015 2016 2017 1991\n",
            "  1992 1993 1994 1995 1996 1997 1998 1999 2000 2001 2002 2003 2004 2005\n",
            "  2006 2007 2008 2009 2010 2011 2012 2013 2014 2015 2016 2017]]\n",
            "Shape: (1, 54)\n",
            "\n",
            "Concatenate years_2d along axis 0:\n",
            "[[1991 1992 1993 1994 1995 1996 1997 1998 1999 2000 2001 2002 2003 2004\n",
            "  2005 2006 2007 2008 2009 2010 2011 2012 2013 2014 2015 2016 2017]\n",
            " [1991 1992 1993 1994 1995 1996 1997 1998 1999 2000 2001 2002 2003 2004\n",
            "  2005 2006 2007 2008 2009 2010 2011 2012 2013 2014 2015 2016 2017]]\n",
            "Shape: (2, 27)\n",
            "\n",
            "Concatenate years_1d along axis 0:\n",
            "[1991 1992 1993 1994 1995 1996 1997 1998 1999 2000 2001 2002 2003 2004\n",
            " 2005 2006 2007 2008 2009 2010 2011 2012 2013 2014 2015 2016 2017 1991\n",
            " 1992 1993 1994 1995 1996 1997 1998 1999 2000 2001 2002 2003 2004 2005\n",
            " 2006 2007 2008 2009 2010 2011 2012 2013 2014 2015 2016 2017]\n",
            "Shape: (54,)\n",
            "\n",
            "Stack years_3d along axis 0:\n",
            "[[[[1991 1992 1993]\n",
            "   [1994 1995 1996]\n",
            "   [1997 1998 1999]]\n",
            "\n",
            "  [[2000 2001 2002]\n",
            "   [2003 2004 2005]\n",
            "   [2006 2007 2008]]\n",
            "\n",
            "  [[2009 2010 2011]\n",
            "   [2012 2013 2014]\n",
            "   [2015 2016 2017]]]\n",
            "\n",
            "\n",
            " [[[1991 1992 1993]\n",
            "   [1994 1995 1996]\n",
            "   [1997 1998 1999]]\n",
            "\n",
            "  [[2000 2001 2002]\n",
            "   [2003 2004 2005]\n",
            "   [2006 2007 2008]]\n",
            "\n",
            "  [[2009 2010 2011]\n",
            "   [2012 2013 2014]\n",
            "   [2015 2016 2017]]]]\n",
            "Shape: (2, 3, 3, 3)\n",
            "\n",
            "Stack years_2d along axis 1:\n",
            "[[[1991 1992 1993 1994 1995 1996 1997 1998 1999 2000 2001 2002 2003 2004\n",
            "   2005 2006 2007 2008 2009 2010 2011 2012 2013 2014 2015 2016 2017]\n",
            "  [1991 1992 1993 1994 1995 1996 1997 1998 1999 2000 2001 2002 2003 2004\n",
            "   2005 2006 2007 2008 2009 2010 2011 2012 2013 2014 2015 2016 2017]]]\n",
            "Shape: (1, 2, 27)\n",
            "\n",
            "Stack years_2d along axis 0:\n",
            "[[[1991 1992 1993 1994 1995 1996 1997 1998 1999 2000 2001 2002 2003 2004\n",
            "   2005 2006 2007 2008 2009 2010 2011 2012 2013 2014 2015 2016 2017]]\n",
            "\n",
            " [[1991 1992 1993 1994 1995 1996 1997 1998 1999 2000 2001 2002 2003 2004\n",
            "   2005 2006 2007 2008 2009 2010 2011 2012 2013 2014 2015 2016 2017]]]\n",
            "Shape: (2, 1, 27)\n",
            "\n",
            "Stack years_1d along axis 0:\n",
            "[[1991 1992 1993 1994 1995 1996 1997 1998 1999 2000 2001 2002 2003 2004\n",
            "  2005 2006 2007 2008 2009 2010 2011 2012 2013 2014 2015 2016 2017]\n",
            " [1991 1992 1993 1994 1995 1996 1997 1998 1999 2000 2001 2002 2003 2004\n",
            "  2005 2006 2007 2008 2009 2010 2011 2012 2013 2014 2015 2016 2017]]\n",
            "Shape: (2, 27)\n"
          ]
        }
      ],
      "source": [
        "# YOUR CODE HERE\n",
        "# Concatenate years_3d along axis 0\n",
        "result = np.concatenate((years_3d, years_3d), axis=0)\n",
        "print(\"\\nConcatenate years_3d along axis 0:\")\n",
        "print(result)\n",
        "print(\"Shape:\", result.shape)\n",
        "# Concatenate years_2d along axis 1\n",
        "result = np.concatenate((years_2d, years_2d), axis=1)\n",
        "print(\"\\nConcatenate years_2d along axis 1:\")\n",
        "print(result)\n",
        "print(\"Shape:\", result.shape)\n",
        "# Concatenate years_2d along axis 0\n",
        "result = np.concatenate((years_2d, years_2d), axis=0)\n",
        "print(\"\\nConcatenate years_2d along axis 0:\")\n",
        "print(result)\n",
        "print(\"Shape:\", result.shape)\n",
        "# Concatenate years_1d along axis 0\n",
        "result = np.concatenate((years_1d, years_1d), axis=0)\n",
        "print(\"\\nConcatenate years_1d along axis 0:\")\n",
        "print(result)\n",
        "print(\"Shape:\", result.shape)\n",
        "# Stack years_3d along axis 0\n",
        "result = np.stack((years_3d, years_3d), axis=0)\n",
        "print(\"\\nStack years_3d along axis 0:\")\n",
        "print(result)\n",
        "print(\"Shape:\", result.shape)\n",
        "# Stack years_2d along axis 1\n",
        "result = np.stack((years_2d, years_2d), axis=1)\n",
        "print(\"\\nStack years_2d along axis 1:\")\n",
        "print(result)\n",
        "print(\"Shape:\", result.shape)\n",
        "# Stack years_2d along axis 0\n",
        "result = np.stack((years_2d, years_2d), axis=0)\n",
        "print(\"\\nStack years_2d along axis 0:\")\n",
        "print(result)\n",
        "print(\"Shape:\", result.shape)\n",
        "# Stack years_1d along axis 0\n",
        "result = np.stack((years_1d, years_1d), axis=0)\n",
        "print(\"\\nStack years_1d along axis 0:\")\n",
        "print(result)\n",
        "print(\"Shape:\", result.shape)\n",
        "\n"
      ]
    },
    {
      "cell_type": "markdown",
      "id": "7780b5b8",
      "metadata": {
        "id": "7780b5b8"
      },
      "source": [
        "---\n",
        "#### <span style=\"color:chocolate\">Numpy broadcasting</span>"
      ]
    },
    {
      "cell_type": "markdown",
      "id": "d105a999",
      "metadata": {
        "id": "d105a999"
      },
      "source": [
        "The term broadcasting describes how NumPy treats arrays during arithmetic operations. You can find more here:  https://numpy.org/doc/stable/user/basics.broadcasting.html"
      ]
    },
    {
      "cell_type": "code",
      "execution_count": null,
      "id": "ce9ca817",
      "metadata": {
        "colab": {
          "base_uri": "https://localhost:8080/"
        },
        "id": "ce9ca817",
        "outputId": "663c0328-53f0-42bc-b4a5-21957137ed2c"
      },
      "outputs": [
        {
          "output_type": "execute_result",
          "data": {
            "text/plain": [
              "array([1991, 1992, 1993, 1994, 1995, 1996, 1997, 1998, 1999, 2000, 2001,\n",
              "       2002, 2003, 2004, 2005, 2006, 2007, 2008, 2009, 2010, 2011, 2012,\n",
              "       2013, 2014, 2015, 2016, 2017])"
            ]
          },
          "metadata": {},
          "execution_count": 33
        }
      ],
      "source": [
        "# multiplying an array with a scalar\n",
        "years = np.arange(1991, 2018, 1)\n",
        "years * 1"
      ]
    },
    {
      "cell_type": "code",
      "execution_count": null,
      "id": "d2150eb6",
      "metadata": {
        "colab": {
          "base_uri": "https://localhost:8080/"
        },
        "id": "d2150eb6",
        "outputId": "ef750e91-dae6-4bcd-f11b-5381c9c90495"
      },
      "outputs": [
        {
          "output_type": "execute_result",
          "data": {
            "text/plain": [
              "array([1993, 1994, 1995, 1996, 1997, 1998, 1999, 2000, 2001, 2002, 2003,\n",
              "       2004, 2005, 2006, 2007, 2008, 2009, 2010, 2011, 2012, 2013, 2014,\n",
              "       2015, 2016, 2017, 2018, 2019])"
            ]
          },
          "metadata": {},
          "execution_count": 34
        }
      ],
      "source": [
        "# adding a scalar\n",
        "years + 2"
      ]
    },
    {
      "cell_type": "code",
      "execution_count": null,
      "id": "d7319a34",
      "metadata": {
        "colab": {
          "base_uri": "https://localhost:8080/"
        },
        "id": "d7319a34",
        "outputId": "335cd030-63d3-4889-f117-2a75c9ba9e12"
      },
      "outputs": [
        {
          "output_type": "stream",
          "name": "stdout",
          "text": [
            "Array a: [0 1 2]\n",
            "Array b: [0 1 2]\n",
            "Sum of a and b: [0 2 4]\n"
          ]
        }
      ],
      "source": [
        "# many arithmetic operations are applied element wise on a pair of arrays\n",
        "a = np.arange(3)\n",
        "print('Array a:', a)\n",
        "b = np.arange(3)\n",
        "print('Array b:', b)\n",
        "print('Sum of a and b:', a+b)"
      ]
    },
    {
      "cell_type": "code",
      "execution_count": null,
      "id": "44ac94cd",
      "metadata": {
        "colab": {
          "base_uri": "https://localhost:8080/"
        },
        "id": "44ac94cd",
        "outputId": "f9e27205-6454-4270-adb1-61fbe6c469f4"
      },
      "outputs": [
        {
          "output_type": "stream",
          "name": "stdout",
          "text": [
            "Array a: [[1. 1. 1.]\n",
            " [1. 1. 1.]\n",
            " [1. 1. 1.]]\n",
            "\n",
            "Array b: [0 1 2]\n",
            "\n",
            "Sum of a and b: [[1. 2. 3.]\n",
            " [1. 2. 3.]\n",
            " [1. 2. 3.]]\n"
          ]
        }
      ],
      "source": [
        "# another example\n",
        "a = np.ones((3, 3))\n",
        "print('Array a:', a)\n",
        "b = np.arange(3)\n",
        "print('\\nArray b:', b)\n",
        "print('\\nSum of a and b:', a+b)"
      ]
    },
    {
      "cell_type": "markdown",
      "id": "85e7d3c8",
      "metadata": {
        "id": "85e7d3c8"
      },
      "source": [
        "---\n",
        "#### <span style=\"color:chocolate\">Exercise 9:</span> Numpy array standardization (10 points)"
      ]
    },
    {
      "cell_type": "markdown",
      "id": "9bccc9d7",
      "metadata": {
        "id": "9bccc9d7"
      },
      "source": [
        "Consider the following (10, 4) array:"
      ]
    },
    {
      "cell_type": "code",
      "execution_count": 3,
      "id": "02a2102e",
      "metadata": {
        "colab": {
          "base_uri": "https://localhost:8080/"
        },
        "id": "02a2102e",
        "outputId": "bb8c1dc4-2246-4c53-d96b-cdaad5295b90"
      },
      "outputs": [
        {
          "output_type": "stream",
          "name": "stdout",
          "text": [
            "my_array shape:  (10, 4)\n"
          ]
        },
        {
          "output_type": "execute_result",
          "data": {
            "text/plain": [
              "array([[4.17022005e-01, 7.20324493e-01, 1.14374817e-04, 3.02332573e-01],\n",
              "       [1.46755891e-01, 9.23385948e-02, 1.86260211e-01, 3.45560727e-01],\n",
              "       [3.96767474e-01, 5.38816734e-01, 4.19194514e-01, 6.85219500e-01],\n",
              "       [2.04452250e-01, 8.78117436e-01, 2.73875932e-02, 6.70467510e-01],\n",
              "       [4.17304802e-01, 5.58689828e-01, 1.40386939e-01, 1.98101489e-01],\n",
              "       [8.00744569e-01, 9.68261576e-01, 3.13424178e-01, 6.92322616e-01],\n",
              "       [8.76389152e-01, 8.94606664e-01, 8.50442114e-02, 3.90547832e-02],\n",
              "       [1.69830420e-01, 8.78142503e-01, 9.83468338e-02, 4.21107625e-01],\n",
              "       [9.57889530e-01, 5.33165285e-01, 6.91877114e-01, 3.15515631e-01],\n",
              "       [6.86500928e-01, 8.34625672e-01, 1.82882773e-02, 7.50144315e-01]])"
            ]
          },
          "metadata": {},
          "execution_count": 3
        }
      ],
      "source": [
        "my_array = np.random.random((10, 4))\n",
        "print('my_array shape: ', my_array.shape)\n",
        "my_array"
      ]
    },
    {
      "cell_type": "markdown",
      "id": "c505935d",
      "metadata": {
        "id": "c505935d"
      },
      "source": [
        "Peform the following operations on this array:\n",
        "1. Compute and print the mean and std for each column (note: set keepdims=True for proper broadcasting).\n",
        "2. Standardize and print the array and its shape using the mean and std you computed above."
      ]
    },
    {
      "cell_type": "code",
      "execution_count": 5,
      "id": "5a88c63d",
      "metadata": {
        "id": "5a88c63d",
        "colab": {
          "base_uri": "https://localhost:8080/"
        },
        "outputId": "1239bc98-cbc2-42e2-f65c-1084f9486626"
      },
      "outputs": [
        {
          "output_type": "stream",
          "name": "stdout",
          "text": [
            "\n",
            "Mean of each column:\n",
            "[[0.5073657  0.68970888 0.19803242 0.44198268]]\n",
            "\n",
            "Standard deviation of each column:\n",
            "[[0.28662547 0.25175573 0.20805644 0.23152993]]\n",
            "\n",
            "Standardized array:\n",
            "[[-0.31519773  0.12160841 -0.95127097 -0.6031622 ]\n",
            " [-1.25812201 -2.37281699 -0.05658183 -0.41645566]\n",
            " [-0.38586322 -0.59935931  1.06299085  1.05056318]\n",
            " [-1.05682671  0.74837842 -0.8201853   0.98684792]\n",
            " [-0.31421109 -0.52042131 -0.27706658 -1.05334626]\n",
            " [ 1.02356175  1.10644033  0.55461756  1.08124222]\n",
            " [ 1.28747613  0.81387534 -0.54306521 -1.74028424]\n",
            " [-1.1776179   0.74847798 -0.47912764 -0.09016135]\n",
            " [ 1.57182064 -0.62180746  2.37360926 -0.54622331]\n",
            " [ 0.62498014  0.5756246  -0.86392014  1.33097969]]\n",
            "\n",
            "Shape of the standardized array: (10, 4)\n"
          ]
        }
      ],
      "source": [
        "# YOUR CODE HERE\n",
        "# Compute mean and standard deviation along columns (axis=0), with keepdims=True\n",
        "mean = np.mean(my_array, axis=0, keepdims=True)\n",
        "std = np.std(my_array, axis=0, keepdims=True)\n",
        "\n",
        "# Print mean and std for each column\n",
        "print('\\nMean of each column:')\n",
        "print(mean)\n",
        "print('\\nStandard deviation of each column:')\n",
        "print(std)\n",
        "\n",
        "# Standardize the array\n",
        "standardized_array = (my_array - mean) / std\n",
        "\n",
        "# Print the standardized array and its shape\n",
        "print('\\nStandardized array:')\n",
        "print(standardized_array)\n",
        "print('\\nShape of the standardized array:', standardized_array.shape)"
      ]
    },
    {
      "cell_type": "markdown",
      "id": "ebe2eaa0",
      "metadata": {
        "id": "ebe2eaa0"
      },
      "source": [
        "----\n",
        "#### <span style=\"color:chocolate\">Additional practice question</span> (not graded)"
      ]
    },
    {
      "cell_type": "markdown",
      "id": "d43bdaa7",
      "metadata": {
        "id": "d43bdaa7"
      },
      "source": [
        "Consider the following image:"
      ]
    },
    {
      "cell_type": "code",
      "execution_count": 3,
      "id": "e7c61c06",
      "metadata": {
        "id": "e7c61c06",
        "colab": {
          "base_uri": "https://localhost:8080/"
        },
        "outputId": "f5691050-bb20-453c-b4b4-6589559bbcfc"
      },
      "outputs": [
        {
          "output_type": "stream",
          "name": "stdout",
          "text": [
            "[[0.   0.04 0.08 0.12 0.16]\n",
            " [0.2  0.24 0.28 0.32 0.36]\n",
            " [0.4  0.44 0.48 0.52 0.56]\n",
            " [0.6  0.64 0.68 0.72 0.76]\n",
            " [0.8  0.84 0.88 0.92 0.96]]\n"
          ]
        },
        {
          "output_type": "execute_result",
          "data": {
            "text/plain": [
              "(5, 5)"
            ]
          },
          "metadata": {},
          "execution_count": 3
        }
      ],
      "source": [
        "my_image = np.arange(0, 1, 0.04).reshape(5,5)\n",
        "print(my_image)\n",
        "my_image.shape"
      ]
    },
    {
      "cell_type": "markdown",
      "id": "78f029bd",
      "metadata": {
        "id": "78f029bd"
      },
      "source": [
        "Perform the following operations on this image (do not overwrite the original image):\n",
        "\n",
        "1. Crop by using a border of size 1;\n",
        "2. Crop by removing:\n",
        "    * the first and the last two rows, and\n",
        "    * the first and the last two columns;\n",
        "3. Reverse the column order;\n",
        "4. set to 0.5 elements divizible by 2."
      ]
    },
    {
      "cell_type": "code",
      "execution_count": 7,
      "id": "d7dadfcf",
      "metadata": {
        "id": "d7dadfcf",
        "colab": {
          "base_uri": "https://localhost:8080/"
        },
        "outputId": "1063c806-a0d3-4e61-9db8-c22249433d9e"
      },
      "outputs": [
        {
          "output_type": "stream",
          "name": "stdout",
          "text": [
            "\n",
            "Cropped Image (border size 1):\n",
            "[[0.24 0.28 0.32]\n",
            " [0.44 0.48 0.52]\n",
            " [0.64 0.68 0.72]]\n",
            "\n",
            "Cropped Image (first and last two rows removed):\n",
            "[[0.4  0.44 0.48 0.52 0.56]]\n",
            "\n",
            "Cropped Image (first and last two columns removed):\n",
            "[[0.08]\n",
            " [0.28]\n",
            " [0.48]\n",
            " [0.68]\n",
            " [0.88]]\n",
            "\n",
            "Image with reversed columns:\n",
            "[[0.16 0.12 0.08 0.04 0.  ]\n",
            " [0.36 0.32 0.28 0.24 0.2 ]\n",
            " [0.56 0.52 0.48 0.44 0.4 ]\n",
            " [0.76 0.72 0.68 0.64 0.6 ]\n",
            " [0.96 0.92 0.88 0.84 0.8 ]]\n",
            "\n",
            "Image with elements divisible by 2 set to 0.5:\n",
            "[[0.5  0.04 0.08 0.12 0.16]\n",
            " [0.2  0.24 0.28 0.32 0.36]\n",
            " [0.4  0.44 0.48 0.52 0.56]\n",
            " [0.6  0.64 0.68 0.72 0.76]\n",
            " [0.8  0.84 0.88 0.92 0.96]]\n"
          ]
        }
      ],
      "source": [
        "# YOUR CODE HERE\n",
        "# 1. Crop by using a border of size 1 (remove outer border elements)\n",
        "cropped_image_1 = my_image[1:-1, 1:-1]  # Slicing to remove outer border (size 1)\n",
        "print(\"\\nCropped Image (border size 1):\")\n",
        "print(cropped_image_1)\n",
        "# 2. Crop by removing the first and the last two rows\n",
        "cropped_image_2 = my_image[2:-2, :]\n",
        "print(\"\\nCropped Image (first and last two rows removed):\")\n",
        "print(cropped_image_2)\n",
        "# 2. Crop by removing the first and last two columns\n",
        "cropped_image_3 = my_image[:, 2:-2]  # Slicing to remove the first two and last two columns\n",
        "print(\"\\nCropped Image (first and last two columns removed):\")\n",
        "print(cropped_image_3)\n",
        "# 3. Reverse the column order\n",
        "reversed_columns_image = my_image[:, ::-1]  # Reverse the order of columns\n",
        "print(\"\\nImage with reversed columns:\")\n",
        "print(reversed_columns_image)\n",
        "# 4. Set elements divisible by 2 to 0.5\n",
        "modified_image = my_image.copy()\n",
        "modified_image[modified_image % 2 == 0] = 0.5\n",
        "print(\"\\nImage with elements divisible by 2 set to 0.5:\")\n",
        "print(modified_image)"
      ]
    },
    {
      "cell_type": "code",
      "source": [],
      "metadata": {
        "id": "fGcKyThNjdoY"
      },
      "id": "fGcKyThNjdoY",
      "execution_count": null,
      "outputs": []
    }
  ],
  "metadata": {
    "kernelspec": {
      "display_name": "Python 3 (ipykernel)",
      "language": "python",
      "name": "python3"
    },
    "language_info": {
      "codemirror_mode": {
        "name": "ipython",
        "version": 3
      },
      "file_extension": ".py",
      "mimetype": "text/x-python",
      "name": "python",
      "nbconvert_exporter": "python",
      "pygments_lexer": "ipython3",
      "version": "3.12.4"
    },
    "colab": {
      "provenance": []
    }
  },
  "nbformat": 4,
  "nbformat_minor": 5
}