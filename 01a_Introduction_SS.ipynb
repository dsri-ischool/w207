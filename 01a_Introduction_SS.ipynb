{
  "nbformat": 4,
  "nbformat_minor": 0,
  "metadata": {
    "colab": {
      "provenance": []
    },
    "kernelspec": {
      "name": "python3",
      "display_name": "Python 3"
    },
    "language_info": {
      "name": "python"
    }
  },
  "cells": [
    {
      "cell_type": "markdown",
      "metadata": {
        "id": "iVhYJkaXoEbV"
      },
      "source": [
        "## Using Colab\n",
        "\n",
        "A Colab is a list of *cells*. Each cell is either a text cell (like this one) or a code cell (like the one below). To run code cells, you must be connected to a runtime server. Click *Connect* in the toolbar (top-right). Then, to run the cell below:\n",
        "* Click the **Play icon** in the left gutter of the cell\n",
        "* Type **Cmd/Ctrl+Enter** to run the cell in place\n",
        "* Type **Shift+Enter** to run the cell and move focus to the next cell (adding one if none exists)\n",
        "\n",
        "Check out more keyboard shortcuts in **Tools->Keyboard shortcuts**."
      ]
    },
    {
      "cell_type": "markdown",
      "metadata": {
        "id": "SEdrm1KSEYyq"
      },
      "source": [
        "### Warning: Global Variables!\n",
        "\n",
        "In Colab, all the variables are global: once created, they are accessible from any code cell. However, you should make sure that your whole Colab executes properly from top to bottom. It's a good idea to use **Runtime -> Restart runtime** and then **Runtime -> Run all** to make sure everything works as intended, especially before you submit."
      ]
    },
    {
      "cell_type": "markdown",
      "metadata": {
        "id": "cnX_B6_ARRD0"
      },
      "source": [
        "## Numpy\n",
        "\n",
        "Numpy is a scientific computing library with lots of tools, but at its core is the idea of an n-dimensional array. We will mostly use numpy to create and manipulate arrays. Note that a 1-D array is called a *vector*, a 2-D array is called a *matrix*, and n-D arrays are sometimes referred to as *tensors* (thus, *TensorFlow*, but more on that later).\n",
        "\n",
        "See the [Numpy Quickstart Guide](https://numpy.org/doc/stable/user/quickstart.html) for more info."
      ]
    },
    {
      "cell_type": "markdown",
      "source": [
        "All ndarrays are homogeneous: every item takes up the same size block of memory, and all blocks are interpreted in exactly the same way. How each item in the array is to be interpreted is specified by a separate data-type object, one of which is associated with every array. In addition to basic types (integers, floats, etc.), the data type objects can also represent data structures.\n",
        "\n",
        "Ref:\n",
        "https://numpy.org/doc/stable/reference/arrays.html"
      ],
      "metadata": {
        "id": "BSrbhVeUJNka"
      }
    },
    {
      "cell_type": "code",
      "source": [
        "# import libs\n",
        "import numpy as np"
      ],
      "metadata": {
        "id": "HVpS37Zh4pY2"
      },
      "execution_count": 1,
      "outputs": []
    },
    {
      "cell_type": "markdown",
      "source": [
        "## N-Dimensional array"
      ],
      "metadata": {
        "id": "IiXtBEYO_u2t"
      }
    },
    {
      "cell_type": "markdown",
      "source": [
        "[What is a 1D, 2D, 3D, N-D array?](https://numpy.org/doc/stable/user/absolute_beginners.html)"
      ],
      "metadata": {
        "id": "EtYbVGdIWUyt"
      }
    },
    {
      "cell_type": "code",
      "source": [
        "# Create arrays of N-dims\n",
        "a = np.arange(6)\n",
        "b = np.arange(6).reshape(1, 6)\n",
        "c = np.arange(18).reshape(3, 1, 6)\n",
        "d = np.arange(24).reshape(4, 1, 6)"
      ],
      "metadata": {
        "id": "aB0vCAM7FW8g"
      },
      "execution_count": 2,
      "outputs": []
    },
    {
      "cell_type": "code",
      "source": [
        "print(\"A array: \")\n",
        "print(a)\n",
        "print(\"----------------\")\n",
        "print(\"B array: \")\n",
        "print(b)\n",
        "print(\"----------------\")\n",
        "print(\"C array: \")\n",
        "print(c)\n",
        "print(\"----------------\")\n",
        "print(\"D array: \")\n",
        "print(d)"
      ],
      "metadata": {
        "colab": {
          "base_uri": "https://localhost:8080/"
        },
        "id": "v9X9HDnbFW0c",
        "outputId": "c0d13f2d-4077-46d2-b21d-caf4efe9c3c7"
      },
      "execution_count": 3,
      "outputs": [
        {
          "output_type": "stream",
          "name": "stdout",
          "text": [
            "A array: \n",
            "[0 1 2 3 4 5]\n",
            "----------------\n",
            "B array: \n",
            "[[0 1 2 3 4 5]]\n",
            "----------------\n",
            "C array: \n",
            "[[[ 0  1  2  3  4  5]]\n",
            "\n",
            " [[ 6  7  8  9 10 11]]\n",
            "\n",
            " [[12 13 14 15 16 17]]]\n",
            "----------------\n",
            "D array: \n",
            "[[[ 0  1  2  3  4  5]]\n",
            "\n",
            " [[ 6  7  8  9 10 11]]\n",
            "\n",
            " [[12 13 14 15 16 17]]\n",
            "\n",
            " [[18 19 20 21 22 23]]]\n"
          ]
        }
      ]
    },
    {
      "cell_type": "markdown",
      "source": [
        "#### Practice\n",
        "\n",
        "\n",
        "\n",
        "*   What is the shape of the arrays above? Dimension? Size? (use: shape, ndim, size)\n",
        "*   What migth data with shape of (6,1) vs. (1,6) vs. (6,)  represent? What would be the difference? <br>(i.e., when thinking of using data to build a model as a data scientist)\n",
        "*   Can you create a single value and no axes (0 \"dimension\")? (start from the use of arange as above)"
      ],
      "metadata": {
        "id": "YYxmBr_gFWkB"
      }
    },
    {
      "cell_type": "markdown",
      "source": [
        "#### Your Answers"
      ],
      "metadata": {
        "id": "N8-ef73bxyGi"
      }
    },
    {
      "cell_type": "code",
      "source": [],
      "metadata": {
        "id": "BKHzI1VauV6x"
      },
      "execution_count": null,
      "outputs": []
    }
  ]
}