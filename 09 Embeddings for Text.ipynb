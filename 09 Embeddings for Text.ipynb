{
 "cells": [
  {
   "cell_type": "markdown",
   "metadata": {
    "id": "MKsRDH5ZUdfasdv"
   },
   "source": [
    "# Assignment 9"
   ]
  },
  {
   "cell_type": "markdown",
   "metadata": {},
   "source": [
    "### <span style=\"color:chocolate\"> Submission requirements </span>\n",
    "\n",
    "Your work will not be graded if your notebook doesn't include output. In other words, <span style=\"color:red\"> make sure to rerun your notebook before submitting to Gradescope </span> (Note: if you are using Google Colab: go to Edit > Notebook Settings  and uncheck Omit code cell output when saving this notebook, otherwise the output is not printed).\n",
    "\n",
    "Additional points may be deducted if these requirements are not met:\n",
    "\n",
    "    \n",
    "* Comment your code;\n",
    "* Each graph should have a title, labels for each axis, and (if needed) a legend. Each graph should be understandable on its own;\n",
    "* Try and minimize the use of the global namespace (meaning, keep things inside functions).\n",
    "---"
   ]
  },
  {
   "cell_type": "markdown",
   "metadata": {},
   "source": [
    "### Import libraries"
   ]
  },
  {
   "cell_type": "code",
   "execution_count": 1,
   "metadata": {
    "id": "7X58hOMTUH-w"
   },
   "outputs": [
    {
     "name": "stderr",
     "output_type": "stream",
     "text": [
      "2025-03-16 14:48:01.767451: I tensorflow/core/platform/cpu_feature_guard.cc:210] This TensorFlow binary is optimized to use available CPU instructions in performance-critical operations.\n",
      "To enable the following instructions: SSE4.1 SSE4.2 AVX AVX2 FMA, in other operations, rebuild TensorFlow with the appropriate compiler flags.\n"
     ]
    }
   ],
   "source": [
    "import numpy as np\n",
    "from matplotlib import pyplot as plt\n",
    "import pandas as pd\n",
    "import seaborn as sns  # for nicer plots\n",
    "sns.set(style=\"darkgrid\")  # default style\n",
    "import plotly.graph_objs as plotly  # for interactive plots\n",
    "\n",
    "import tensorflow as tf\n",
    "from tensorflow.keras.datasets import imdb"
   ]
  },
  {
   "cell_type": "markdown",
   "metadata": {},
   "source": [
    "---\n",
    "### Step 1: Data ingestion"
   ]
  },
  {
   "cell_type": "markdown",
   "metadata": {
    "id": "eqppUDpmdptk"
   },
   "source": [
    "In this lab, you'll train a <span style=\"color:chocolate\">sentiment</span> classifier for movie reviews. \n",
    "\n",
    "* The input is the text of a movie review;\n",
    "* The output is the probability the input is a positive review.\n",
    "* The target labels are binary, 0 for negative and 1 for positive.\n",
    "\n",
    "The data includes 50,000 movie reviews on IMDB. The data comes pre-segmented into train and test splits. The [data loading function](https://www.tensorflow.org/api_docs/python/tf/keras/datasets/imdb/load_data) below also splits each input text into tokens (words), and maps the words to integer values. Each input is a sequence of integers corresponding to the words."
   ]
  },
  {
   "cell_type": "code",
   "execution_count": 2,
   "metadata": {
    "colab": {
     "base_uri": "https://localhost:8080/"
    },
    "executionInfo": {
     "elapsed": 5870,
     "status": "ok",
     "timestamp": 1646684495083,
     "user": {
      "displayName": "Daniel Gillick",
      "photoUrl": "https://lh3.googleusercontent.com/a-/AOh14Gg9DrSMlwYnG9EolecuJqe8n9m7fpcje4_UbYrhQ10=s64",
      "userId": "01872965353911650729"
     },
     "user_tz": 600
    },
    "id": "s6M-asvhQWV_",
    "outputId": "1aca520b-e1b6-4006-ac44-78ff33ac6da9"
   },
   "outputs": [
    {
     "name": "stdout",
     "output_type": "stream",
     "text": [
      "X_train.shape: (25000,)\n",
      "Y_train.shape: (25000,)\n",
      "X_test.shape: (25000,)\n",
      "Y_test.shape: (25000,)\n"
     ]
    }
   ],
   "source": [
    "# read data\n",
    "(X_train, Y_train), (X_test, Y_test) = imdb.load_data(path=\"imdb.npz\",\n",
    "                                                      num_words=None,\n",
    "                                                      skip_top=0,\n",
    "                                                      maxlen=None,\n",
    "                                                      seed=113,\n",
    "                                                      start_char=1,\n",
    "                                                      oov_char=2,\n",
    "                                                      index_from=3)\n",
    "\n",
    "print(\"X_train.shape:\", X_train.shape)\n",
    "print(\"Y_train.shape:\", Y_train.shape)\n",
    "print(\"X_test.shape:\", X_test.shape)\n",
    "print(\"Y_test.shape:\", Y_test.shape)"
   ]
  },
  {
   "cell_type": "markdown",
   "metadata": {},
   "source": [
    "---\n",
    "### Step 2: Data preprocessing"
   ]
  },
  {
   "cell_type": "markdown",
   "metadata": {},
   "source": [
    "Let's have a look at the first training example:"
   ]
  },
  {
   "cell_type": "code",
   "execution_count": 3,
   "metadata": {},
   "outputs": [
    {
     "name": "stdout",
     "output_type": "stream",
     "text": [
      "First training example data: [1, 14, 22, 16, 43, 530, 973, 1622, 1385, 65, 458, 4468, 66, 3941, 4, 173, 36, 256, 5, 25, 100, 43, 838, 112, 50, 670, 22665, 9, 35, 480, 284, 5, 150, 4, 172, 112, 167, 21631, 336, 385, 39, 4, 172, 4536, 1111, 17, 546, 38, 13, 447, 4, 192, 50, 16, 6, 147, 2025, 19, 14, 22, 4, 1920, 4613, 469, 4, 22, 71, 87, 12, 16, 43, 530, 38, 76, 15, 13, 1247, 4, 22, 17, 515, 17, 12, 16, 626, 18, 19193, 5, 62, 386, 12, 8, 316, 8, 106, 5, 4, 2223, 5244, 16, 480, 66, 3785, 33, 4, 130, 12, 16, 38, 619, 5, 25, 124, 51, 36, 135, 48, 25, 1415, 33, 6, 22, 12, 215, 28, 77, 52, 5, 14, 407, 16, 82, 10311, 8, 4, 107, 117, 5952, 15, 256, 4, 31050, 7, 3766, 5, 723, 36, 71, 43, 530, 476, 26, 400, 317, 46, 7, 4, 12118, 1029, 13, 104, 88, 4, 381, 15, 297, 98, 32, 2071, 56, 26, 141, 6, 194, 7486, 18, 4, 226, 22, 21, 134, 476, 26, 480, 5, 144, 30, 5535, 18, 51, 36, 28, 224, 92, 25, 104, 4, 226, 65, 16, 38, 1334, 88, 12, 16, 283, 5, 16, 4472, 113, 103, 32, 15, 16, 5345, 19, 178, 32]\n",
      "First training example label: 1\n"
     ]
    }
   ],
   "source": [
    "print('First training example data:', X_train[0])\n",
    "print('First training example label:', Y_train[0])"
   ]
  },
  {
   "cell_type": "markdown",
   "metadata": {
    "id": "MyIWiy-4gQK-"
   },
   "source": [
    "As you can see, the first training example is a positive review. However, that sequence of integer IDs is hard to read. \n",
    "\n",
    "The data loader provides a dictionary mapping words to IDs. Let's create a reverse index.\n"
   ]
  },
  {
   "cell_type": "code",
   "execution_count": 4,
   "metadata": {
    "colab": {
     "base_uri": "https://localhost:8080/"
    },
    "executionInfo": {
     "elapsed": 801,
     "status": "ok",
     "timestamp": 1646684508506,
     "user": {
      "displayName": "Daniel Gillick",
      "photoUrl": "https://lh3.googleusercontent.com/a-/AOh14Gg9DrSMlwYnG9EolecuJqe8n9m7fpcje4_UbYrhQ10=s64",
      "userId": "01872965353911650729"
     },
     "user_tz": 600
    },
    "id": "HQ-qATkhUj7c",
    "outputId": "eea86a69-fe6a-4cdb-ac8c-9307a5118e47"
   },
   "outputs": [
    {
     "name": "stdout",
     "output_type": "stream",
     "text": [
      "Largest ID: 88587\n"
     ]
    }
   ],
   "source": [
    "# The imdb dataset comes with an index mapping words to integers.\n",
    "# In the index the words are ordered by frequency they occur.\n",
    "index = imdb.get_word_index()\n",
    "\n",
    "# Because we used index_from=3 (above), setting aside ids below 3 for special\n",
    "# symbols, we need to add 3 to the index values.\n",
    "index = dict([(key, value+3) for (key, value) in index.items()])\n",
    "\n",
    "# Create a reverse index so we can lookup tokens assigned to each id.\n",
    "reverse_index = dict([(value, key) for (key, value) in index.items()])\n",
    "reverse_index[1] = '<START>'  # start of input\n",
    "reverse_index[2] = '#'        # out-of-vocabulary (OOV)\n",
    "reverse_index[3] = '<UNUSED>'\n",
    "\n",
    "max_id = max(reverse_index.keys())\n",
    "print('Largest ID:', max_id)"
   ]
  },
  {
   "cell_type": "markdown",
   "metadata": {
    "id": "h76-b07ehWNQ"
   },
   "source": [
    "Note that our index (and reverse index) have <span style=\"color:chocolate\">88,587</span> tokens. That's quite <span style=\"color:chocolate\">a large vocabulary</span>! \n",
    "\n",
    "Next, let's write a decoding function for our data."
   ]
  },
  {
   "cell_type": "code",
   "execution_count": 5,
   "metadata": {
    "colab": {
     "base_uri": "https://localhost:8080/"
    },
    "executionInfo": {
     "elapsed": 358,
     "status": "ok",
     "timestamp": 1646684531998,
     "user": {
      "displayName": "Daniel Gillick",
      "photoUrl": "https://lh3.googleusercontent.com/a-/AOh14Gg9DrSMlwYnG9EolecuJqe8n9m7fpcje4_UbYrhQ10=s64",
      "userId": "01872965353911650729"
     },
     "user_tz": 600
    },
    "id": "UjobmouHS5Dm",
    "outputId": "29975a48-7fda-4600-bd0c-693c35dd8a54"
   },
   "outputs": [
    {
     "name": "stdout",
     "output_type": "stream",
     "text": [
      "[1, 14, 22, 16, 43, 530, 973, 1622, 1385, 65, 458, 4468, 66, 3941, 4, 173, 36, 256, 5, 25, 100, 43, 838, 112, 50, 670, 22665, 9, 35, 480, 284, 5, 150, 4, 172, 112, 167, 21631, 336, 385, 39, 4, 172, 4536, 1111, 17, 546, 38, 13, 447, 4, 192, 50, 16, 6, 147, 2025, 19, 14, 22, 4, 1920, 4613, 469, 4, 22, 71, 87, 12, 16, 43, 530, 38, 76, 15, 13, 1247, 4, 22, 17, 515, 17, 12, 16, 626, 18, 19193, 5, 62, 386, 12, 8, 316, 8, 106, 5, 4, 2223, 5244, 16, 480, 66, 3785, 33, 4, 130, 12, 16, 38, 619, 5, 25, 124, 51, 36, 135, 48, 25, 1415, 33, 6, 22, 12, 215, 28, 77, 52, 5, 14, 407, 16, 82, 10311, 8, 4, 107, 117, 5952, 15, 256, 4, 31050, 7, 3766, 5, 723, 36, 71, 43, 530, 476, 26, 400, 317, 46, 7, 4, 12118, 1029, 13, 104, 88, 4, 381, 15, 297, 98, 32, 2071, 56, 26, 141, 6, 194, 7486, 18, 4, 226, 22, 21, 134, 476, 26, 480, 5, 144, 30, 5535, 18, 51, 36, 28, 224, 92, 25, 104, 4, 226, 65, 16, 38, 1334, 88, 12, 16, 283, 5, 16, 4472, 113, 103, 32, 15, 16, 5345, 19, 178, 32]\n",
      "<START> this film was just brilliant casting location scenery story direction everyone's really suited the part they played and you could just imagine being there robert redford's is an amazing actor and now the same being director norman's father came from the same scottish island as myself so i loved the fact there was a real connection with this film the witty remarks throughout the film were great it was just brilliant so much that i bought the film as soon as it was released for retail and would recommend it to everyone to watch and the fly fishing was amazing really cried at the end it was so sad and you know what they say if you cry at a film it must have been good and this definitely was also congratulations to the two little boy's that played the part's of norman and paul they were just brilliant children are often left out of the praising list i think because the stars that play them all grown up are such a big profile for the whole film but these children are amazing and should be praised for what they have done don't you think the whole story was so lovely because it was true and was someone's life after all that was shared with us all\n"
     ]
    }
   ],
   "source": [
    "def decode(token_ids):\n",
    "  \"\"\"Return a string with the decoded text given a list of token ids.\"\"\"\n",
    "  # Try looking up each id in the index, but return '#' (for OOV) if not found.\n",
    "  tokens = [reverse_index.get(i, \"#\") for i in token_ids]\n",
    "\n",
    "  # Connect the string tokens with a space.\n",
    "  return ' '.join(tokens)\n",
    "\n",
    "# Show the ids corresponding tokens in the first example.\n",
    "print(X_train[0])\n",
    "print(decode(X_train[0]))"
   ]
  },
  {
   "cell_type": "markdown",
   "metadata": {},
   "source": [
    "---\n",
    "### Step 3: Exploratory Data Analysis (EDA)"
   ]
  },
  {
   "cell_type": "markdown",
   "metadata": {},
   "source": [
    "### <span style=\"color:chocolate\">Exercise 1:</span> Text lengths (10 points)"
   ]
  },
  {
   "cell_type": "markdown",
   "metadata": {
    "id": "g47w5CackGBA"
   },
   "source": [
    "Using the training reviews data, answer the following questions:\n",
    "\n",
    "1. What are the minimum, maximum, and mean lengths of positive and negative reviews?\n",
    "2. Create a histogram to visualize the distribution of positive and negative review lengths. Make sure to provide a descriptive title and axis labels."
   ]
  },
  {
   "cell_type": "code",
   "execution_count": 6,
   "metadata": {},
   "outputs": [
    {
     "name": "stdout",
     "output_type": "stream",
     "text": [
      "Positive Reviews:\n",
      "  Min length: 13\n",
      "  Max length: 2494\n",
      "  Mean length: 241.56\n",
      "\n",
      "Negative Reviews:\n",
      "  Min length: 11\n",
      "  Max length: 1571\n",
      "  Mean length: 235.86\n",
      "\n"
     ]
    },
    {
     "data": {
      "image/png": "[encoded data removed]",
      "text/plain": [
       "<Figure size 1200x600 with 1 Axes>"
      ]
     },
     "metadata": {},
     "output_type": "display_data"
    }
   ],
   "source": [
    "# YOUR CODE HERE\n",
    "# Separate positive and negative reviews\n",
    "positive_reviews = [len(X_train[i]) for i in range(len(X_train)) if Y_train[i] == 1]\n",
    "negative_reviews = [len(X_train[i]) for i in range(len(X_train)) if Y_train[i] == 0]\n",
    "\n",
    "# Calculate statistics\n",
    "def review_stats(label, lengths):\n",
    "    print(f\"{label} Reviews:\")\n",
    "    print(f\"  Min length: {np.min(lengths)}\")\n",
    "    print(f\"  Max length: {np.max(lengths)}\")\n",
    "    print(f\"  Mean length: {np.mean(lengths):.2f}\\n\")\n",
    "\n",
    "review_stats(\"Positive\", positive_reviews)\n",
    "review_stats(\"Negative\", negative_reviews)\n",
    "\n",
    "# Plot histograms\n",
    "plt.figure(figsize=(12, 6))\n",
    "\n",
    "sns.histplot(positive_reviews, bins=50, kde=True, color='green', label='Positive Reviews', alpha=0.7)\n",
    "sns.histplot(negative_reviews, bins=50, kde=True, color='red', label='Negative Reviews', alpha=0.7)\n",
    "\n",
    "plt.title(\"Distribution of Review Lengths by Sentiment\")\n",
    "plt.xlabel(\"Review Length\")\n",
    "plt.ylabel(\"Frequency\")\n",
    "plt.legend()\n",
    "plt.show()"
   ]
  },
  {
   "cell_type": "markdown",
   "metadata": {},
   "source": [
    "### <span style=\"color:chocolate\">Exercise 2:</span> Token counts (10 points)"
   ]
  },
  {
   "cell_type": "markdown",
   "metadata": {
    "id": "c3ZE9gpkml3a"
   },
   "source": [
    "Using the training data, create a table listing the counts of positive and negative examples that contain each token provided below."
   ]
  },
  {
   "cell_type": "code",
   "execution_count": 7,
   "metadata": {
    "id": "8YOYo6d01aWI"
   },
   "outputs": [
    {
     "name": "stdout",
     "output_type": "stream",
     "text": [
      "Positive Reviews:\n",
      "  Min length: 13\n",
      "  Max length: 2494\n",
      "  Mean length: 241.56\n",
      "\n",
      "Negative Reviews:\n",
      "  Min length: 11\n",
      "  Max length: 1571\n",
      "  Mean length: 235.86\n",
      "\n"
     ]
    },
    {
     "data": {
      "image/png": "[encoded data removed]",
      "text/plain": [
       "<Figure size 1200x600 with 1 Axes>"
      ]
     },
     "metadata": {},
     "output_type": "display_data"
    },
    {
     "name": "stdout",
     "output_type": "stream",
     "text": [
      "\n",
      "Token Counts in Positive and Negative Reviews:\n",
      "Token      Positive   Negative  \n",
      "good       4767       4849      \n",
      "bad        1491       4396      \n",
      "amazing    868        240       \n",
      "boring     301        1205      \n",
      "laugh      525        685       \n",
      "cry        231        114       \n"
     ]
    }
   ],
   "source": [
    "tokens = ['good', 'bad', 'amazing', 'boring', 'laugh', 'cry']\n",
    "# YOUR CODE HERE\n",
    "# Separate positive and negative reviews\n",
    "positive_reviews = [len(X_train[i]) for i in range(len(X_train)) if Y_train[i] == 1]\n",
    "negative_reviews = [len(X_train[i]) for i in range(len(X_train)) if Y_train[i] == 0]\n",
    "\n",
    "# Calculate statistics\n",
    "def review_stats(label, lengths):\n",
    "    print(f\"{label} Reviews:\")\n",
    "    print(f\"  Min length: {np.min(lengths)}\")\n",
    "    print(f\"  Max length: {np.max(lengths)}\")\n",
    "    print(f\"  Mean length: {np.mean(lengths):.2f}\\n\")\n",
    "\n",
    "review_stats(\"Positive\", positive_reviews)\n",
    "review_stats(\"Negative\", negative_reviews)\n",
    "\n",
    "# Plot histograms\n",
    "plt.figure(figsize=(12, 6))\n",
    "\n",
    "sns.histplot(positive_reviews, bins=50, kde=True, color='green', label='Positive Reviews', alpha=0.7)\n",
    "sns.histplot(negative_reviews, bins=50, kde=True, color='red', label='Negative Reviews', alpha=0.7)\n",
    "\n",
    "plt.title(\"Distribution of Review Lengths by Sentiment\")\n",
    "plt.xlabel(\"Review Length\")\n",
    "plt.ylabel(\"Frequency\")\n",
    "plt.legend()\n",
    "plt.show()\n",
    "\n",
    "# Count occurrences of specific tokens in positive and negative reviews\n",
    "tokens = ['good', 'bad', 'amazing', 'boring', 'laugh', 'cry']\n",
    "\n",
    "# Create a table to store counts\n",
    "counts = {token: {'positive': 0, 'negative': 0} for token in tokens}\n",
    "\n",
    "# Iterate through training data and count token occurrences\n",
    "for i, review in enumerate(X_train):\n",
    "    sentiment = 'positive' if Y_train[i] == 1 else 'negative'\n",
    "    for token in tokens:\n",
    "        token_id = index.get(token)\n",
    "        if token_id in review:\n",
    "            counts[token][sentiment] += 1\n",
    "\n",
    "# Display the table\n",
    "print(\"\\nToken Counts in Positive and Negative Reviews:\")\n",
    "print(f\"{'Token':<10} {'Positive':<10} {'Negative':<10}\")\n",
    "for token, count in counts.items():\n",
    "    print(f\"{token:<10} {count['positive']:<10} {count['negative']:<10}\")"
   ]
  },
  {
   "cell_type": "markdown",
   "metadata": {},
   "source": [
    "---\n",
    "### Step 4: Data preprocessing (cont'd)"
   ]
  },
  {
   "cell_type": "markdown",
   "metadata": {},
   "source": [
    "As is clear from the review length histogram, the current representation of the review text is a variable-length array. Since fixed-length arrays are easier to work with in Tensorflow, you will add special padding tokens at the end of each review until they are all the same length. You will also truncate all training inputs to a specified length."
   ]
  },
  {
   "cell_type": "markdown",
   "metadata": {},
   "source": [
    "### <span style=\"color:chocolate\">Exercise 3:</span> Reduced length and padding (10 points)"
   ]
  },
  {
   "cell_type": "markdown",
   "metadata": {},
   "source": [
    "Fill in the <span style=\"color:green\">NotImplemented</span> parts of the <span style=\"color:chocolate\">truncate_pad_data()</span> function below by following these instructions:\n",
    "\n",
    "1. Restrict the maximum number of tokens by truncating all reviews to a length of 300;\n",
    "2. Append special padding tokens (value = 0) to the end of each review until all reviews are of the same length."
   ]
  },
  {
   "cell_type": "code",
   "execution_count": 8,
   "metadata": {},
   "outputs": [
    {
     "name": "stdout",
     "output_type": "stream",
     "text": [
      "Length of X_train[0]: 218\n",
      "Length of X_train_padded[0]: 300\n",
      "[    1    14    22    16    43   530   973  1622  1385    65   458  4468\n",
      "    66  3941     4   173    36   256     5    25   100    43   838   112\n",
      "    50   670 22665     9    35   480   284     5   150     4   172   112\n",
      "   167 21631   336   385    39     4   172  4536  1111    17   546    38\n",
      "    13   447     4   192    50    16     6   147  2025    19    14    22\n",
      "     4  1920  4613   469     4    22    71    87    12    16    43   530\n",
      "    38    76    15    13  1247     4    22    17   515    17    12    16\n",
      "   626    18 19193     5    62   386    12     8   316     8   106     5\n",
      "     4  2223  5244    16   480    66  3785    33     4   130    12    16\n",
      "    38   619     5    25   124    51    36   135    48    25  1415    33\n",
      "     6    22    12   215    28    77    52     5    14   407    16    82\n",
      " 10311     8     4   107   117  5952    15   256     4 31050     7  3766\n",
      "     5   723    36    71    43   530   476    26   400   317    46     7\n",
      "     4 12118  1029    13   104    88     4   381    15   297    98    32\n",
      "  2071    56    26   141     6   194  7486    18     4   226    22    21\n",
      "   134   476    26   480     5   144    30  5535    18    51    36    28\n",
      "   224    92    25   104     4   226    65    16    38  1334    88    12\n",
      "    16   283     5    16  4472   113   103    32    15    16  5345    19\n",
      "   178    32     0     0     0     0     0     0     0     0     0     0\n",
      "     0     0     0     0     0     0     0     0     0     0     0     0\n",
      "     0     0     0     0     0     0     0     0     0     0     0     0\n",
      "     0     0     0     0     0     0     0     0     0     0     0     0\n",
      "     0     0     0     0     0     0     0     0     0     0     0     0\n",
      "     0     0     0     0     0     0     0     0     0     0     0     0\n",
      "     0     0     0     0     0     0     0     0     0     0     0     0]\n"
     ]
    }
   ],
   "source": [
    "def truncate_pad_data(sequences, max_length):\n",
    "    # Keras has a convenient utility for padding a sequence:\n",
    "    # tf.keras.preprocessing.sequence.pad_sequences()\n",
    "    # Also make sure you get a numpy array rather than an array of lists.\n",
    "    padded_data = tf.keras.preprocessing.sequence.pad_sequences(sequences, maxlen=max_length, padding='post', truncating='post', value=0)\n",
    "    return padded_data\n",
    "\n",
    "# 1+ 2: Truncate and pad the training data\n",
    "X_train_padded = truncate_pad_data(X_train, max_length=300)\n",
    "\n",
    "# Check the padded output.\n",
    "print('Length of X_train[0]:', len(X_train[0]))\n",
    "print('Length of X_train_padded[0]:', len(X_train_padded[0]))\n",
    "print(X_train_padded[0])"
   ]
  },
  {
   "cell_type": "markdown",
   "metadata": {},
   "source": [
    "Next, you want to be able to limit the vocabulary size. Since the <span style=\"color:chocolate\">truncate_pad_data()</span> function produces fixed-length sequences in a numpy matrix, one can use clever numpy indexing to efficiently replace all token ids larger than some value with the designated out-of-vocabulary (OOV) id."
   ]
  },
  {
   "cell_type": "markdown",
   "metadata": {},
   "source": [
    "### <span style=\"color:chocolate\">Exercise 4:</span> Reduced vocabulary (10 points)"
   ]
  },
  {
   "cell_type": "markdown",
   "metadata": {},
   "source": [
    "Fill in the <span style=\"color:green\">NotImplemented</span> parts of the <span style=\"color:chocolate\">limit_vocab()</span> function below by following these instructions:\n",
    "\n",
    "1. Keep just token ids less than 1000, replacing all others with OOV."
   ]
  },
  {
   "cell_type": "code",
   "execution_count": 9,
   "metadata": {},
   "outputs": [
    {
     "name": "stdout",
     "output_type": "stream",
     "text": [
      "[  1  14  22  16  43 530 973   2   2  65 458   2  66   2   4 173  36 256\n",
      "   5  25 100  43 838 112  50 670   2   9  35 480 284   5 150   4 172 112\n",
      " 167   2 336 385  39   4 172   2   2  17 546  38  13 447   4 192  50  16\n",
      "   6 147   2  19  14  22   4   2   2 469   4  22  71  87  12  16  43 530\n",
      "  38  76  15  13   2   4  22  17 515  17  12  16 626  18   2   5  62 386\n",
      "  12   8 316   8 106   5   4   2   2  16 480  66   2  33   4 130  12  16\n",
      "  38 619   5  25 124  51  36 135  48  25   2  33   6  22  12 215  28  77\n",
      "  52   5  14 407  16  82   2   8   4 107 117   2  15 256   4   2   7   2\n",
      "   5 723  36  71  43 530 476  26 400 317  46   7   4   2   2  13 104  88\n",
      "   4 381  15 297  98  32   2  56  26 141   6 194   2  18   4 226  22  21\n",
      " 134 476  26 480   5 144  30   2  18  51  36  28 224  92  25 104   4 226\n",
      "  65  16  38   2  88  12  16 283   5  16   2 113 103  32  15  16   2  19\n",
      " 178  32   0   0   0   0   0   0   0   0   0   0   0   0   0   0   0   0\n",
      "   0   0   0   0   0   0   0   0   0   0   0   0   0   0   0   0   0   0\n",
      "   0   0   0   0   0   0   0   0   0   0   0   0   0   0   0   0   0   0\n",
      "   0   0   0   0   0   0   0   0   0   0   0   0   0   0   0   0   0   0\n",
      "   0   0   0   0   0   0   0   0   0   0   0   0]\n",
      "<START> this film was just brilliant casting # # story direction # really # the part they played and you could just imagine being there robert # is an amazing actor and now the same being director # father came from the same # # as myself so i loved the fact there was a real # with this film the # # throughout the film were great it was just brilliant so much that i # the film as soon as it was released for # and would recommend it to everyone to watch and the # # was amazing really # at the end it was so sad and you know what they say if you # at a film it must have been good and this definitely was also # to the two little # that played the # of # and paul they were just brilliant children are often left out of the # # i think because the stars that play them all # up are such a big # for the whole film but these children are amazing and should be # for what they have done don't you think the whole story was so # because it was true and was # life after all that was # with us all # # # # # # # # # # # # # # # # # # # # # # # # # # # # # # # # # # # # # # # # # # # # # # # # # # # # # # # # # # # # # # # # # # # # # # # # # # # # # # # # # #\n"
     ]
    }
   ],
   "source": [
    "def limit_vocab(sequences, max_token_id, oov_id=2):\n",
    "  \"\"\"Replace token ids greater than or equal to max_token_id with the oov_id.\"\"\"\n",
    "  # YOUR CODE HERE\n",
    "  reduced_sequences = np.where(sequences >= max_token_id, oov_id, sequences)\n",
    "  return reduced_sequences\n",
    "\n",
    "# Reduce vocabulary to 1000 tokens.\n",
    "X_train_reduced = limit_vocab(X_train_padded, max_token_id=1000)\n",
    "print(X_train_reduced[0])\n",
    "\n",
    "# Decode to see what this looks like in tokens. Note the '#' for OOVs.\n",
    "print(decode(X_train_reduced[0]))"
   ]
  },
  {
   "cell_type": "markdown",
   "metadata": {},
   "source": [
    "### <span style=\"color:chocolate\">Exercise 5:</span> One-hot encoding (0 points)"
   ]
  },
  {
   "cell_type": "markdown",
   "metadata": {},
   "source": [
    "The current feature representations are **sparse**. That is, one only keeps track of the token ids that are present in the input. A **one-hot** encoding replaces a value like 22 (corresponding to 'film') with an array with a single 1 at position 22 and zeros everywhere else. This will be very memory-inefficient, but we'll do it anyway for clarity.\n",
    "\n",
    "To avoid any memory limitations, let's dramatically reduce both the number of token positions (review length) and the number of token ids (vocabulary). \n",
    "\n",
    "The code below clips each review after 20 tokens and keeps only the first 1000 tokens."
   ]
  },
  {
   "cell_type": "code",
   "execution_count": 10,
   "metadata": {},
   "outputs": [
    {
     "name": "stdout",
     "output_type": "stream",
     "text": [
      "X_train_one_hot shape: (25000, 20, 1000)\n"
     ]
    }
   ],
   "source": [
    "# Keras has a util to create one-hot encodings.\n",
    "X_train_padded = truncate_pad_data(X_train, max_length=20)\n",
    "X_train_reduced = limit_vocab(X_train_padded, max_token_id=1000)\n",
    "X_train_one_hot = tf.keras.utils.to_categorical(X_train_reduced)\n",
    "print('X_train_one_hot shape:', X_train_one_hot.shape)"
   ]
  },
  {
   "cell_type": "markdown",
   "metadata": {},
   "source": [
    "Note the shape of the one-hot encoded features. For each of the 25000 training examples, you have a 20 x 1000 matrix. That is, for each of 20 token positions, you have a vector of 1000 elements containing a single 1 and 999 zeros.\n",
    "\n",
    "You can think of these 1000-dimensional one-hot arrays as **embeddings**. Each token in the input has a 1000-dimensional representation. But because of the one-hot setup, the distance between each pair of tokens is the same ([1,0,0,...], [0,1,0,...], etc.). By contrast, learned embeddings result in meaningful distances between pairs of tokens. You'll get to that soon."
   ]
  },
  {
   "cell_type": "markdown",
   "metadata": {},
   "source": [
    "---\n",
    "### Step 5: Modeling"
   ]
  },
  {
   "cell_type": "markdown",
   "metadata": {},
   "source": [
    "### <span style=\"color:chocolate\">Baseline model:</span> Logistic regression with one-hot encodings"
   ]
  },
  {
   "cell_type": "markdown",
   "metadata": {
    "id": "296Cnt647b5c"
   },
   "source": [
    "You will start with something familiar -- logistic regression. Since your feature representation is in 2 dimensions (20 x 1000), you need to flatten it to pass it to Keras (remember you did this with the pixel data too). Try two strategies for flattening.\n",
    "\n",
    "1. Flatten by *concatenating* (as you did with pixels), turning (20 x 1000) data into (20000,) data. The result is a separate feature for each token at each position;\n",
    "2. Flatten by *averaging* over token positions, turning (20 x 1000) data into (1000,) data. The result is an array with average token counts, ignoring position."
   ]
  },
  {
   "cell_type": "code",
   "execution_count": 11,
   "metadata": {
    "id": "6m6eebM-0dUW"
   },
   "outputs": [],
   "source": [
    "def build_onehot_model(average_over_positions=False):\n",
    "  \"\"\"Build a tf.keras model for one-hot data.\"\"\"\n",
    "  # Clear session and remove randomness.\n",
    "  tf.keras.backend.clear_session()\n",
    "  tf.random.set_seed(0)\n",
    "\n",
    "  model = tf.keras.Sequential()\n",
    "    \n",
    "  if average_over_positions:\n",
    "    # This layer averages over the first dimension of the input by default.\n",
    "    model.add(tf.keras.layers.GlobalAveragePooling1D())\n",
    "  else:\n",
    "    # Concatenate.\n",
    "    model.add(tf.keras.layers.Flatten())\n",
    "      \n",
    "  model.add(tf.keras.layers.Dense(\n",
    "      units=1,                     # output dim (for binary classification)\n",
    "      activation=\"sigmoid\"         # sigmoid activation for binary classification\n",
    "  ))\n",
    "\n",
    "  model.compile(loss='binary_crossentropy',   # this is a classification task\n",
    "                optimizer='adam',             # fancy optimizer\n",
    "                metrics=['accuracy'])\n",
    "\n",
    "  return model"
   ]
  },
  {
   "cell_type": "markdown",
   "metadata": {
    "id": "NY3W_1-OSZ2X"
   },
   "source": [
    "Now let's try fitting the model to your training data and check performance metrics on the validation data. But first, here's a function for plotting the learning curves given the training history object we get from Keras."
   ]
  },
  {
   "cell_type": "code",
   "execution_count": 12,
   "metadata": {
    "id": "cOVmajSuMjN6"
   },
   "outputs": [],
   "source": [
    "def plot_history(history):\n",
    "  plt.ylabel('Loss')\n",
    "  plt.xlabel('Epoch')\n",
    "  plt.xticks(range(0, len(history['loss'] + 1)))\n",
    "  plt.plot(history['loss'], label=\"training\", marker='o')\n",
    "  plt.plot(history['val_loss'], label=\"validation\", marker='o')\n",
    "  plt.ylim(0,1)\n",
    "  plt.legend()\n",
    "  plt.show()"
   ]
  },
  {
   "cell_type": "code",
   "execution_count": 13,
   "metadata": {
    "colab": {
     "base_uri": "https://localhost:8080/",
     "height": 478
    },
    "executionInfo": {
     "elapsed": 22140,
     "status": "ok",
     "timestamp": 1646684718388,
     "user": {
      "displayName": "Daniel Gillick",
      "photoUrl": "https://lh3.googleusercontent.com/a-/AOh14Gg9DrSMlwYnG9EolecuJqe8n9m7fpcje4_UbYrhQ10=s64",
      "userId": "01872965353911650729"
     },
     "user_tz": 600
    },
    "id": "MyE4PgX70_op",
    "outputId": "3de05dfa-f372-4b77-ba43-f212c2f47c1e"
   },
   "outputs": [
    {
     "name": "stdout",
     "output_type": "stream",
     "text": [
      "Epoch 1/5\n",
      "\u001b[1m352/352\u001b[0m \u001b[32m━━━━━━━━━━━━━━━━━━━━\u001b[0m\u001b[37m\u001b[0m \u001b[1m2s\u001b[0m 4ms/step - accuracy: 0.5508 - loss: 0.6878 - val_accuracy: 0.6104 - val_loss: 0.6745\n",
      "Epoch 2/5\n",
      "\u001b[1m352/352\u001b[0m \u001b[32m━━━━━━━━━━━━━━━━━━━━\u001b[0m\u001b[37m\u001b[0m \u001b[1m1s\u001b[0m 3ms/step - accuracy: 0.6904 - loss: 0.6517 - val_accuracy: 0.6188 - val_loss: 0.6625\n",
      "Epoch 3/5\n",
      "\u001b[1m352/352\u001b[0m \u001b[32m━━━━━━━━━━━━━━━━━━━━\u001b[0m\u001b[37m\u001b[0m \u001b[1m1s\u001b[0m 2ms/step - accuracy: 0.7272 - loss: 0.6229 - val_accuracy: 0.6248 - val_loss: 0.6539\n",
      "Epoch 4/5\n",
      "\u001b[1m352/352\u001b[0m \u001b[32m━━━━━━━━━━━━━━━━━━━━\u001b[0m\u001b[37m\u001b[0m \u001b[1m1s\u001b[0m 2ms/step - accuracy: 0.7451 - loss: 0.5988 - val_accuracy: 0.6300 - val_loss: 0.6474\n",
      "Epoch 5/5\n",
      "\u001b[1m352/352\u001b[0m \u001b[32m━━━━━━━━━━━━━━━━━━━━\u001b[0m\u001b[37m\u001b[0m \u001b[1m1s\u001b[0m 2ms/step - accuracy: 0.7623 - loss: 0.5780 - val_accuracy: 0.6320 - val_loss: 0.6424\n"
     ]
    },
    {
     "data": {
      "text/html": [
       "<pre style=\"white-space:pre;overflow-x:auto;line-height:normal;font-family:Menlo,'DejaVu Sans Mono',consolas,'Courier New',monospace\"><span style=\"font-weight: bold\">Model: \"sequential\"</span>\n",
       "</pre>\n"
      ],
      "text/plain": [
       "\u001b[1mModel: \"sequential\"\u001b[0m\n"
      ]
     },
     "metadata": {},
     "output_type": "display_data"
    },
    {
     "data": {
      "text/html": [
       "<pre style=\"white-space:pre;overflow-x:auto;line-height:normal;font-family:Menlo,'DejaVu Sans Mono',consolas,'Courier New',monospace\">┏━━━━━━━━━━━━━━━━━━━━━━━━━━━━━━━━━┳━━━━━━━━━━━━━━━━━━━━━━━━┳━━━━━━━━━━━━━━━┓\n",
       "┃<span style=\"font-weight: bold\"> Layer (type)                    </span>┃<span style=\"font-weight: bold\"> Output Shape           </span>┃<span style=\"font-weight: bold\">       Param # </span>┃\n",
       "┡━━━━━━━━━━━━━━━━━━━━━━━━━━━━━━━━━╇━━━━━━━━━━━━━━━━━━━━━━━━╇━━━━━━━━━━━━━━━┩\n",
       "│ flatten (<span style=\"color: #0087ff; text-decoration-color: #0087ff\">Flatten</span>)               │ (<span style=\"color: #00d7ff; text-decoration-color: #00d7ff\">None</span>, <span style=\"color: #00af00; text-decoration-color: #00af00\">20000</span>)          │             <span style=\"color: #00af00; text-decoration-color: #00af00\">0</span> │\n",
       "├─────────────────────────────────┼────────────────────────┼───────────────┤\n",
       "│ dense (<span style=\"color: #0087ff; text-decoration-color: #0087ff\">Dense</span>)                   │ (<span style=\"color: #00d7ff; text-decoration-color: #00d7ff\">None</span>, <span style=\"color: #00af00; text-decoration-color: #00af00\">1</span>)              │        <span style=\"color: #00af00; text-decoration-color: #00af00\">20,001</span> │\n",
       "└─────────────────────────────────┴────────────────────────┴───────────────┘\n",
       "</pre>\n"
      ],
      "text/plain": [
       "┏━━━━━━━━━━━━━━━━━━━━━━━━━━━━━━━━━┳━━━━━━━━━━━━━━━━━━━━━━━━┳━━━━━━━━━━━━━━━┓\n",
       "┃\u001b[1m \u001b[0m\u001b[1mLayer (type)                   \u001b[0m\u001b[1m \u001b[0m┃\u001b[1m \u001b[0m\u001b[1mOutput Shape          \u001b[0m\u001b[1m \u001b[0m┃\u001b[1m \u001b[0m\u001b[1m      Param #\u001b[0m\u001b[1m \u001b[0m┃\n",
       "┡━━━━━━━━━━━━━━━━━━━━━━━━━━━━━━━━━╇━━━━━━━━━━━━━━━━━━━━━━━━╇━━━━━━━━━━━━━━━┩\n",
       "│ flatten (\u001b[38;5;33mFlatten\u001b[0m)               │ (\u001b[38;5;45mNone\u001b[0m, \u001b[38;5;34m20000\u001b[0m)          │             \u001b[38;5;34m0\u001b[0m │\n",
       "├─────────────────────────────────┼────────────────────────┼───────────────┤\n",
       "│ dense (\u001b[38;5;33mDense\u001b[0m)                   │ (\u001b[38;5;45mNone\u001b[0m, \u001b[38;5;34m1\u001b[0m)              │        \u001b[38;5;34m20,001\u001b[0m │\n",
       "└─────────────────────────────────┴────────────────────────┴───────────────┘\n"
      ]
     },
     "metadata": {},
     "output_type": "display_data"
    },
    {
     "data": {
      "text/html": [
       "<pre style=\"white-space:pre;overflow-x:auto;line-height:normal;font-family:Menlo,'DejaVu Sans Mono',consolas,'Courier New',monospace\"><span style=\"font-weight: bold\"> Total params: </span><span style=\"color: #00af00; text-decoration-color: #00af00\">60,005</span> (234.40 KB)\n",
       "</pre>\n"
      ],
      "text/plain": [
       "\u001b[1m Total params: \u001b[0m\u001b[38;5;34m60,005\u001b[0m (234.40 KB)\n"
      ]
     },
     "metadata": {},
     "output_type": "display_data"
    },
    {
     "data": {
      "text/html": [
       "<pre style=\"white-space:pre;overflow-x:auto;line-height:normal;font-family:Menlo,'DejaVu Sans Mono',consolas,'Courier New',monospace\"><span style=\"font-weight: bold\"> Trainable params: </span><span style=\"color: #00af00; text-decoration-color: #00af00\">20,001</span> (78.13 KB)\n",
       "</pre>\n"
      ],
      "text/plain": [
       "\u001b[1m Trainable params: \u001b[0m\u001b[38;5;34m20,001\u001b[0m (78.13 KB)\n"
      ]
     },
     "metadata": {},
     "output_type": "display_data"
    },
    {
     "data": {
      "text/html": [
       "<pre style=\"white-space:pre;overflow-x:auto;line-height:normal;font-family:Menlo,'DejaVu Sans Mono',consolas,'Courier New',monospace\"><span style=\"font-weight: bold\"> Non-trainable params: </span><span style=\"color: #00af00; text-decoration-color: #00af00\">0</span> (0.00 B)\n",
       "</pre>\n"
      ],
      "text/plain": [
       "\u001b[1m Non-trainable params: \u001b[0m\u001b[38;5;34m0\u001b[0m (0.00 B)\n"
      ]
     },
     "metadata": {},
     "output_type": "display_data"
    },
    {
     "data": {
      "text/html": [
       "<pre style=\"white-space:pre;overflow-x:auto;line-height:normal;font-family:Menlo,'DejaVu Sans Mono',consolas,'Courier New',monospace\"><span style=\"font-weight: bold\"> Optimizer params: </span><span style=\"color: #00af00; text-decoration-color: #00af00\">40,004</span> (156.27 KB)\n",
       "</pre>\n"
      ],
      "text/plain": [
       "\u001b[1m Optimizer params: \u001b[0m\u001b[38;5;34m40,004\u001b[0m (156.27 KB)\n"
      ]
     },
     "metadata": {},
     "output_type": "display_data"
    },
    {
     "data": {
      "image/png": "[encoded data removed]",
      "text/plain": [
       "<Figure size 640x480 with 1 Axes>"
      ]
     },
     "metadata": {},
     "output_type": "display_data"
    }
   ],
   "source": [
    "model1 = build_onehot_model()\n",
    "\n",
    "# Fit the model.\n",
    "history1 = model1.fit(\n",
    "  x = X_train_one_hot,  # one-hot training data\n",
    "  y = Y_train,          # corresponding binary labels\n",
    "  epochs=5,             # number of passes through the training data\n",
    "  batch_size=64,        # mini-batch size\n",
    "  validation_split=0.1, # use a fraction of the examples for validation\n",
    "  verbose=1             # display some progress output during training\n",
    "  )\n",
    "\n",
    "model1.summary()\n",
    "# Convert the return value into a DataFrame so we can see the train loss \n",
    "# and binary accuracy after every epoch.\n",
    "history1 = pd.DataFrame(history1.history)\n",
    "plot_history(history1)"
   ]
  },
  {
   "cell_type": "code",
   "execution_count": 14,
   "metadata": {},
   "outputs": [
    {
     "name": "stdout",
     "output_type": "stream",
     "text": [
      "Epoch 1/5\n",
      "\u001b[1m352/352\u001b[0m \u001b[32m━━━━━━━━━━━━━━━━━━━━\u001b[0m\u001b[37m\u001b[0m \u001b[1m2s\u001b[0m 3ms/step - accuracy: 0.5363 - loss: 0.6927 - val_accuracy: 0.5924 - val_loss: 0.6902\n",
      "Epoch 2/5\n",
      "\u001b[1m352/352\u001b[0m \u001b[32m━━━━━━━━━━━━━━━━━━━━\u001b[0m\u001b[37m\u001b[0m \u001b[1m1s\u001b[0m 3ms/step - accuracy: 0.6180 - loss: 0.6889 - val_accuracy: 0.6092 - val_loss: 0.6869\n",
      "Epoch 3/5\n",
      "\u001b[1m352/352\u001b[0m \u001b[32m━━━━━━━━━━━━━━━━━━━━\u001b[0m\u001b[37m\u001b[0m \u001b[1m1s\u001b[0m 2ms/step - accuracy: 0.6299 - loss: 0.6854 - val_accuracy: 0.6164 - val_loss: 0.6838\n",
      "Epoch 4/5\n",
      "\u001b[1m352/352\u001b[0m \u001b[32m━━━━━━━━━━━━━━━━━━━━\u001b[0m\u001b[37m\u001b[0m \u001b[1m1s\u001b[0m 2ms/step - accuracy: 0.6358 - loss: 0.6821 - val_accuracy: 0.6184 - val_loss: 0.6808\n",
      "Epoch 5/5\n",
      "\u001b[1m352/352\u001b[0m \u001b[32m━━━━━━━━━━━━━━━━━━━━\u001b[0m\u001b[37m\u001b[0m \u001b[1m1s\u001b[0m 3ms/step - accuracy: 0.6386 - loss: 0.6791 - val_accuracy: 0.6240 - val_loss: 0.6781\n"
     ]
    },
    {
     "data": {
      "text/html": [
       "<pre style=\"white-space:pre;overflow-x:auto;line-height:normal;font-family:Menlo,'DejaVu Sans Mono',consolas,'Courier New',monospace\"><span style=\"font-weight: bold\">Model: \"sequential\"</span>\n",
       "</pre>\n"
      ],
      "text/plain": [
       "\u001b[1mModel: \"sequential\"\u001b[0m\n"
      ]
     },
     "metadata": {},
     "output_type": "display_data"
    },
    {
     "data": {
      "text/html": [
       "<pre style=\"white-space:pre;overflow-x:auto;line-height:normal;font-family:Menlo,'DejaVu Sans Mono',consolas,'Courier New',monospace\">┏━━━━━━━━━━━━━━━━━━━━━━━━━━━━━━━━━┳━━━━━━━━━━━━━━━━━━━━━━━━┳━━━━━━━━━━━━━━━┓\n",
       "┃<span style=\"font-weight: bold\"> Layer (type)                    </span>┃<span style=\"font-weight: bold\"> Output Shape           </span>┃<span style=\"font-weight: bold\">       Param # </span>┃\n",
       "┡━━━━━━━━━━━━━━━━━━━━━━━━━━━━━━━━━╇━━━━━━━━━━━━━━━━━━━━━━━━╇━━━━━━━━━━━━━━━┩\n",
       "│ global_average_pooling1d        │ (<span style=\"color: #00d7ff; text-decoration-color: #00d7ff\">None</span>, <span style=\"color: #00af00; text-decoration-color: #00af00\">1000</span>)           │             <span style=\"color: #00af00; text-decoration-color: #00af00\">0</span> │\n",
       "│ (<span style=\"color: #0087ff; text-decoration-color: #0087ff\">GlobalAveragePooling1D</span>)        │                        │               │\n",
       "├─────────────────────────────────┼────────────────────────┼───────────────┤\n",
       "│ dense (<span style=\"color: #0087ff; text-decoration-color: #0087ff\">Dense</span>)                   │ (<span style=\"color: #00d7ff; text-decoration-color: #00d7ff\">None</span>, <span style=\"color: #00af00; text-decoration-color: #00af00\">1</span>)              │         <span style=\"color: #00af00; text-decoration-color: #00af00\">1,001</span> │\n",
       "└─────────────────────────────────┴────────────────────────┴───────────────┘\n",
       "</pre>\n"
      ],
      "text/plain": [
       "┏━━━━━━━━━━━━━━━━━━━━━━━━━━━━━━━━━┳━━━━━━━━━━━━━━━━━━━━━━━━┳━━━━━━━━━━━━━━━┓\n",
       "┃\u001b[1m \u001b[0m\u001b[1mLayer (type)                   \u001b[0m\u001b[1m \u001b[0m┃\u001b[1m \u001b[0m\u001b[1mOutput Shape          \u001b[0m\u001b[1m \u001b[0m┃\u001b[1m \u001b[0m\u001b[1m      Param #\u001b[0m\u001b[1m \u001b[0m┃\n",
       "┡━━━━━━━━━━━━━━━━━━━━━━━━━━━━━━━━━╇━━━━━━━━━━━━━━━━━━━━━━━━╇━━━━━━━━━━━━━━━┩\n",
       "│ global_average_pooling1d        │ (\u001b[38;5;45mNone\u001b[0m, \u001b[38;5;34m1000\u001b[0m)           │             \u001b[38;5;34m0\u001b[0m │\n",
       "│ (\u001b[38;5;33mGlobalAveragePooling1D\u001b[0m)        │                        │               │\n",
       "├─────────────────────────────────┼────────────────────────┼───────────────┤\n",
       "│ dense (\u001b[38;5;33mDense\u001b[0m)                   │ (\u001b[38;5;45mNone\u001b[0m, \u001b[38;5;34m1\u001b[0m)              │         \u001b[38;5;34m1,001\u001b[0m │\n",
       "└─────────────────────────────────┴────────────────────────┴───────────────┘\n"
      ]
     },
     "metadata": {},
     "output_type": "display_data"
    },
    {
     "data": {
      "text/html": [
       "<pre style=\"white-space:pre;overflow-x:auto;line-height:normal;font-family:Menlo,'DejaVu Sans Mono',consolas,'Courier New',monospace\"><span style=\"font-weight: bold\"> Total params: </span><span style=\"color: #00af00; text-decoration-color: #00af00\">3,005</span> (11.74 KB)\n",
       "</pre>\n"
      ],
      "text/plain": [
       "\u001b[1m Total params: \u001b[0m\u001b[38;5;34m3,005\u001b[0m (11.74 KB)\n"
      ]
     },
     "metadata": {},
     "output_type": "display_data"
    },
    {
     "data": {
      "text/html": [
       "<pre style=\"white-space:pre;overflow-x:auto;line-height:normal;font-family:Menlo,'DejaVu Sans Mono',consolas,'Courier New',monospace\"><span style=\"font-weight: bold\"> Trainable params: </span><span style=\"color: #00af00; text-decoration-color: #00af00\">1,001</span> (3.91 KB)\n",
       "</pre>\n"
      ],
      "text/plain": [
       "\u001b[1m Trainable params: \u001b[0m\u001b[38;5;34m1,001\u001b[0m (3.91 KB)\n"
      ]
     },
     "metadata": {},
     "output_type": "display_data"
    },
    {
     "data": {
      "text/html": [
       "<pre style=\"white-space:pre;overflow-x:auto;line-height:normal;font-family:Menlo,'DejaVu Sans Mono',consolas,'Courier New',monospace\"><span style=\"font-weight: bold\"> Non-trainable params: </span><span style=\"color: #00af00; text-decoration-color: #00af00\">0</span> (0.00 B)\n",
       "</pre>\n"
      ],
      "text/plain": [
       "\u001b[1m Non-trainable params: \u001b[0m\u001b[38;5;34m0\u001b[0m (0.00 B)\n"
      ]
     },
     "metadata": {},
     "output_type": "display_data"
    },
    {
     "data": {
      "text/html": [
       "<pre style=\"white-space:pre;overflow-x:auto;line-height:normal;font-family:Menlo,'DejaVu Sans Mono',consolas,'Courier New',monospace\"><span style=\"font-weight: bold\"> Optimizer params: </span><span style=\"color: #00af00; text-decoration-color: #00af00\">2,004</span> (7.83 KB)\n",
       "</pre>\n"
      ],
      "text/plain": [
       "\u001b[1m Optimizer params: \u001b[0m\u001b[38;5;34m2,004\u001b[0m (7.83 KB)\n"
      ]
     },
     "metadata": {},
     "output_type": "display_data"
    },
    {
     "data": {
      "image/png": "[encoded data removed]",
      "text/plain": [
       "<Figure size 640x480 with 1 Axes>"
      ]
     },
     "metadata": {},
     "output_type": "display_data"
    }
   ],
   "source": [
    "model_avg = build_onehot_model(average_over_positions=True)\n",
    "\n",
    "# Fit the model.\n",
    "history_avg = model_avg.fit(\n",
    "  x = X_train_one_hot,  # one-hot training data\n",
    "  y = Y_train,          # corresponding binary labels\n",
    "  epochs=5,             # number of passes through the training data\n",
    "  batch_size=64,        # mini-batch size\n",
    "  validation_split=0.1, # use a fraction of the examples for validation\n",
    "  verbose=1             # display some progress output during training\n",
    "  )\n",
    "\n",
    "model_avg.summary()\n",
    "# Convert the return value into a DataFrame so we can see the train loss \n",
    "# and binary accuracy after every epoch.\n",
    "history_avg = pd.DataFrame(history_avg.history)\n",
    "plot_history(history_avg)"
   ]
  },
  {
   "cell_type": "markdown",
   "metadata": {},
   "source": [
    "### <span style=\"color:chocolate\">Exercise 6:</span>  Comparing logistic regression models (20 points)"
   ]
  },
  {
   "cell_type": "markdown",
   "metadata": {
    "id": "QuCh9aQPv7F_"
   },
   "source": [
    "Train the one-hot model using both the concatenating and the averaging strategies and compare the results. Let's call these *LR-C* (Logistic Regression Concatenating) and *LR-A* (Logistic Regression Averaging). Then answer the following questions:\n",
    "\n",
    "1. What are the final training and validation accuracies for LR-C and LR-A?\n",
    "2. How many parameters are there in each model?\n",
    "3. Would you say that either model is overfitting? Why or why not?\n",
    "4. Briefly describe how LR-C differs from LR-A. How do you explain the relationship between their respective validation accuracy results? "
   ]
  },
  {
   "cell_type": "markdown",
   "metadata": {
    "id": "CEAN5BejHc__"
   },
   "source": [
    "*Written answer:*\n",
    "\n",
    "1. <b>Final Training and Validation Accuracies </b>\n",
    "\n",
    "Model with Concatenation (Flatten) - LR-C:\n",
    "\n",
    "        Final Training Accuracy: 76.23%\n",
    "\n",
    "        Final Validation Accuracy: 63.20%\n",
    "\n",
    "Model with Averaging (Global Average Pooling) - LR-A:\n",
    "\n",
    "        Final Training Accuracy: 63.86%\n",
    "\n",
    "        Final Validation Accuracy: 62.40%\n",
    "\n",
    "2. <b>Number of Parameters in Each Model</b>\n",
    "\n",
    "LR-C (Concatenating/Flatten):\n",
    "\n",
    "    Total Parameters: 60,005\n",
    "\n",
    "    Trainable Parameters: 20,001\n",
    "\n",
    "    Non-Trainable Parameters: 0\n",
    "\n",
    "    Optimizer Parameters: 40,004\n",
    "\n",
    "LR-A (Averaging/Global Average Pooling):\n",
    "\n",
    "    Total Parameters: 3,005\n",
    "\n",
    "    Trainable Parameters: 1,001\n",
    "\n",
    "    Non-Trainable Parameters: 0\n",
    "\n",
    "    Optimizer Parameters: 2,004\n",
    "\n",
    "3. <b>analysis of both models: </b>\n",
    "\n",
    "LR-C (Concatenating/Flatten):\n",
    "This model achieves higher training accuracy (76.23%) compared to validation accuracy (63.20%). \n",
    "The gap between training and validation accuracy suggests that this model might be overfitting, i.e., it performs well on the training data but doesn't generalizes well on the validation data.\n",
    "\n",
    "LR-A (Averaging/Global Average Pooling):\n",
    "Model has less parameter i.e. 3,005 and is less prone to overfitting. The gap between  training accuracy (63.86%) and validation accuracy (62.40%) is smaller suggesting this generalized better than LR-C model.\n",
    "\n",
    "4. \n",
    "LR-C model flattens the one- hot encoded input and treat's token position independently which makes the model parameter larger and is prone to overfitting vs LR-A averages the token embedding across the sequence positions. \n",
    "This reduces the number of feature and helps generalize the model better as indicated by small gaps between training and validation accuracy gap.\n"
   ]
  },
  {
   "cell_type": "markdown",
   "metadata": {},
   "source": [
    "### <span style=\"color:chocolate\">Improvement over baseline:</span> Logistic regression with embeddings"
   ]
  },
  {
   "cell_type": "markdown",
   "metadata": {
    "id": "sJIBRqK7lsjG"
   },
   "source": [
    "Next, you will train a model that replaces one-hot representations of each token with learned embeddings.\n",
    "\n",
    "The code below uses a Keras Embedding layer, which expects to receive a sparse (rather than one-hot) representation. That is, it expects a (padded) sequence of token ids; for each id, it looks up the corresponding embedding vector."
   ]
  },
  {
   "cell_type": "code",
   "execution_count": 15,
   "metadata": {
    "id": "ho6uOeCaBs2e"
   },
   "outputs": [],
   "source": [
    "def build_embeddings_model(average_over_positions=False,\n",
    "                           vocab_size=1000,\n",
    "                           sequence_length=20,\n",
    "                           embedding_dim=2):\n",
    "  \"\"\"Build a tf.keras model using embeddings.\"\"\"\n",
    "  # Clear session and remove randomness.\n",
    "  tf.keras.backend.clear_session()\n",
    "  tf.random.set_seed(0)\n",
    "\n",
    "  model = tf.keras.Sequential()\n",
    "  model.add(tf.keras.layers.Embedding(\n",
    "      input_dim=vocab_size,\n",
    "      output_dim=embedding_dim,\n",
    "      input_length=sequence_length)\n",
    "  )\n",
    "\n",
    "  if average_over_positions:\n",
    "    # This layer averages over the first dimension of the input by default.\n",
    "    model.add(tf.keras.layers.GlobalAveragePooling1D())\n",
    "  else:\n",
    "    # Concatenate.\n",
    "    model.add(tf.keras.layers.Flatten())\n",
    "      \n",
    "  model.add(tf.keras.layers.Dense(\n",
    "      units=1,                     # output dim (for binary classification)\n",
    "      activation='sigmoid'         # apply the sigmoid function!\n",
    "  ))\n",
    "\n",
    "  model.compile(loss='binary_crossentropy', \n",
    "                optimizer='adam',\n",
    "                metrics=['accuracy'])\n",
    "\n",
    "  return model"
   ]
  },
  {
   "cell_type": "markdown",
   "metadata": {
    "id": "eyhoEjAiFSNB"
   },
   "source": [
    "You will train this model, this time using the averaging strategy instead of the concatenating strategy for handling the token sequence. You'll look up the embedding vectors for each token and average them to produce a single vector. Then, you'll use this averaged vector to train a logistic regression model to predict the binary label."
   ]
  },
  {
   "cell_type": "code",
   "execution_count": 16,
   "metadata": {
    "colab": {
     "base_uri": "https://localhost:8080/",
     "height": 478
    },
    "executionInfo": {
     "elapsed": 5490,
     "status": "ok",
     "timestamp": 1646684762935,
     "user": {
      "displayName": "Daniel Gillick",
      "photoUrl": "https://lh3.googleusercontent.com/a-/AOh14Gg9DrSMlwYnG9EolecuJqe8n9m7fpcje4_UbYrhQ10=s64",
      "userId": "01872965353911650729"
     },
     "user_tz": 600
    },
    "id": "uYUE5UwkxoU8",
    "outputId": "20a4c237-8c49-4b24-9ea1-e0f325cb9908"
   },
   "outputs": [
    {
     "name": "stdout",
     "output_type": "stream",
     "text": [
      "Epoch 1/5\n"
     ]
    },
    {
     "name": "stderr",
     "output_type": "stream",
     "text": [
      "/opt/anaconda3/lib/python3.12/site-packages/keras/src/layers/core/embedding.py:90: UserWarning: Argument `input_length` is deprecated. Just remove it.\n",
      "  warnings.warn(\n"
     ]
    },
    {
     "name": "stdout",
     "output_type": "stream",
     "text": [
      "\u001b[1m352/352\u001b[0m \u001b[32m━━━━━━━━━━━━━━━━━━━━\u001b[0m\u001b[37m\u001b[0m \u001b[1m2s\u001b[0m 2ms/step - accuracy: 0.5553 - loss: 0.6913 - val_accuracy: 0.6036 - val_loss: 0.6835\n",
      "Epoch 2/5\n",
      "\u001b[1m352/352\u001b[0m \u001b[32m━━━━━━━━━━━━━━━━━━━━\u001b[0m\u001b[37m\u001b[0m \u001b[1m1s\u001b[0m 1ms/step - accuracy: 0.6186 - loss: 0.6793 - val_accuracy: 0.6208 - val_loss: 0.6686\n",
      "Epoch 3/5\n",
      "\u001b[1m352/352\u001b[0m \u001b[32m━━━━━━━━━━━━━━━━━━━━\u001b[0m\u001b[37m\u001b[0m \u001b[1m1s\u001b[0m 2ms/step - accuracy: 0.6424 - loss: 0.6630 - val_accuracy: 0.6332 - val_loss: 0.6528\n",
      "Epoch 4/5\n",
      "\u001b[1m352/352\u001b[0m \u001b[32m━━━━━━━━━━━━━━━━━━━━\u001b[0m\u001b[37m\u001b[0m \u001b[1m1s\u001b[0m 1ms/step - accuracy: 0.6587 - loss: 0.6461 - val_accuracy: 0.6460 - val_loss: 0.6386\n",
      "Epoch 5/5\n",
      "\u001b[1m352/352\u001b[0m \u001b[32m━━━━━━━━━━━━━━━━━━━━\u001b[0m\u001b[37m\u001b[0m \u001b[1m1s\u001b[0m 1ms/step - accuracy: 0.6665 - loss: 0.6307 - val_accuracy: 0.6536 - val_loss: 0.6266\n"
     ]
    },
    {
     "data": {
      "text/html": [
       "<pre style=\"white-space:pre;overflow-x:auto;line-height:normal;font-family:Menlo,'DejaVu Sans Mono',consolas,'Courier New',monospace\"><span style=\"font-weight: bold\">Model: \"sequential\"</span>\n",
       "</pre>\n"
      ],
      "text/plain": [
       "\u001b[1mModel: \"sequential\"\u001b[0m\n"
      ]
     },
     "metadata": {},
     "output_type": "display_data"
    },
    {
     "data": {
      "text/html": [
       "<pre style=\"white-space:pre;overflow-x:auto;line-height:normal;font-family:Menlo,'DejaVu Sans Mono',consolas,'Courier New',monospace\">┏━━━━━━━━━━━━━━━━━━━━━━━━━━━━━━━━━┳━━━━━━━━━━━━━━━━━━━━━━━━┳━━━━━━━━━━━━━━━┓\n",
       "┃<span style=\"font-weight: bold\"> Layer (type)                    </span>┃<span style=\"font-weight: bold\"> Output Shape           </span>┃<span style=\"font-weight: bold\">       Param # </span>┃\n",
       "┡━━━━━━━━━━━━━━━━━━━━━━━━━━━━━━━━━╇━━━━━━━━━━━━━━━━━━━━━━━━╇━━━━━━━━━━━━━━━┩\n",
       "│ embedding (<span style=\"color: #0087ff; text-decoration-color: #0087ff\">Embedding</span>)           │ (<span style=\"color: #00d7ff; text-decoration-color: #00d7ff\">None</span>, <span style=\"color: #00af00; text-decoration-color: #00af00\">20</span>, <span style=\"color: #00af00; text-decoration-color: #00af00\">2</span>)          │         <span style=\"color: #00af00; text-decoration-color: #00af00\">2,000</span> │\n",
       "├─────────────────────────────────┼────────────────────────┼───────────────┤\n",
       "│ global_average_pooling1d        │ (<span style=\"color: #00d7ff; text-decoration-color: #00d7ff\">None</span>, <span style=\"color: #00af00; text-decoration-color: #00af00\">2</span>)              │             <span style=\"color: #00af00; text-decoration-color: #00af00\">0</span> │\n",
       "│ (<span style=\"color: #0087ff; text-decoration-color: #0087ff\">GlobalAveragePooling1D</span>)        │                        │               │\n",
       "├─────────────────────────────────┼────────────────────────┼───────────────┤\n",
       "│ dense (<span style=\"color: #0087ff; text-decoration-color: #0087ff\">Dense</span>)                   │ (<span style=\"color: #00d7ff; text-decoration-color: #00d7ff\">None</span>, <span style=\"color: #00af00; text-decoration-color: #00af00\">1</span>)              │             <span style=\"color: #00af00; text-decoration-color: #00af00\">3</span> │\n",
       "└─────────────────────────────────┴────────────────────────┴───────────────┘\n",
       "</pre>\n"
      ],
      "text/plain": [
       "┏━━━━━━━━━━━━━━━━━━━━━━━━━━━━━━━━━┳━━━━━━━━━━━━━━━━━━━━━━━━┳━━━━━━━━━━━━━━━┓\n",
       "┃\u001b[1m \u001b[0m\u001b[1mLayer (type)                   \u001b[0m\u001b[1m \u001b[0m┃\u001b[1m \u001b[0m\u001b[1mOutput Shape          \u001b[0m\u001b[1m \u001b[0m┃\u001b[1m \u001b[0m\u001b[1m      Param #\u001b[0m\u001b[1m \u001b[0m┃\n",
       "┡━━━━━━━━━━━━━━━━━━━━━━━━━━━━━━━━━╇━━━━━━━━━━━━━━━━━━━━━━━━╇━━━━━━━━━━━━━━━┩\n",
       "│ embedding (\u001b[38;5;33mEmbedding\u001b[0m)           │ (\u001b[38;5;45mNone\u001b[0m, \u001b[38;5;34m20\u001b[0m, \u001b[38;5;34m2\u001b[0m)          │         \u001b[38;5;34m2,000\u001b[0m │\n",
       "├─────────────────────────────────┼────────────────────────┼───────────────┤\n",
       "│ global_average_pooling1d        │ (\u001b[38;5;45mNone\u001b[0m, \u001b[38;5;34m2\u001b[0m)              │             \u001b[38;5;34m0\u001b[0m │\n",
       "│ (\u001b[38;5;33mGlobalAveragePooling1D\u001b[0m)        │                        │               │\n",
       "├─────────────────────────────────┼────────────────────────┼───────────────┤\n",
       "│ dense (\u001b[38;5;33mDense\u001b[0m)                   │ (\u001b[38;5;45mNone\u001b[0m, \u001b[38;5;34m1\u001b[0m)              │             \u001b[38;5;34m3\u001b[0m │\n",
       "└─────────────────────────────────┴────────────────────────┴───────────────┘\n"
      ]
     },
     "metadata": {},
     "output_type": "display_data"
    },
    {
     "data": {
      "text/html": [
       "<pre style=\"white-space:pre;overflow-x:auto;line-height:normal;font-family:Menlo,'DejaVu Sans Mono',consolas,'Courier New',monospace\"><span style=\"font-weight: bold\"> Total params: </span><span style=\"color: #00af00; text-decoration-color: #00af00\">6,011</span> (23.48 KB)\n",
       "</pre>\n"
      ],
      "text/plain": [
       "\u001b[1m Total params: \u001b[0m\u001b[38;5;34m6,011\u001b[0m (23.48 KB)\n"
      ]
     },
     "metadata": {},
     "output_type": "display_data"
    },
    {
     "data": {
      "text/html": [
       "<pre style=\"white-space:pre;overflow-x:auto;line-height:normal;font-family:Menlo,'DejaVu Sans Mono',consolas,'Courier New',monospace\"><span style=\"font-weight: bold\"> Trainable params: </span><span style=\"color: #00af00; text-decoration-color: #00af00\">2,003</span> (7.82 KB)\n",
       "</pre>\n"
      ],
      "text/plain": [
       "\u001b[1m Trainable params: \u001b[0m\u001b[38;5;34m2,003\u001b[0m (7.82 KB)\n"
      ]
     },
     "metadata": {},
     "output_type": "display_data"
    },
    {
     "data": {
      "text/html": [
       "<pre style=\"white-space:pre;overflow-x:auto;line-height:normal;font-family:Menlo,'DejaVu Sans Mono',consolas,'Courier New',monospace\"><span style=\"font-weight: bold\"> Non-trainable params: </span><span style=\"color: #00af00; text-decoration-color: #00af00\">0</span> (0.00 B)\n",
       "</pre>\n"
      ],
      "text/plain": [
       "\u001b[1m Non-trainable params: \u001b[0m\u001b[38;5;34m0\u001b[0m (0.00 B)\n"
      ]
     },
     "metadata": {},
     "output_type": "display_data"
    },
    {
     "data": {
      "text/html": [
       "<pre style=\"white-space:pre;overflow-x:auto;line-height:normal;font-family:Menlo,'DejaVu Sans Mono',consolas,'Courier New',monospace\"><span style=\"font-weight: bold\"> Optimizer params: </span><span style=\"color: #00af00; text-decoration-color: #00af00\">4,008</span> (15.66 KB)\n",
       "</pre>\n"
      ],
      "text/plain": [
       "\u001b[1m Optimizer params: \u001b[0m\u001b[38;5;34m4,008\u001b[0m (15.66 KB)\n"
      ]
     },
     "metadata": {},
     "output_type": "display_data"
    },
    {
     "data": {
      "image/png": "[encoded data removed]",
      "text/plain": [
       "<Figure size 640x480 with 1 Axes>"
      ]
     },
     "metadata": {},
     "output_type": "display_data"
    }
   ],
   "source": [
    "model2 = build_embeddings_model(average_over_positions=True,\n",
    "                               vocab_size=1000,\n",
    "                               sequence_length=20,\n",
    "                               embedding_dim=2)\n",
    "history2 = model2.fit(\n",
    "  x = X_train_reduced,  # our sparse padded training data\n",
    "  y = Y_train,          # corresponding binary labels\n",
    "  epochs=5,             # number of passes through the training data\n",
    "  batch_size=64,        # mini-batch size\n",
    "  validation_split=0.1, # use a fraction of the examples for validation\n",
    "  verbose=1             # display some progress output during training\n",
    "  )\n",
    "\n",
    "model2.summary()\n",
    "\n",
    "history2 = pd.DataFrame(history2.history)\n",
    "plot_history(history2)"
   ]
  },
  {
   "cell_type": "markdown",
   "metadata": {},
   "source": [
    "### <span style=\"color:chocolate\">Exercise 7:</span> Embedding size tuning (20 points)"
   ]
  },
  {
   "cell_type": "markdown",
   "metadata": {
    "id": "V3k__61hFnag"
   },
   "source": [
    "Experiment with embedding sizes {2, 4, 8, 16, 32, 64}, while keeping other settings fixed and using the averaging strategy instead of the concatenating strategy. Then:\n",
    "\n",
    "1. Construct a table showing the training and validation accuracies for each model after 5 training epochs;\n",
    "2. Calculate the number of parameters in each model;\n",
    "3. Analyze whether learned embeddings improve performance compared to one-hot encoding, and explain why this might be the case."
   ]
  },
  {
   "cell_type": "code",
   "execution_count": null,
   "metadata": {},
   "outputs": [
    {
     "name": "stdout",
     "output_type": "stream",
     "text": [
      "Training model with embedding size: 2\n",
      "Epoch 1/5\n"
     ]
    },
    {
     "name": "stderr",
     "output_type": "stream",
     "text": [
      "/opt/anaconda3/lib/python3.12/site-packages/keras/src/layers/core/embedding.py:90: UserWarning:\n",
      "\n",
      "Argument `input_length` is deprecated. Just remove it.\n",
      "\n"
     ]
    },
    {
     "name": "stdout",
     "output_type": "stream",
     "text": [
      "\u001b[1m352/352\u001b[0m \u001b[32m━━━━━━━━━━━━━━━━━━━━\u001b[0m\u001b[37m\u001b[0m \u001b[1m2s\u001b[0m 2ms/step - accuracy: 0.5461 - loss: 0.6905 - val_accuracy: 0.6028 - val_loss: 0.6804\n",
      "Epoch 2/5\n",
      "\u001b[1m352/352\u001b[0m \u001b[32m━━━━━━━━━━━━━━━━━━━━\u001b[0m\u001b[37m\u001b[0m \u001b[1m1s\u001b[0m 2ms/step - accuracy: 0.6248 - loss: 0.6758 - val_accuracy: 0.6240 - val_loss: 0.6645\n",
      "Epoch 3/5\n",
      "\u001b[1m352/352\u001b[0m \u001b[32m━━━━━━━━━━━━━━━━━━━━\u001b[0m\u001b[37m\u001b[0m \u001b[1m1s\u001b[0m 1ms/step - accuracy: 0.6464 - loss: 0.6586 - val_accuracy: 0.6408 - val_loss: 0.6488\n",
      "Epoch 4/5\n",
      "\u001b[1m352/352\u001b[0m \u001b[32m━━━━━━━━━━━━━━━━━━━━\u001b[0m\u001b[37m\u001b[0m \u001b[1m1s\u001b[0m 2ms/step - accuracy: 0.6630 - loss: 0.6417 - val_accuracy: 0.6492 - val_loss: 0.6350\n",
      "Epoch 5/5\n",
      "\u001b[1m352/352\u001b[0m \u001b[32m━━━━━━━━━━━━━━━━━━━━\u001b[0m\u001b[37m\u001b[0m \u001b[1m1s\u001b[0m 1ms/step - accuracy: 0.6720 - loss: 0.6267 - val_accuracy: 0.6556 - val_loss: 0.6234\n",
      "Training model with embedding size: 4\n",
      "Epoch 1/5\n",
      "\u001b[1m352/352\u001b[0m \u001b[32m━━━━━━━━━━━━━━━━━━━━\u001b[0m\u001b[37m\u001b[0m \u001b[1m2s\u001b[0m 2ms/step - accuracy: 0.5585 - loss: 0.6907 - val_accuracy: 0.6104 - val_loss: 0.6793\n",
      "Epoch 2/5\n",
      "\u001b[1m352/352\u001b[0m \u001b[32m━━━━━━━━━━━━━━━━━━━━\u001b[0m\u001b[37m\u001b[0m \u001b[1m1s\u001b[0m 2ms/step - accuracy: 0.6314 - loss: 0.6726 - val_accuracy: 0.6292 - val_loss: 0.6568\n",
      "Epoch 3/5\n",
      "\u001b[1m352/352\u001b[0m \u001b[32m━━━━━━━━━━━━━━━━━━━━\u001b[0m\u001b[37m\u001b[0m \u001b[1m1s\u001b[0m 1ms/step - accuracy: 0.6520 - loss: 0.6483 - val_accuracy: 0.6460 - val_loss: 0.6362\n",
      "Epoch 4/5\n",
      "\u001b[1m352/352\u001b[0m \u001b[32m━━━━━━━━━━━━━━━━━━━━\u001b[0m\u001b[37m\u001b[0m \u001b[1m1s\u001b[0m 2ms/step - accuracy: 0.6687 - loss: 0.6264 - val_accuracy: 0.6584 - val_loss: 0.6203\n",
      "Epoch 5/5\n",
      "\u001b[1m352/352\u001b[0m \u001b[32m━━━━━━━━━━━━━━━━━━━━\u001b[0m\u001b[37m\u001b[0m \u001b[1m1s\u001b[0m 2ms/step - accuracy: 0.6811 - loss: 0.6092 - val_accuracy: 0.6640 - val_loss: 0.6085\n",
      "Training model with embedding size: 8\n",
      "Epoch 1/5\n",
      "\u001b[1m352/352\u001b[0m \u001b[32m━━━━━━━━━━━━━━━━━━━━\u001b[0m\u001b[37m\u001b[0m \u001b[1m2s\u001b[0m 2ms/step - accuracy: 0.5608 - loss: 0.6888 - val_accuracy: 0.6168 - val_loss: 0.6702\n",
      "Epoch 2/5\n",
      "\u001b[1m352/352\u001b[0m \u001b[32m━━━━━━━━━━━━━━━━━━━━\u001b[0m\u001b[37m\u001b[0m \u001b[1m1s\u001b[0m 2ms/step - accuracy: 0.6421 - loss: 0.6603 - val_accuracy: 0.6452 - val_loss: 0.6394\n",
      "Epoch 3/5\n",
      "\u001b[1m352/352\u001b[0m \u001b[32m━━━━━━━━━━━━━━━━━━━━\u001b[0m\u001b[37m\u001b[0m \u001b[1m1s\u001b[0m 2ms/step - accuracy: 0.6665 - loss: 0.6280 - val_accuracy: 0.6588 - val_loss: 0.6168\n",
      "Epoch 4/5\n",
      "\u001b[1m352/352\u001b[0m \u001b[32m━━━━━━━━━━━━━━━━━━━━\u001b[0m\u001b[37m\u001b[0m \u001b[1m1s\u001b[0m 2ms/step - accuracy: 0.6837 - loss: 0.6044 - val_accuracy: 0.6672 - val_loss: 0.6021\n",
      "Epoch 5/5\n",
      "\u001b[1m352/352\u001b[0m \u001b[32m━━━━━━━━━━━━━━━━━━━━\u001b[0m\u001b[37m\u001b[0m \u001b[1m1s\u001b[0m 2ms/step - accuracy: 0.6917 - loss: 0.5886 - val_accuracy: 0.6760 - val_loss: 0.5929\n",
      "Training model with embedding size: 16\n",
      "Epoch 1/5\n",
      "\u001b[1m352/352\u001b[0m \u001b[32m━━━━━━━━━━━━━━━━━━━━\u001b[0m\u001b[37m\u001b[0m \u001b[1m2s\u001b[0m 2ms/step - accuracy: 0.5682 - loss: 0.6870 - val_accuracy: 0.6280 - val_loss: 0.6596\n",
      "Epoch 2/5\n",
      "\u001b[1m352/352\u001b[0m \u001b[32m━━━━━━━━━━━━━━━━━━━━\u001b[0m\u001b[37m\u001b[0m \u001b[1m1s\u001b[0m 2ms/step - accuracy: 0.6552 - loss: 0.6456 - val_accuracy: 0.6528 - val_loss: 0.6214\n",
      "Epoch 3/5\n",
      "\u001b[1m352/352\u001b[0m \u001b[32m━━━━━━━━━━━━━━━━━━━━\u001b[0m\u001b[37m\u001b[0m \u001b[1m1s\u001b[0m 2ms/step - accuracy: 0.6815 - loss: 0.6076 - val_accuracy: 0.6672 - val_loss: 0.6001\n",
      "Epoch 4/5\n",
      "\u001b[1m352/352\u001b[0m \u001b[32m━━━━━━━━━━━━━━━━━━━━\u001b[0m\u001b[37m\u001b[0m \u001b[1m1s\u001b[0m 2ms/step - accuracy: 0.6920 - loss: 0.5858 - val_accuracy: 0.6800 - val_loss: 0.5893\n",
      "Epoch 5/5\n",
      "\u001b[1m352/352\u001b[0m \u001b[32m━━━━━━━━━━━━━━━━━━━━\u001b[0m\u001b[37m\u001b[0m \u001b[1m1s\u001b[0m 2ms/step - accuracy: 0.7001 - loss: 0.5735 - val_accuracy: 0.6876 - val_loss: 0.5841\n",
      "Training model with embedding size: 32\n",
      "Epoch 1/5\n",
      "\u001b[1m352/352\u001b[0m \u001b[32m━━━━━━━━━━━━━━━━━━━━\u001b[0m\u001b[37m\u001b[0m \u001b[1m2s\u001b[0m 2ms/step - accuracy: 0.5734 - loss: 0.6834 - val_accuracy: 0.6384 - val_loss: 0.6436\n",
      "Epoch 2/5\n",
      "\u001b[1m352/352\u001b[0m \u001b[32m━━━━━━━━━━━━━━━━━━━━\u001b[0m\u001b[37m\u001b[0m \u001b[1m1s\u001b[0m 2ms/step - accuracy: 0.6691 - loss: 0.6268 - val_accuracy: 0.6644 - val_loss: 0.6039\n",
      "Epoch 3/5\n",
      "\u001b[1m352/352\u001b[0m \u001b[32m━━━━━━━━━━━━━━━━━━━━\u001b[0m\u001b[37m\u001b[0m \u001b[1m1s\u001b[0m 2ms/step - accuracy: 0.6901 - loss: 0.5894 - val_accuracy: 0.6792 - val_loss: 0.5884\n",
      "Epoch 4/5\n",
      "\u001b[1m352/352\u001b[0m \u001b[32m━━━━━━━━━━━━━━━━━━━━\u001b[0m\u001b[37m\u001b[0m \u001b[1m1s\u001b[0m 2ms/step - accuracy: 0.6985 - loss: 0.5729 - val_accuracy: 0.6876 - val_loss: 0.5829\n",
      "Epoch 5/5\n",
      "\u001b[1m352/352\u001b[0m \u001b[32m━━━━━━━━━━━━━━━━━━━━\u001b[0m\u001b[37m\u001b[0m \u001b[1m1s\u001b[0m 2ms/step - accuracy: 0.7019 - loss: 0.5649 - val_accuracy: 0.6892 - val_loss: 0.5812\n",
      "Training model with embedding size: 64\n",
      "Epoch 1/5\n",
      "\u001b[1m352/352\u001b[0m \u001b[32m━━━━━━━━━━━━━━━━━━━━\u001b[0m\u001b[37m\u001b[0m \u001b[1m2s\u001b[0m 3ms/step - accuracy: 0.5795 - loss: 0.6798 - val_accuracy: 0.6528 - val_loss: 0.6268\n",
      "Epoch 2/5\n",
      "\u001b[1m352/352\u001b[0m \u001b[32m━━━━━━━━━━━━━━━━━━━━\u001b[0m\u001b[37m\u001b[0m \u001b[1m1s\u001b[0m 2ms/step - accuracy: 0.6762 - loss: 0.6092 - val_accuracy: 0.6776 - val_loss: 0.5919\n",
      "Epoch 3/5\n",
      "\u001b[1m352/352\u001b[0m \u001b[32m━━━━━━━━━━━━━━━━━━━━\u001b[0m\u001b[37m\u001b[0m \u001b[1m1s\u001b[0m 2ms/step - accuracy: 0.6942 - loss: 0.5774 - val_accuracy: 0.6856 - val_loss: 0.5833\n",
      "Epoch 4/5\n",
      "\u001b[1m352/352\u001b[0m \u001b[32m━━━━━━━━━━━━━━━━━━━━\u001b[0m\u001b[37m\u001b[0m \u001b[1m1s\u001b[0m 2ms/step - accuracy: 0.6994 - loss: 0.5663 - val_accuracy: 0.6864 - val_loss: 0.5816\n",
      "Epoch 5/5\n",
      "\u001b[1m352/352\u001b[0m \u001b[32m━━━━━━━━━━━━━━━━━━━━\u001b[0m\u001b[37m\u001b[0m \u001b[1m1s\u001b[0m 2ms/step - accuracy: 0.7001 - loss: 0.5615 - val_accuracy: 0.6928 - val_loss: 0.5815\n",
      "   Embedding Size  Train Accuracy  Validation Accuracy  Num Parameters\n",
      "0               2        0.671067               0.6556            2003\n",
      "1               4        0.679600               0.6640            4005\n",
      "2               8        0.691378               0.6760            8009\n",
      "3              16        0.699733               0.6876           16017\n",
      "4              32        0.703244               0.6892           32033\n",
      "5              64        0.702489               0.6928           64065\n"
     ]
    }
   ],
   "source": [
    "embedding_sizes = [2, 4, 8, 16, 32, 64]\n",
    "results = []\n",
    "\n",
    "for emb_size in embedding_sizes:\n",
    "    print(f\"Training model with embedding size: {emb_size}\")\n",
    "    \n",
    "    \n",
    "    model = build_embeddings_model(average_over_positions=True,\n",
    "                                   vocab_size=1000,\n",
    "                                   sequence_length=20,\n",
    "                                   embedding_dim=emb_size)\n",
    "    \n",
    "    history = model.fit(\n",
    "        x = X_train_reduced,  # sparse padded training data\n",
    "        y = Y_train,          # corresponding binary labels\n",
    "        epochs=5,             # number of epochs\n",
    "        batch_size=64,        # mini-batch size\n",
    "        validation_split=0.1, # use 10% of the data for validation\n",
    "        verbose=1             # display progress\n",
    "    )\n",
    "    \n",
    "    # Store the results: final training and validation accuracy\n",
    "    train_accuracy = history.history['accuracy'][-1]\n",
    "    val_accuracy = history.history['val_accuracy'][-1]\n",
    "    \n",
    "    # Calculate the number of parameters in the model\n",
    "    num_params = model.count_params()\n",
    "    \n",
    "    # Store the results\n",
    "    results.append({\n",
    "        'Embedding Size': emb_size,\n",
    "        'Train Accuracy': train_accuracy,\n",
    "        'Validation Accuracy': val_accuracy,\n",
    "        'Num Parameters': num_params\n",
    "    })\n",
    "\n",
    "# Convert results to a DataFrame\n",
    "results_df = pd.DataFrame(results)\n",
    "\n",
    "# Display the results\n",
    "print(results_df)\n"
   ]
  },
  {
   "cell_type": "markdown",
   "metadata": {
    "id": "O7t46ZdX2ofd"
   },
   "source": [
    "*Written answer:*\n",
    "\n",
    "1. \n",
    "\n",
    "    Embedding Size      Train Accuracy      Validation Accuracy     Num Parameters\n",
    "\n",
    "               2        0.671067               0.6556            2003\n",
    "\n",
    "               4        0.679600               0.6640            4005\n",
    "\n",
    "               8        0.691378               0.6760            8009\n",
    "\n",
    "              16        0.699733               0.6876           16017\n",
    "\n",
    "              32        0.703244               0.6892           32033\n",
    "\n",
    "              64        0.702489               0.6928           64065\n",
    "\n",
    "\n",
    "2. \n",
    "As indicated above in the table - the number of parameters increases with the embedding size.\n",
    "\n",
    "3. \n",
    " Learned embedding performs better than hot encoding as it capture complex patterns in the data more effectively.\n",
    " As shown above - as the embedding size increases, the model has more capture complex relationships between tokens amd the accuracy improves.\n"
   ]
  },
  {
   "cell_type": "markdown",
   "metadata": {},
   "source": [
    "---"
   ]
  },
  {
   "cell_type": "markdown",
   "metadata": {
    "id": "i2dWOuxqKHA6"
   },
   "source": [
    "### Inspecting Learned Embeddings\n",
    "You will now retrieve the learned embedding parameters from the trained model2 and plot the token embeddings.\n",
    "\n",
    "The model layers in a Keras Sequential model are stored as a list and the embeddings are the first layer. You can use the <span style=\"color:chocolate\">get_weights()</span> function to get a numpy array with the parameters."
   ]
  },
  {
   "cell_type": "code",
   "execution_count": 21,
   "metadata": {
    "colab": {
     "base_uri": "https://localhost:8080/",
     "height": 86
    },
    "executionInfo": {
     "elapsed": 355,
     "status": "ok",
     "timestamp": 1646684774106,
     "user": {
      "displayName": "Daniel Gillick",
      "photoUrl": "https://lh3.googleusercontent.com/a-/AOh14Gg9DrSMlwYnG9EolecuJqe8n9m7fpcje4_UbYrhQ10=s64",
      "userId": "01872965353911650729"
     },
     "user_tz": 600
    },
    "id": "bfsbGSwkaFjo",
    "outputId": "d9d74723-012f-464f-a9f3-8a41d8178868"
   },
   "outputs": [
    {
     "data": {
      "text/plain": [
       "[<Embedding name=embedding, built=True>,\n",
       " <GlobalAveragePooling1D name=global_average_pooling1d, built=True>,\n",
       " <Dense name=dense, built=True>]"
      ]
     },
     "metadata": {},
     "output_type": "display_data"
    },
    {
     "data": {
      "text/plain": [
       "(1000, 2)"
      ]
     },
     "metadata": {},
     "output_type": "display_data"
    }
   ],
   "source": [
    "# Display the model layers.\n",
    "display(model2.layers)\n",
    "\n",
    "# Retrieve the embeddings layer, which itself is wrapped in a list.\n",
    "embeddings2 = model2.layers[0].get_weights()[0]\n",
    "display(embeddings2.shape)"
   ]
  },
  {
   "cell_type": "markdown",
   "metadata": {
    "id": "apPWscNwcXTE"
   },
   "source": [
    "Now you'll use a fancy plotting tool called *plotly* to show the embeddings with hovertext so you can move your mouse over the points to see the corresponding tokens."
   ]
  },
  {
   "cell_type": "code",
   "execution_count": 22,
   "metadata": {
    "colab": {
     "base_uri": "https://localhost:8080/",
     "height": 542
    },
    "executionInfo": {
     "elapsed": 453,
     "status": "ok",
     "timestamp": 1646684778338,
     "user": {
      "displayName": "Daniel Gillick",
      "photoUrl": "https://lh3.googleusercontent.com/a-/AOh14Gg9DrSMlwYnG9EolecuJqe8n9m7fpcje4_UbYrhQ10=s64",
      "userId": "01872965353911650729"
     },
     "user_tz": 600
    },
    "id": "5RZMTrA0KttL",
    "outputId": "f5ec9b65-84bb-4c28-c673-cf86a87112df"
   },
   "outputs": [
    {
     "data": {
      "application/vnd.plotly.v1+json": {
       "config": {
        "plotlyServerURL": "https://plot.ly"
       },
       "data": [
        {
         "hoverinfo": "text",
         "mode": "markers",
         "text": [
          "game",
          "past",
          "able",
          "b",
          "days",
          "turns",
          "child",
          "they're",
          "hand",
          "flick",
          "enjoyed",
          "act",
          "genre",
          "town",
          "favorite",
          "soon",
          "kill",
          "starts",
          "sometimes",
          "car",
          "gave",
          "run",
          "late",
          "eyes",
          "actress",
          "etc",
          "directed",
          "horrible",
          "won't",
          "viewer",
          "brilliant",
          "parts",
          "self",
          "themselves",
          "hour",
          "expect",
          "thinking",
          "stories",
          "stuff",
          "girls",
          "obviously",
          "blood",
          "decent",
          "city",
          "voice",
          "highly",
          "myself",
          "feeling",
          "fight",
          "except",
          "slow",
          "matter",
          "type",
          "anyway",
          "kid",
          "roles",
          "killed",
          "heard",
          "god",
          "age",
          "says",
          "moment",
          "took",
          "leave",
          "writer",
          "strong",
          "cannot",
          "violence",
          "police",
          "hit",
          "stop",
          "happens",
          "particularly",
          "known",
          "involved",
          "happened",
          "extremely",
          "daughter",
          "obvious",
          "told",
          "chance",
          "living",
          "coming",
          "lack",
          "alone",
          "experience",
          "wouldn't",
          "including",
          "murder",
          "attempt",
          "s",
          "please",
          "james",
          "happen",
          "wonder",
          "crap",
          "ago",
          "brother",
          "film's",
          "gore",
          "none",
          "complete",
          "interest",
          "score",
          "group",
          "cut",
          "simple",
          "save",
          "ok",
          "hell",
          "looked",
          "career",
          "number",
          "song",
          "possible",
          "seriously",
          "annoying",
          "shown",
          "exactly",
          "sad",
          "running",
          "musical",
          "serious",
          "taken",
          "yourself",
          "whose",
          "released",
          "cinematography",
          "david",
          "scary",
          "ends",
          "english",
          "hero",
          "usually",
          "hours",
          "reality",
          "opening",
          "i'll",
          "across",
          "today",
          "jokes",
          "light",
          "hilarious",
          "somewhat",
          "usual",
          "started",
          "cool",
          "ridiculous",
          "body",
          "relationship",
          "view",
          "level",
          "opinion",
          "change",
          "happy",
          "middle",
          "taking",
          "wish",
          "husband",
          "finds",
          "saying",
          "order",
          "talking",
          "ones",
          "documentary",
          "shots",
          "huge",
          "novel",
          "female",
          "mostly",
          "robert",
          "power",
          "episodes",
          "room",
          "important",
          "rating",
          "talent",
          "five",
          "major",
          "turned",
          "strange",
          "word",
          "modern",
          "call",
          "apparently",
          "disappointed",
          "single",
          "events",
          "due",
          "four",
          "songs",
          "basically",
          "attention",
          "7",
          "knows",
          "clearly",
          "supporting",
          "knew",
          "british",
          "television",
          "comic",
          "non",
          "fast",
          "earth",
          "country",
          "future",
          "cheap",
          "class",
          "thriller",
          "8",
          "silly",
          "king",
          "problems",
          "aren't",
          "easily",
          "words",
          "tells",
          "miss",
          "jack",
          "local",
          "sequence",
          "bring",
          "entertainment",
          "paul",
          "beyond",
          "upon",
          "whether",
          "predictable",
          "moving",
          "similar",
          "straight",
          "romantic",
          "sets",
          "review",
          "falls",
          "oscar",
          "mystery",
          "enjoyable",
          "needs",
          "appears",
          "talk",
          "rock",
          "george",
          "giving",
          "eye",
          "richard",
          "within",
          "ten",
          "animation",
          "message",
          "theater",
          "near",
          "above",
          "dull",
          "nearly",
          "sequel",
          "theme",
          "points",
          "'",
          "stand",
          "mention",
          "lady",
          "bunch",
          "add",
          "feels",
          "herself",
          "release",
          "red",
          "team",
          "storyline",
          "surprised",
          "ways",
          "using",
          "named",
          "haven't",
          "lots",
          "easy",
          "fantastic",
          "begins",
          "actual",
          "working",
          "effort",
          "york",
          "die",
          "hate",
          "french",
          "minute",
          "tale",
          "clear",
          "stay",
          "9",
          "elements",
          "feature",
          "among",
          "follow",
          "comments",
          "re",
          "viewers",
          "avoid",
          "sister",
          "showing",
          "typical",
          "editing",
          "what's",
          "famous",
          "tried",
          "sorry",
          "dialog",
          "check",
          "fall",
          "period",
          "season",
          "form",
          "certain",
          "filmed",
          "weak",
          "soundtrack",
          "means",
          "buy",
          "material",
          "somehow",
          "realistic",
          "figure",
          "crime",
          "doubt",
          "gone",
          "peter",
          "tom",
          "kept",
          "viewing",
          "t",
          "general",
          "leads",
          "greatest",
          "space",
          "lame",
          "suspense",
          "dance",
          "imagine",
          "brought",
          "third",
          "atmosphere",
          "hear",
          "particular",
          "sequences",
          "whatever",
          "parents",
          "move",
          "lee",
          "indeed",
          "learn",
          "rent",
          "de",
          "eventually",
          "note",
          "deal",
          "average",
          "reviews",
          "wait",
          "forget",
          "japanese",
          "sexual",
          "poorly",
          "premise",
          "okay",
          "zombie",
          "surprise",
          "believable",
          "stage",
          "possibly",
          "sit",
          "who's",
          "decided",
          "expected",
          "you've",
          "subject",
          "nature",
          "became",
          "difficult",
          "free",
          "killing",
          "screenplay",
          "truth",
          "romance",
          "dr",
          "nor",
          "reading",
          "needed",
          "question",
          "leaves",
          "street",
          "20",
          "meets",
          "hot",
          "unless",
          "begin",
          "baby",
          "superb",
          "credits",
          "imdb",
          "otherwise",
          "write",
          "shame",
          "let's",
          "situation",
          "dramatic",
          "memorable",
          "directors",
          "earlier",
          "meet",
          "disney",
          "open",
          "dog",
          "badly",
          "joe",
          "male",
          "weird",
          "acted",
          "forced",
          "laughs",
          "sci",
          "emotional",
          "older",
          "realize",
          "fi",
          "dream",
          "society",
          "writers",
          "interested",
          "footage",
          "forward",
          "comment",
          "crazy",
          "deep",
          "sounds",
          "plus",
          "beauty",
          "whom",
          "america",
          "fantasy",
          "directing",
          "keeps",
          "ask",
          "development",
          "features",
          "air",
          "quickly",
          "mess",
          "creepy",
          "towards",
          "perfectly",
          "mark",
          "worked",
          "box",
          "cheesy",
          "unique",
          "setting",
          "hands",
          "plenty",
          "result",
          "previous",
          "brings",
          "effect",
          "e",
          "total",
          "personal",
          "incredibly",
          "rate",
          "fire",
          "monster",
          "business",
          "leading",
          "apart",
          "casting",
          "admit",
          "joke",
          "powerful",
          "appear",
          "background",
          "telling",
          "girlfriend",
          "meant",
          "christmas",
          "hardly",
          "present",
          "battle",
          "potential",
          "create",
          "bill",
          "break",
          "pay",
          "masterpiece",
          "gay",
          "political",
          "return",
          "dumb",
          "fails",
          "fighting",
          "various",
          "era"
         ],
         "textposition": "bottom left",
         "type": "scatter",
         "x": [
          0.1693534404039383,
          -0.020797280594706535,
          0.19144268333911896,
          -0.32045814394950867,
          0.035788778215646744,
          0.01001610979437828,
          0.2886640131473541,
          -0.21291187405586243,
          -0.22736889123916626,
          -0.18011946976184845,
          0.9947802424430847,
          -0.07141970098018646,
          0.22107940912246704,
          -0.15498025715351105,
          0.8995539546012878,
          0.05893312767148018,
          -0.06143244355916977,
          -0.6626905798912048,
          0.020588038489222527,
          -0.0930982306599617,
          -0.3051473796367645,
          0.27813518047332764,
          0.3593002259731293,
          -0.17289488017559052,
          -0.059782858937978745,
          0.014674430713057518,
          -0.05670074373483658,
          -0.9838382005691528,
          -0.09062232077121735,
          0.10624948143959045,
          0.8243054151535034,
          0.07467721402645111,
          -0.43373140692710876,
          -0.024885764345526695,
          -0.35266003012657166,
          0.06751304119825363,
          -0.5105217099189758,
          0.24594257771968842,
          0.008921795524656773,
          -0.31137868762016296,
          -0.11452785134315491,
          -0.006779472343623638,
          -0.4859074056148529,
          0.23921720683574677,
          0.15692627429962158,
          0.3374817967414856,
          -0.29216891527175903,
          0.1216585710644722,
          0.3066239655017853,
          -0.29274889826774597,
          -0.29490530490875244,
          -0.06602714210748672,
          0.04869411513209343,
          -0.05911770462989807,
          0.20429864525794983,
          0.24537478387355804,
          -0.18821223080158234,
          0.07301267981529236,
          -0.5927425622940063,
          0.29262131452560425,
          -0.09559259563684464,
          -0.03337818756699562,
          0.2863946259021759,
          0.06344182789325714,
          -0.007393674924969673,
          0.20433253049850464,
          -0.31632325053215027,
          -0.16571882367134094,
          0.13369189202785492,
          0.24082472920417786,
          -0.14714254438877106,
          -0.277115136384964,
          -0.15234243869781494,
          0.19286981225013733,
          -0.24624639749526978,
          -0.005426958668977022,
          -0.07590226083993912,
          0.1675640344619751,
          -0.33385181427001953,
          0.3203563690185547,
          0.210295632481575,
          0.18379314243793488,
          0.02752840518951416,
          -0.19716224074363708,
          -0.16528384387493134,
          0.21820317208766937,
          -0.048902273178100586,
          0.016320228576660156,
          0.05938145890831947,
          -0.4816245436668396,
          -0.25056153535842896,
          -0.4572550356388092,
          0.3686024844646454,
          -0.1210482269525528,
          -0.20015515387058258,
          -0.7231950163841248,
          0.42494916915893555,
          -0.04321206733584404,
          0.058437444269657135,
          -0.302516371011734,
          -0.015650689601898193,
          -0.4686235189437866,
          0.26370686292648315,
          0.0019335199613124132,
          -0.24378272891044617,
          0.04548432677984238,
          0.5015634894371033,
          -0.3250998258590698,
          -0.6062600016593933,
          -0.33614638447761536,
          -0.3911052644252777,
          -0.02764941193163395,
          0.09281305968761444,
          0.3036852180957794,
          -0.2940620481967926,
          -0.3909836709499359,
          -0.4111221432685852,
          0.045365218073129654,
          -0.1677154153585434,
          -0.036793194711208344,
          -0.12308115512132645,
          0.19829417765140533,
          -0.026327477768063545,
          0.005637824069708586,
          -0.01937585510313511,
          0.08428425341844559,
          0.31975656747817993,
          0.20086908340454102,
          0.11473625153303146,
          -0.17348085343837738,
          -0.010385962203145027,
          -0.036375369876623154,
          -0.02030407264828682,
          -0.11290488392114639,
          -0.313364714384079,
          0.1587957888841629,
          0.07520169019699097,
          -0.28585106134414673,
          0.20084711909294128,
          0.16477154195308685,
          -0.19381843507289886,
          0.3328498899936676,
          0.5142767429351807,
          -0.004855471663177013,
          0.02833450399339199,
          -0.10948711633682251,
          0.03862619772553444,
          -0.774282693862915,
          -0.13490140438079834,
          0.05425048619508743,
          0.22979508340358734,
          0.10908099263906479,
          0.3219730854034424,
          -0.03137602284550667,
          -0.013697675429284573,
          0.09482251852750778,
          0.11138255149126053,
          -0.15301409363746643,
          -0.07670827209949493,
          -0.018658436834812164,
          -0.2588174045085907,
          -0.0652812197804451,
          0.1406218260526657,
          -0.05005946755409241,
          0.41139543056488037,
          -0.23434841632843018,
          -0.1460012048482895,
          -0.06736625730991364,
          0.058798279613256454,
          0.06136816740036011,
          0.14811287820339203,
          -0.20376044511795044,
          0.23392321169376373,
          0.12358078360557556,
          0.15110357105731964,
          -0.11790937185287476,
          -0.13197112083435059,
          -0.18708214163780212,
          -0.25525879859924316,
          -0.06009339168667793,
          0.20428217947483063,
          -0.16990573704242706,
          0.408064603805542,
          -0.08603088557720184,
          -0.25858208537101746,
          -0.5430952906608582,
          -0.16637305915355682,
          0.24170053005218506,
          0.10536427050828934,
          0.08747654408216476,
          0.1280941367149353,
          -0.4249788820743561,
          0.1837616115808487,
          0.20473770797252655,
          0.014282513409852982,
          -0.1729973554611206,
          0.24783751368522644,
          0.16409824788570404,
          0.18074657022953033,
          0.30558323860168457,
          0.11137479543685913,
          0.00271092401817441,
          -0.20942217111587524,
          -0.2399483323097229,
          -0.02756466343998909,
          0.10758697986602783,
          -0.5037834644317627,
          -0.04508523643016815,
          0.10920466482639313,
          0.37361302971839905,
          -0.03204602748155594,
          0.03345651924610138,
          0.012049994431436062,
          0.0753832533955574,
          0.007641427684575319,
          -0.1312444508075714,
          0.2590802013874054,
          0.17937316000461578,
          0.23517248034477234,
          -0.03539521247148514,
          0.08184719830751419,
          -0.04684394598007202,
          0.011434941552579403,
          0.2504828870296478,
          -0.2340869903564453,
          0.1294715404510498,
          -0.1289939284324646,
          -0.45448896288871765,
          0.2531031668186188,
          -0.03418556600809097,
          -0.08146373927593231,
          0.33026570081710815,
          0.025532381609082222,
          -0.4999701976776123,
          -0.3619961738586426,
          0.123454250395298,
          0.04468808323144913,
          0.3386148512363434,
          -0.06388427317142487,
          -0.1249263733625412,
          -0.10981855541467667,
          0.30535244941711426,
          0.10529278218746185,
          -0.04155170917510986,
          0.1708076447248459,
          0.10897000133991241,
          0.11295151710510254,
          0.15964671969413757,
          0.39220118522644043,
          0.217478945851326,
          -0.1926928013563156,
          0.048893824219703674,
          0.2189650535583496,
          -0.6915607452392578,
          0.07043702900409698,
          -0.3295673429965973,
          0.09074114263057709,
          -0.06503433734178543,
          0.060554035007953644,
          0.2801147699356079,
          -0.25385066866874695,
          0.1848050355911255,
          -0.230803981423378,
          0.13087092339992523,
          0.053414929658174515,
          0.022839020937681198,
          0.15921075642108917,
          0.2866474688053131,
          0.08285661041736603,
          -0.21524369716644287,
          0.606732189655304,
          0.22478707134723663,
          -0.20430977642536163,
          -0.18700774013996124,
          0.26712778210639954,
          0.11608409136533737,
          0.4180324673652649,
          0.50132155418396,
          -0.07880542427301407,
          0.13381052017211914,
          0.00019622343825176358,
          -0.35847628116607666,
          0.12842942774295807,
          -0.12592951953411102,
          -0.0871756300330162,
          0.2797311842441559,
          -0.317935973405838,
          0.3752549886703491,
          0.045633964240550995,
          -0.06609180569648743,
          0.12149976193904877,
          0.11355774104595184,
          0.4083333909511566,
          0.17670589685440063,
          0.04707850143313408,
          0.12794877588748932,
          0.05009369179606438,
          -0.11516942083835602,
          -0.41962867975234985,
          0.07771387696266174,
          0.05752887949347496,
          0.03390463441610336,
          -0.13786211609840393,
          -0.202936589717865,
          0.07534759491682053,
          -0.5842049717903137,
          -0.5171095132827759,
          -0.2676808536052704,
          -0.15116968750953674,
          -0.08610349893569946,
          -0.000023100408725440502,
          0.21900992095470428,
          -0.007568396627902985,
          0.009000124409794807,
          0.25133365392684937,
          -0.6527806520462036,
          0.08652312308549881,
          -0.09305571019649506,
          0.03386746719479561,
          -0.2233034372329712,
          -0.007760391570627689,
          0.444343626499176,
          -0.3012138605117798,
          0.14086280763149261,
          -0.10743048787117004,
          -0.07217662781476974,
          0.01910417713224888,
          0.17087693512439728,
          0.01739230751991272,
          0.3952680826187134,
          -0.2899637222290039,
          -0.05026790872216225,
          -0.11715840548276901,
          0.7239779829978943,
          -0.18804703652858734,
          -0.6142780780792236,
          0.2106255441904068,
          0.15474583208560944,
          -0.29707005620002747,
          0.14449812471866608,
          0.09346862882375717,
          0.12508931756019592,
          -0.024212196469306946,
          0.03742235526442528,
          0.11083655059337616,
          -0.29335203766822815,
          0.23215657472610474,
          -0.047121163457632065,
          -0.322165846824646,
          -0.03120199218392372,
          -0.04113004729151726,
          -0.359640896320343,
          0.21263855695724487,
          -0.06356503814458847,
          -0.20616163313388824,
          -0.1661326140165329,
          0.01903596892952919,
          -0.2402014583349228,
          0.033117007464170456,
          0.20852702856063843,
          0.10803002864122391,
          -0.0022686473093926907,
          -0.7093378305435181,
          -0.5046769380569458,
          -0.3145419657230377,
          -0.3533930480480194,
          0.49506640434265137,
          0.16289468109607697,
          0.10410522669553757,
          -0.36279961466789246,
          -0.2746943533420563,
          0.057219117879867554,
          -0.26952773332595825,
          -0.2522967755794525,
          -0.18340541422367096,
          -0.05504477396607399,
          0.0021975457202643156,
          -0.01210810150951147,
          0.17350000143051147,
          -0.2884112298488617,
          -0.253378689289093,
          -0.041965942829847336,
          -0.0583379752933979,
          0.3211599290370941,
          -0.21003960072994232,
          0.1161753460764885,
          -0.04069230332970619,
          -0.18030782043933868,
          -0.15252374112606049,
          -0.08401941508054733,
          0.07057832926511765,
          -0.09455837309360504,
          0.1784357875585556,
          0.12003426998853683,
          -0.3612748980522156,
          -0.37944066524505615,
          0.21188636124134064,
          0.6316364407539368,
          -0.12332099676132202,
          -0.23094594478607178,
          -0.40910354256629944,
          -0.49540644884109497,
          -0.2972565293312073,
          -0.2517472505569458,
          0.19330286979675293,
          -0.08968061208724976,
          0.1837402582168579,
          0.31653639674186707,
          0.07029007375240326,
          -0.13962958753108978,
          0.38930797576904297,
          -0.17358119785785675,
          0.17035648226737976,
          -0.5815429091453552,
          -0.1339721530675888,
          -0.01751136966049671,
          -0.0732356384396553,
          0.11562720686197281,
          -0.2720543444156647,
          -0.029161551967263222,
          -0.003232093993574381,
          0.37322288751602173,
          0.27356064319610596,
          -0.18519434332847595,
          -0.03960500285029411,
          -0.007506899535655975,
          0.2071456015110016,
          -0.3774279057979584,
          0.011648929677903652,
          -0.09940922260284424,
          -0.5128089785575867,
          -0.014158114790916443,
          -0.11654548346996307,
          0.010270972736179829,
          0.045387495309114456,
          -0.08876079320907593,
          0.2687826156616211,
          -0.06725453585386276,
          0.0129004567861557,
          0.3210088908672333,
          -0.1834176480770111,
          0.023739734664559364,
          0.06398150324821472,
          -0.12089992314577103,
          -0.08365194499492645,
          0.14486277103424072,
          -0.2026461958885193,
          -0.6057451367378235,
          -0.09106678515672684,
          0.13219764828681946,
          0.1800704002380371,
          -0.09305350482463837,
          -0.0020903481636196375,
          -0.048088256269693375,
          -0.17409247159957886,
          0.4074294865131378,
          0.015451779589056969,
          -0.04233471676707268,
          0.2930886149406433,
          -0.04135270044207573,
          -0.0367269404232502,
          0.11916735768318176,
          -0.01889321580529213,
          0.007778058294206858,
          -0.3362486660480499,
          0.19674737751483917,
          -0.08064866065979004,
          0.01636311411857605,
          0.08226324617862701,
          -0.2800595760345459,
          0.12253760546445847,
          0.07651381939649582,
          -0.03576973080635071,
          -0.021943332627415657,
          0.12828609347343445,
          -0.4634927213191986,
          0.4873574674129486,
          -0.08965037763118744,
          -0.18584851920604706,
          0.1608775407075882,
          -0.16428424417972565,
          -0.09849680215120316,
          -0.14276452362537384,
          -0.08722764253616333,
          0.17685844004154205,
          0.14388589560985565,
          -0.6295959949493408,
          -0.041617970913648605,
          0.09083621203899384,
          0.2802291512489319,
          -0.1432715505361557,
          0.6563757658004761,
          -0.16943944990634918,
          0.1129651665687561,
          0.16274982690811157,
          -0.3350733816623688,
          -0.46547532081604004,
          0.07176890224218369,
          -0.1911689043045044,
          0.2486327588558197
         ],
         "y": [
          0.1392802745103836,
          0.05089486017823219,
          0.21169191598892212,
          -0.29628029465675354,
          0.04277489334344864,
          0.05230226367712021,
          0.3524545431137085,
          -0.21603243052959442,
          -0.20625099539756775,
          -0.2000935673713684,
          0.9699625372886658,
          -0.05920231342315674,
          0.12839941680431366,
          -0.17589345574378967,
          0.8464065194129944,
          0.10054320842027664,
          -0.034159302711486816,
          -0.5702072978019714,
          0.06999219954013824,
          -0.1110183522105217,
          -0.2634962201118469,
          0.2214982509613037,
          0.3498811423778534,
          -0.12234829366207123,
          -0.03073456510901451,
          0.047551508992910385,
          -0.0019082335056737065,
          -0.9371590614318848,
          -0.02633926272392273,
          0.0809074267745018,
          0.7931851148605347,
          -0.009367594495415688,
          -0.3640804588794708,
          -0.08209815621376038,
          -0.3445604741573334,
          0.06031789630651474,
          -0.5009857416152954,
          0.19368433952331543,
          -0.024152640253305435,
          -0.2713828980922699,
          -0.1382637321949005,
          0.01898346282541752,
          -0.4481133222579956,
          0.21299320459365845,
          0.17268361151218414,
          0.2473365068435669,
          -0.21714749932289124,
          0.05084225907921791,
          0.2062440812587738,
          -0.2736746370792389,
          -0.19907979667186737,
          -0.045455366373062134,
          0.04556978493928909,
          -0.034726399928331375,
          0.2497849017381668,
          0.3003252446651459,
          -0.17071226239204407,
          0.014267215505242348,
          -0.5405717492103577,
          0.2615797221660614,
          -0.14932501316070557,
          -0.08543583750724792,
          0.2085629403591156,
          0.1314801722764969,
          0.04721180722117424,
          0.1933879405260086,
          -0.3170752227306366,
          -0.200456440448761,
          0.1524827480316162,
          0.21140508353710175,
          -0.07422836124897003,
          -0.2387697994709015,
          -0.08554954081773758,
          0.09638573974370956,
          -0.2800059914588928,
          0.03504379466176033,
          -0.014611126855015755,
          0.15669015049934387,
          -0.32996666431427,
          0.28213223814964294,
          0.23742510378360748,
          0.10721693933010101,
          0.09294884651899338,
          -0.19419260323047638,
          -0.13421595096588135,
          0.15140247344970703,
          -0.016708696261048317,
          -0.007497668266296387,
          0.12258026748895645,
          -0.4416097402572632,
          -0.2883736193180084,
          -0.44404786825180054,
          0.3452054560184479,
          -0.0954236164689064,
          -0.17248943448066711,
          -0.6576222777366638,
          0.45382222533226013,
          -0.08762650191783905,
          0.11247425526380539,
          -0.30755192041397095,
          0.005729202646762133,
          -0.50065678358078,
          0.24909546971321106,
          0.00944596715271473,
          -0.3136597275733948,
          0.053106699138879776,
          0.5278586149215698,
          -0.35503947734832764,
          -0.4819769859313965,
          -0.2596168518066406,
          -0.29511916637420654,
          0.057902321219444275,
          0.15958328545093536,
          0.28208455443382263,
          -0.3461352288722992,
          -0.3609497845172882,
          -0.3583224415779114,
          0.03020809404551983,
          -0.17651844024658203,
          -0.03869720175862312,
          -0.12437226623296738,
          0.2228502333164215,
          0.011303924955427647,
          -0.005914138164371252,
          0.047492675483226776,
          0.03417058661580086,
          0.3835063576698303,
          0.1555289924144745,
          0.15603046119213104,
          -0.17301543056964874,
          0.04829365387558937,
          -0.11478334665298462,
          -0.04150008410215378,
          -0.1786918044090271,
          -0.2819889485836029,
          0.12362740933895111,
          0.09064897149801254,
          -0.2939142882823944,
          0.24735502898693085,
          0.12865783274173737,
          -0.20549501478672028,
          0.28107091784477234,
          0.48625481128692627,
          0.05516653507947922,
          -0.009665388613939285,
          -0.11069606244564056,
          0.02690552920103073,
          -0.7093162536621094,
          -0.14575417339801788,
          0.031549956649541855,
          0.23583213984966278,
          0.0819394662976265,
          0.2778746783733368,
          -0.04236062988638878,
          0.013340155594050884,
          0.07319852709770203,
          0.11955082416534424,
          -0.20298664271831512,
          -0.05563577264547348,
          -0.0543743297457695,
          -0.27993059158325195,
          -0.06875918060541153,
          0.12068355083465576,
          -0.024875864386558533,
          0.3443419635295868,
          -0.20626525580883026,
          -0.15747448801994324,
          -0.062237758189439774,
          -0.005860935430973768,
          0.13080494105815887,
          0.22599294781684875,
          -0.11972522735595703,
          0.18458017706871033,
          0.18676702678203583,
          0.1924557089805603,
          -0.156546488404274,
          -0.17861957848072052,
          -0.1281246691942215,
          -0.23286280035972595,
          -0.008112718351185322,
          0.13984161615371704,
          -0.17195364832878113,
          0.377833753824234,
          -0.05909809097647667,
          -0.2522467374801636,
          -0.5881890058517456,
          -0.1524622142314911,
          0.23953503370285034,
          0.039530713111162186,
          0.05251408368349075,
          0.028435057029128075,
          -0.45141762495040894,
          0.14605757594108582,
          0.2564813494682312,
          0.005556815769523382,
          -0.17494162917137146,
          0.18228764832019806,
          0.1652584969997406,
          0.1957659125328064,
          0.31542378664016724,
          0.1203550174832344,
          -0.01955813355743885,
          -0.18410611152648926,
          -0.24239374697208405,
          0.012780767865478992,
          0.10835882276296616,
          -0.48451465368270874,
          0.003158526262268424,
          0.16170896589756012,
          0.3674582540988922,
          0.002500720787793398,
          0.10170173645019531,
          0.025345329195261,
          0.043704524636268616,
          -0.01570172794163227,
          -0.20214661955833435,
          0.254631906747818,
          0.16575491428375244,
          0.17948651313781738,
          -0.07989302277565002,
          -0.0014628006611019373,
          -0.10535067319869995,
          0.010687224566936493,
          0.3126160204410553,
          -0.2818310558795929,
          0.12041408568620682,
          -0.044450320303440094,
          -0.3547169864177704,
          0.28621092438697815,
          -0.03961924836039543,
          -0.0905851274728775,
          0.3291626572608948,
          0.06237052008509636,
          -0.4612305462360382,
          -0.39443880319595337,
          0.18606874346733093,
          0.015081305056810379,
          0.3132981061935425,
          -0.002110586501657963,
          -0.15026900172233582,
          -0.09779942035675049,
          0.27987706661224365,
          0.1277461051940918,
          -0.008439844474196434,
          0.15493230521678925,
          0.08368843048810959,
          0.14765000343322754,
          0.16077128052711487,
          0.36217188835144043,
          0.22243380546569824,
          -0.13133983314037323,
          0.017233923077583313,
          0.2489480972290039,
          -0.6075730919837952,
          0.07354230433702469,
          -0.3537212610244751,
          0.026003561913967133,
          -0.09514516592025757,
          0.018747052177786827,
          0.2659011781215668,
          -0.20275434851646423,
          0.24052700400352478,
          -0.2603687345981598,
          0.0969395563006401,
          0.019688235595822334,
          0.01156320609152317,
          0.18792158365249634,
          0.20093287527561188,
          0.09158304333686829,
          -0.1499960869550705,
          0.6009389758110046,
          0.19795875251293182,
          -0.17789766192436218,
          -0.14924779534339905,
          0.283847451210022,
          0.11789063364267349,
          0.36225926876068115,
          0.47355788946151733,
          -0.07792918384075165,
          0.119034044444561,
          0.05057179182767868,
          -0.4066973924636841,
          0.19397293031215668,
          -0.06931717693805695,
          -0.07315796613693237,
          0.34284353256225586,
          -0.30978646874427795,
          0.32787591218948364,
          0.045370038598775864,
          -0.11006195098161697,
          0.15565209090709686,
          0.10872475057840347,
          0.3393685221672058,
          0.09392519295215607,
          0.028615456074476242,
          0.042828142642974854,
          0.04934493452310562,
          -0.04215323552489281,
          -0.33665451407432556,
          0.04558790847659111,
          0.13568103313446045,
          0.0029420210048556328,
          -0.15732398629188538,
          -0.2158515453338623,
          0.07925546169281006,
          -0.4741918742656708,
          -0.5212733745574951,
          -0.2997358739376068,
          -0.14822900295257568,
          -0.017477111890912056,
          0.044000253081321716,
          0.2018858790397644,
          0.022894686087965965,
          0.010758410207927227,
          0.26745158433914185,
          -0.6465513110160828,
          0.07929971069097519,
          -0.17164826393127441,
          -0.007740664295852184,
          -0.1979842633008957,
          -0.06044628471136093,
          0.40213748812675476,
          -0.22893694043159485,
          0.12471754103899002,
          -0.15136535465717316,
          -0.060416437685489655,
          0.01703442819416523,
          0.23210956156253815,
          0.0035690711811184883,
          0.36270806193351746,
          -0.1948106288909912,
          0.007888349704444408,
          -0.10451420396566391,
          0.6128330230712891,
          -0.23208047449588776,
          -0.6189334392547607,
          0.11641917377710342,
          0.12795323133468628,
          -0.23498451709747314,
          0.21913288533687592,
          0.07552365213632584,
          0.11392507702112198,
          0.03347962722182274,
          0.07027433067560196,
          0.10155848413705826,
          -0.28379446268081665,
          0.1494213044643402,
          -0.04784787446260452,
          -0.32805728912353516,
          -0.095123291015625,
          0.029139533638954163,
          -0.4236135482788086,
          0.2218068689107895,
          -0.06496722996234894,
          -0.1853029876947403,
          -0.09338121861219406,
          0.028498761355876923,
          -0.16579978168010712,
          0.048135191202163696,
          0.16282150149345398,
          0.10548403859138489,
          0.07420748472213745,
          -0.6966065168380737,
          -0.5265184640884399,
          -0.24574027955532074,
          -0.3227058947086334,
          0.5481432676315308,
          0.23429447412490845,
          0.11770965903997421,
          -0.387651264667511,
          -0.21029089391231537,
          0.10857272893190384,
          -0.23058171570301056,
          -0.24208730459213257,
          -0.1431393176317215,
          -0.03387448564171791,
          -0.02923014760017395,
          -0.017543110996484756,
          0.17250797152519226,
          -0.30200353264808655,
          -0.2731570601463318,
          -0.08740196377038956,
          -0.04937557876110077,
          0.27623358368873596,
          -0.19511623680591583,
          0.14764496684074402,
          -0.018856143578886986,
          -0.20799332857131958,
          -0.11479545384645462,
          -0.00301286275498569,
          0.10010974109172821,
          -0.1079493835568428,
          0.17923913896083832,
          0.11514024436473846,
          -0.3420751690864563,
          -0.38797345757484436,
          0.19439637660980225,
          0.5787100791931152,
          -0.12139371782541275,
          -0.1891062706708908,
          -0.4411880075931549,
          -0.410273015499115,
          -0.2054295539855957,
          -0.17877918481826782,
          0.2103797346353531,
          -0.02634809911251068,
          0.12602515518665314,
          0.3250008225440979,
          0.10378504544496536,
          -0.04451890289783478,
          0.35107356309890747,
          -0.1652860790491104,
          0.1922125220298767,
          -0.5752424597740173,
          -0.13177698850631714,
          -0.01658710651099682,
          -0.03339855372905731,
          0.06959906965494156,
          -0.1905088573694229,
          -0.02710532397031784,
          -0.070596843957901,
          0.2974923551082611,
          0.28639963269233704,
          -0.1989297866821289,
          -0.08706080913543701,
          0.08158283680677414,
          0.21511754393577576,
          -0.33962804079055786,
          -0.03093877248466015,
          -0.04096180200576782,
          -0.5555967092514038,
          -0.026093533262610435,
          -0.10267266631126404,
          0.026144854724407196,
          0.005634405184537172,
          -0.03784739226102829,
          0.23786747455596924,
          -0.0790911391377449,
          0.03715967759490013,
          0.34432274103164673,
          -0.1638420671224594,
          0.09005692601203918,
          0.03538329899311066,
          -0.10356583446264267,
          -0.04945538565516472,
          0.16570846736431122,
          -0.11633701622486115,
          -0.6526156067848206,
          -0.08810349553823471,
          0.08344318717718124,
          0.17437951266765594,
          -0.062409866601228714,
          -0.06545191258192062,
          -0.08197182416915894,
          -0.17925219237804413,
          0.3965751528739929,
          -0.038008544594049454,
          -0.04182694852352142,
          0.1967845857143402,
          -0.011501442641019821,
          -0.0564785972237587,
          0.1287194937467575,
          0.05488336831331253,
          -0.07351066172122955,
          -0.30408838391304016,
          0.16399574279785156,
          -0.09988564997911453,
          0.036235108971595764,
          0.08757267892360687,
          -0.2996910810470581,
          0.08703732490539551,
          0.015615863725543022,
          -0.029649926349520683,
          -0.08333338797092438,
          0.16497226059436798,
          -0.4840494692325592,
          0.44517818093299866,
          -0.07338616997003555,
          -0.12243509292602539,
          0.16859211027622223,
          -0.15261530876159668,
          -0.11849415302276611,
          -0.1252843141555786,
          -0.06649520248174667,
          0.18600282073020935,
          0.12369774281978607,
          -0.5352449417114258,
          -0.0534084215760231,
          0.025620708242058754,
          0.2645696997642517,
          -0.22166891396045685,
          0.6285555362701416,
          -0.22689414024353027,
          0.11471953243017197,
          0.20479674637317657,
          -0.3163287937641144,
          -0.47147998213768005,
          0.017309384420514107,
          -0.1713247001171112,
          0.20070098340511322
         ]
        }
       ],
       "layout": {
        "hovermode": "closest",
        "template": {
         "data": {
          "bar": [
           {
            "error_x": {
             "color": "#2a3f5f"
            },
            "error_y": {
             "color": "#2a3f5f"
            },
            "marker": {
             "line": {
              "color": "#E5ECF6",
              "width": 0.5
             },
             "pattern": {
              "fillmode": "overlay",
              "size": 10,
              "solidity": 0.2
             }
            },
            "type": "bar"
           }
          ],
          "barpolar": [
           {
            "marker": {
             "line": {
              "color": "#E5ECF6",
              "width": 0.5
             },
             "pattern": {
              "fillmode": "overlay",
              "size": 10,
              "solidity": 0.2
             }
            },
            "type": "barpolar"
           }
          ],
          "carpet": [
           {
            "aaxis": {
             "endlinecolor": "#2a3f5f",
             "gridcolor": "white",
             "linecolor": "white",
             "minorgridcolor": "white",
             "startlinecolor": "#2a3f5f"
            },
            "baxis": {
             "endlinecolor": "#2a3f5f",
             "gridcolor": "white",
             "linecolor": "white",
             "minorgridcolor": "white",
             "startlinecolor": "#2a3f5f"
            },
            "type": "carpet"
           }
          ],
          "choropleth": [
           {
            "colorbar": {
             "outlinewidth": 0,
             "ticks": ""
            },
            "type": "choropleth"
           }
          ],
          "contour": [
           {
            "colorbar": {
             "outlinewidth": 0,
             "ticks": ""
            },
            "colorscale": [
             [
              0,
              "#0d0887"
             ],
             [
              0.1111111111111111,
              "#46039f"
             ],
             [
              0.2222222222222222,
              "#7201a8"
             ],
             [
              0.3333333333333333,
              "#9c179e"
             ],
             [
              0.4444444444444444,
              "#bd3786"
             ],
             [
              0.5555555555555556,
              "#d8576b"
             ],
             [
              0.6666666666666666,
              "#ed7953"
             ],
             [
              0.7777777777777778,
              "#fb9f3a"
             ],
             [
              0.8888888888888888,
              "#fdca26"
             ],
             [
              1,
              "#f0f921"
             ]
            ],
            "type": "contour"
           }
          ],
          "contourcarpet": [
           {
            "colorbar": {
             "outlinewidth": 0,
             "ticks": ""
            },
            "type": "contourcarpet"
           }
          ],
          "heatmap": [
           {
            "colorbar": {
             "outlinewidth": 0,
             "ticks": ""
            },
            "colorscale": [
             [
              0,
              "#0d0887"
             ],
             [
              0.1111111111111111,
              "#46039f"
             ],
             [
              0.2222222222222222,
              "#7201a8"
             ],
             [
              0.3333333333333333,
              "#9c179e"
             ],
             [
              0.4444444444444444,
              "#bd3786"
             ],
             [
              0.5555555555555556,
              "#d8576b"
             ],
             [
              0.6666666666666666,
              "#ed7953"
             ],
             [
              0.7777777777777778,
              "#fb9f3a"
             ],
             [
              0.8888888888888888,
              "#fdca26"
             ],
             [
              1,
              "#f0f921"
             ]
            ],
            "type": "heatmap"
           }
          ],
          "heatmapgl": [
           {
            "colorbar": {
             "outlinewidth": 0,
             "ticks": ""
            },
            "colorscale": [
             [
              0,
              "#0d0887"
             ],
             [
              0.1111111111111111,
              "#46039f"
             ],
             [
              0.2222222222222222,
              "#7201a8"
             ],
             [
              0.3333333333333333,
              "#9c179e"
             ],
             [
              0.4444444444444444,
              "#bd3786"
             ],
             [
              0.5555555555555556,
              "#d8576b"
             ],
             [
              0.6666666666666666,
              "#ed7953"
             ],
             [
              0.7777777777777778,
              "#fb9f3a"
             ],
             [
              0.8888888888888888,
              "#fdca26"
             ],
             [
              1,
              "#f0f921"
             ]
            ],
            "type": "heatmapgl"
           }
          ],
          "histogram": [
           {
            "marker": {
             "pattern": {
              "fillmode": "overlay",
              "size": 10,
              "solidity": 0.2
             }
            },
            "type": "histogram"
           }
          ],
          "histogram2d": [
           {
            "colorbar": {
             "outlinewidth": 0,
             "ticks": ""
            },
            "colorscale": [
             [
              0,
              "#0d0887"
             ],
             [
              0.1111111111111111,
              "#46039f"
             ],
             [
              0.2222222222222222,
              "#7201a8"
             ],
             [
              0.3333333333333333,
              "#9c179e"
             ],
             [
              0.4444444444444444,
              "#bd3786"
             ],
             [
              0.5555555555555556,
              "#d8576b"
             ],
             [
              0.6666666666666666,
              "#ed7953"
             ],
             [
              0.7777777777777778,
              "#fb9f3a"
             ],
             [
              0.8888888888888888,
              "#fdca26"
             ],
             [
              1,
              "#f0f921"
             ]
            ],
            "type": "histogram2d"
           }
          ],
          "histogram2dcontour": [
           {
            "colorbar": {
             "outlinewidth": 0,
             "ticks": ""
            },
            "colorscale": [
             [
              0,
              "#0d0887"
             ],
             [
              0.1111111111111111,
              "#46039f"
             ],
             [
              0.2222222222222222,
              "#7201a8"
             ],
             [
              0.3333333333333333,
              "#9c179e"
             ],
             [
              0.4444444444444444,
              "#bd3786"
             ],
             [
              0.5555555555555556,
              "#d8576b"
             ],
             [
              0.6666666666666666,
              "#ed7953"
             ],
             [
              0.7777777777777778,
              "#fb9f3a"
             ],
             [
              0.8888888888888888,
              "#fdca26"
             ],
             [
              1,
              "#f0f921"
             ]
            ],
            "type": "histogram2dcontour"
           }
          ],
          "mesh3d": [
           {
            "colorbar": {
             "outlinewidth": 0,
             "ticks": ""
            },
            "type": "mesh3d"
           }
          ],
          "parcoords": [
           {
            "line": {
             "colorbar": {
              "outlinewidth": 0,
              "ticks": ""
             }
            },
            "type": "parcoords"
           }
          ],
          "pie": [
           {
            "automargin": true,
            "type": "pie"
           }
          ],
          "scatter": [
           {
            "fillpattern": {
             "fillmode": "overlay",
             "size": 10,
             "solidity": 0.2
            },
            "type": "scatter"
           }
          ],
          "scatter3d": [
           {
            "line": {
             "colorbar": {
              "outlinewidth": 0,
              "ticks": ""
             }
            },
            "marker": {
             "colorbar": {
              "outlinewidth": 0,
              "ticks": ""
             }
            },
            "type": "scatter3d"
           }
          ],
          "scattercarpet": [
           {
            "marker": {
             "colorbar": {
              "outlinewidth": 0,
              "ticks": ""
             }
            },
            "type": "scattercarpet"
           }
          ],
          "scattergeo": [
           {
            "marker": {
             "colorbar": {
              "outlinewidth": 0,
              "ticks": ""
             }
            },
            "type": "scattergeo"
           }
          ],
          "scattergl": [
           {
            "marker": {
             "colorbar": {
              "outlinewidth": 0,
              "ticks": ""
             }
            },
            "type": "scattergl"
           }
          ],
          "scattermapbox": [
           {
            "marker": {
             "colorbar": {
              "outlinewidth": 0,
              "ticks": ""
             }
            },
            "type": "scattermapbox"
           }
          ],
          "scatterpolar": [
           {
            "marker": {
             "colorbar": {
              "outlinewidth": 0,
              "ticks": ""
             }
            },
            "type": "scatterpolar"
           }
          ],
          "scatterpolargl": [
           {
            "marker": {
             "colorbar": {
              "outlinewidth": 0,
              "ticks": ""
             }
            },
            "type": "scatterpolargl"
           }
          ],
          "scatterternary": [
           {
            "marker": {
             "colorbar": {
              "outlinewidth": 0,
              "ticks": ""
             }
            },
            "type": "scatterternary"
           }
          ],
          "surface": [
           {
            "colorbar": {
             "outlinewidth": 0,
             "ticks": ""
            },
            "colorscale": [
             [
              0,
              "#0d0887"
             ],
             [
              0.1111111111111111,
              "#46039f"
             ],
             [
              0.2222222222222222,
              "#7201a8"
             ],
             [
              0.3333333333333333,
              "#9c179e"
             ],
             [
              0.4444444444444444,
              "#bd3786"
             ],
             [
              0.5555555555555556,
              "#d8576b"
             ],
             [
              0.6666666666666666,
              "#ed7953"
             ],
             [
              0.7777777777777778,
              "#fb9f3a"
             ],
             [
              0.8888888888888888,
              "#fdca26"
             ],
             [
              1,
              "#f0f921"
             ]
            ],
            "type": "surface"
           }
          ],
          "table": [
           {
            "cells": {
             "fill": {
              "color": "#EBF0F8"
             },
             "line": {
              "color": "white"
             }
            },
            "header": {
             "fill": {
              "color": "#C8D4E3"
             },
             "line": {
              "color": "white"
             }
            },
            "type": "table"
           }
          ]
         },
         "layout": {
          "annotationdefaults": {
           "arrowcolor": "#2a3f5f",
           "arrowhead": 0,
           "arrowwidth": 1
          },
          "autotypenumbers": "strict",
          "coloraxis": {
           "colorbar": {
            "outlinewidth": 0,
            "ticks": ""
           }
          },
          "colorscale": {
           "diverging": [
            [
             0,
             "#8e0152"
            ],
            [
             0.1,
             "#c51b7d"
            ],
            [
             0.2,
             "#de77ae"
            ],
            [
             0.3,
             "#f1b6da"
            ],
            [
             0.4,
             "#fde0ef"
            ],
            [
             0.5,
             "#f7f7f7"
            ],
            [
             0.6,
             "#e6f5d0"
            ],
            [
             0.7,
             "#b8e186"
            ],
            [
             0.8,
             "#7fbc41"
            ],
            [
             0.9,
             "#4d9221"
            ],
            [
             1,
             "#276419"
            ]
           ],
           "sequential": [
            [
             0,
             "#0d0887"
            ],
            [
             0.1111111111111111,
             "#46039f"
            ],
            [
             0.2222222222222222,
             "#7201a8"
            ],
            [
             0.3333333333333333,
             "#9c179e"
            ],
            [
             0.4444444444444444,
             "#bd3786"
            ],
            [
             0.5555555555555556,
             "#d8576b"
            ],
            [
             0.6666666666666666,
             "#ed7953"
            ],
            [
             0.7777777777777778,
             "#fb9f3a"
            ],
            [
             0.8888888888888888,
             "#fdca26"
            ],
            [
             1,
             "#f0f921"
            ]
           ],
           "sequentialminus": [
            [
             0,
             "#0d0887"
            ],
            [
             0.1111111111111111,
             "#46039f"
            ],
            [
             0.2222222222222222,
             "#7201a8"
            ],
            [
             0.3333333333333333,
             "#9c179e"
            ],
            [
             0.4444444444444444,
             "#bd3786"
            ],
            [
             0.5555555555555556,
             "#d8576b"
            ],
            [
             0.6666666666666666,
             "#ed7953"
            ],
            [
             0.7777777777777778,
             "#fb9f3a"
            ],
            [
             0.8888888888888888,
             "#fdca26"
            ],
            [
             1,
             "#f0f921"
            ]
           ]
          },
          "colorway": [
           "#636efa",
           "#EF553B",
           "#00cc96",
           "#ab63fa",
           "#FFA15A",
           "#19d3f3",
           "#FF6692",
           "#B6E880",
           "#FF97FF",
           "#FECB52"
          ],
          "font": {
           "color": "#2a3f5f"
          },
          "geo": {
           "bgcolor": "white",
           "lakecolor": "white",
           "landcolor": "#E5ECF6",
           "showlakes": true,
           "showland": true,
           "subunitcolor": "white"
          },
          "hoverlabel": {
           "align": "left"
          },
          "hovermode": "closest",
          "mapbox": {
           "style": "light"
          },
          "paper_bgcolor": "white",
          "plot_bgcolor": "#E5ECF6",
          "polar": {
           "angularaxis": {
            "gridcolor": "white",
            "linecolor": "white",
            "ticks": ""
           },
           "bgcolor": "#E5ECF6",
           "radialaxis": {
            "gridcolor": "white",
            "linecolor": "white",
            "ticks": ""
           }
          },
          "scene": {
           "xaxis": {
            "backgroundcolor": "#E5ECF6",
            "gridcolor": "white",
            "gridwidth": 2,
            "linecolor": "white",
            "showbackground": true,
            "ticks": "",
            "zerolinecolor": "white"
           },
           "yaxis": {
            "backgroundcolor": "#E5ECF6",
            "gridcolor": "white",
            "gridwidth": 2,
            "linecolor": "white",
            "showbackground": true,
            "ticks": "",
            "zerolinecolor": "white"
           },
           "zaxis": {
            "backgroundcolor": "#E5ECF6",
            "gridcolor": "white",
            "gridwidth": 2,
            "linecolor": "white",
            "showbackground": true,
            "ticks": "",
            "zerolinecolor": "white"
           }
          },
          "shapedefaults": {
           "line": {
            "color": "#2a3f5f"
           }
          },
          "ternary": {
           "aaxis": {
            "gridcolor": "white",
            "linecolor": "white",
            "ticks": ""
           },
           "baxis": {
            "gridcolor": "white",
            "linecolor": "white",
            "ticks": ""
           },
           "bgcolor": "#E5ECF6",
           "caxis": {
            "gridcolor": "white",
            "linecolor": "white",
            "ticks": ""
           }
          },
          "title": {
           "x": 0.05
          },
          "xaxis": {
           "automargin": true,
           "gridcolor": "white",
           "linecolor": "white",
           "ticks": "",
           "title": {
            "standoff": 15
           },
           "zerolinecolor": "white",
           "zerolinewidth": 2
          },
          "yaxis": {
           "automargin": true,
           "gridcolor": "white",
           "linecolor": "white",
           "ticks": "",
           "title": {
            "standoff": 15
           },
           "zerolinecolor": "white",
           "zerolinewidth": 2
          }
         }
        },
        "title": {
         "text": "Word Embeddings"
        }
       }
      },
      "text/html": [
       "<div>                            <div id=\"e0556fac-d4ce-429a-b4d9-abe89934abea\" class=\"plotly-graph-div\" style=\"height:525px; width:100%;\"></div>            <script type=\"text/javascript\">                require([\"plotly\"], function(Plotly) {                    window.PLOTLYENV=window.PLOTLYENV || {};                                    if (document.getElementById(\"e0556fac-d4ce-429a-b4d9-abe89934abea\")) {                    Plotly.newPlot(                        \"e0556fac-d4ce-429a-b4d9-abe89934abea\",                        [{\"hoverinfo\":\"text\",\"mode\":\"markers\",\"text\":[\"game\",\"past\",\"able\",\"b\",\"days\",\"turns\",\"child\",\"they're\",\"hand\",\"flick\",\"enjoyed\",\"act\",\"genre\",\"town\",\"favorite\",\"soon\",\"kill\",\"starts\",\"sometimes\",\"car\",\"gave\",\"run\",\"late\",\"eyes\",\"actress\",\"etc\",\"directed\",\"horrible\",\"won't\",\"viewer\",\"brilliant\",\"parts\",\"self\",\"themselves\",\"hour\",\"expect\",\"thinking\",\"stories\",\"stuff\",\"girls\",\"obviously\",\"blood\",\"decent\",\"city\",\"voice\",\"highly\",\"myself\",\"feeling\",\"fight\",\"except\",\"slow\",\"matter\",\"type\",\"anyway\",\"kid\",\"roles\",\"killed\",\"heard\",\"god\",\"age\",\"says\",\"moment\",\"took\",\"leave\",\"writer\",\"strong\",\"cannot\",\"violence\",\"police\",\"hit\",\"stop\",\"happens\",\"particularly\",\"known\",\"involved\",\"happened\",\"extremely\",\"daughter\",\"obvious\",\"told\",\"chance\",\"living\",\"coming\",\"lack\",\"alone\",\"experience\",\"wouldn't\",\"including\",\"murder\",\"attempt\",\"s\",\"please\",\"james\",\"happen\",\"wonder\",\"crap\",\"ago\",\"brother\",\"film's\",\"gore\",\"none\",\"complete\",\"interest\",\"score\",\"group\",\"cut\",\"simple\",\"save\",\"ok\",\"hell\",\"looked\",\"career\",\"number\",\"song\",\"possible\",\"seriously\",\"annoying\",\"shown\",\"exactly\",\"sad\",\"running\",\"musical\",\"serious\",\"taken\",\"yourself\",\"whose\",\"released\",\"cinematography\",\"david\",\"scary\",\"ends\",\"english\",\"hero\",\"usually\",\"hours\",\"reality\",\"opening\",\"i'll\",\"across\",\"today\",\"jokes\",\"light\",\"hilarious\",\"somewhat\",\"usual\",\"started\",\"cool\",\"ridiculous\",\"body\",\"relationship\",\"view\",\"level\",\"opinion\",\"change\",\"happy\",\"middle\",\"taking\",\"wish\",\"husband\",\"finds\",\"saying\",\"order\",\"talking\",\"ones\",\"documentary\",\"shots\",\"huge\",\"novel\",\"female\",\"mostly\",\"robert\",\"power\",\"episodes\",\"room\",\"important\",\"rating\",\"talent\",\"five\",\"major\",\"turned\",\"strange\",\"word\",\"modern\",\"call\",\"apparently\",\"disappointed\",\"single\",\"events\",\"due\",\"four\",\"songs\",\"basically\",\"attention\",\"7\",\"knows\",\"clearly\",\"supporting\",\"knew\",\"british\",\"television\",\"comic\",\"non\",\"fast\",\"earth\",\"country\",\"future\",\"cheap\",\"class\",\"thriller\",\"8\",\"silly\",\"king\",\"problems\",\"aren't\",\"easily\",\"words\",\"tells\",\"miss\",\"jack\",\"local\",\"sequence\",\"bring\",\"entertainment\",\"paul\",\"beyond\",\"upon\",\"whether\",\"predictable\",\"moving\",\"similar\",\"straight\",\"romantic\",\"sets\",\"review\",\"falls\",\"oscar\",\"mystery\",\"enjoyable\",\"needs\",\"appears\",\"talk\",\"rock\",\"george\",\"giving\",\"eye\",\"richard\",\"within\",\"ten\",\"animation\",\"message\",\"theater\",\"near\",\"above\",\"dull\",\"nearly\",\"sequel\",\"theme\",\"points\",\"'\",\"stand\",\"mention\",\"lady\",\"bunch\",\"add\",\"feels\",\"herself\",\"release\",\"red\",\"team\",\"storyline\",\"surprised\",\"ways\",\"using\",\"named\",\"haven't\",\"lots\",\"easy\",\"fantastic\",\"begins\",\"actual\",\"working\",\"effort\",\"york\",\"die\",\"hate\",\"french\",\"minute\",\"tale\",\"clear\",\"stay\",\"9\",\"elements\",\"feature\",\"among\",\"follow\",\"comments\",\"re\",\"viewers\",\"avoid\",\"sister\",\"showing\",\"typical\",\"editing\",\"what's\",\"famous\",\"tried\",\"sorry\",\"dialog\",\"check\",\"fall\",\"period\",\"season\",\"form\",\"certain\",\"filmed\",\"weak\",\"soundtrack\",\"means\",\"buy\",\"material\",\"somehow\",\"realistic\",\"figure\",\"crime\",\"doubt\",\"gone\",\"peter\",\"tom\",\"kept\",\"viewing\",\"t\",\"general\",\"leads\",\"greatest\",\"space\",\"lame\",\"suspense\",\"dance\",\"imagine\",\"brought\",\"third\",\"atmosphere\",\"hear\",\"particular\",\"sequences\",\"whatever\",\"parents\",\"move\",\"lee\",\"indeed\",\"learn\",\"rent\",\"de\",\"eventually\",\"note\",\"deal\",\"average\",\"reviews\",\"wait\",\"forget\",\"japanese\",\"sexual\",\"poorly\",\"premise\",\"okay\",\"zombie\",\"surprise\",\"believable\",\"stage\",\"possibly\",\"sit\",\"who's\",\"decided\",\"expected\",\"you've\",\"subject\",\"nature\",\"became\",\"difficult\",\"free\",\"killing\",\"screenplay\",\"truth\",\"romance\",\"dr\",\"nor\",\"reading\",\"needed\",\"question\",\"leaves\",\"street\",\"20\",\"meets\",\"hot\",\"unless\",\"begin\",\"baby\",\"superb\",\"credits\",\"imdb\",\"otherwise\",\"write\",\"shame\",\"let's\",\"situation\",\"dramatic\",\"memorable\",\"directors\",\"earlier\",\"meet\",\"disney\",\"open\",\"dog\",\"badly\",\"joe\",\"male\",\"weird\",\"acted\",\"forced\",\"laughs\",\"sci\",\"emotional\",\"older\",\"realize\",\"fi\",\"dream\",\"society\",\"writers\",\"interested\",\"footage\",\"forward\",\"comment\",\"crazy\",\"deep\",\"sounds\",\"plus\",\"beauty\",\"whom\",\"america\",\"fantasy\",\"directing\",\"keeps\",\"ask\",\"development\",\"features\",\"air\",\"quickly\",\"mess\",\"creepy\",\"towards\",\"perfectly\",\"mark\",\"worked\",\"box\",\"cheesy\",\"unique\",\"setting\",\"hands\",\"plenty\",\"result\",\"previous\",\"brings\",\"effect\",\"e\",\"total\",\"personal\",\"incredibly\",\"rate\",\"fire\",\"monster\",\"business\",\"leading\",\"apart\",\"casting\",\"admit\",\"joke\",\"powerful\",\"appear\",\"background\",\"telling\",\"girlfriend\",\"meant\",\"christmas\",\"hardly\",\"present\",\"battle\",\"potential\",\"create\",\"bill\",\"break\",\"pay\",\"masterpiece\",\"gay\",\"political\",\"return\",\"dumb\",\"fails\",\"fighting\",\"various\",\"era\"],\"textposition\":\"bottom left\",\"x\":[0.1693534404039383,-0.020797280594706535,0.19144268333911896,-0.32045814394950867,0.035788778215646744,0.01001610979437828,0.2886640131473541,-0.21291187405586243,-0.22736889123916626,-0.18011946976184845,0.9947802424430847,-0.07141970098018646,0.22107940912246704,-0.15498025715351105,0.8995539546012878,0.05893312767148018,-0.06143244355916977,-0.6626905798912048,0.020588038489222527,-0.0930982306599617,-0.3051473796367645,0.27813518047332764,0.3593002259731293,-0.17289488017559052,-0.059782858937978745,0.014674430713057518,-0.05670074373483658,-0.9838382005691528,-0.09062232077121735,0.10624948143959045,0.8243054151535034,0.07467721402645111,-0.43373140692710876,-0.024885764345526695,-0.35266003012657166,0.06751304119825363,-0.5105217099189758,0.24594257771968842,0.008921795524656773,-0.31137868762016296,-0.11452785134315491,-0.006779472343623638,-0.4859074056148529,0.23921720683574677,0.15692627429962158,0.3374817967414856,-0.29216891527175903,0.1216585710644722,0.3066239655017853,-0.29274889826774597,-0.29490530490875244,-0.06602714210748672,0.04869411513209343,-0.05911770462989807,0.20429864525794983,0.24537478387355804,-0.18821223080158234,0.07301267981529236,-0.5927425622940063,0.29262131452560425,-0.09559259563684464,-0.03337818756699562,0.2863946259021759,0.06344182789325714,-0.007393674924969673,0.20433253049850464,-0.31632325053215027,-0.16571882367134094,0.13369189202785492,0.24082472920417786,-0.14714254438877106,-0.277115136384964,-0.15234243869781494,0.19286981225013733,-0.24624639749526978,-0.005426958668977022,-0.07590226083993912,0.1675640344619751,-0.33385181427001953,0.3203563690185547,0.210295632481575,0.18379314243793488,0.02752840518951416,-0.19716224074363708,-0.16528384387493134,0.21820317208766937,-0.048902273178100586,0.016320228576660156,0.05938145890831947,-0.4816245436668396,-0.25056153535842896,-0.4572550356388092,0.3686024844646454,-0.1210482269525528,-0.20015515387058258,-0.7231950163841248,0.42494916915893555,-0.04321206733584404,0.058437444269657135,-0.302516371011734,-0.015650689601898193,-0.4686235189437866,0.26370686292648315,0.0019335199613124132,-0.24378272891044617,0.04548432677984238,0.5015634894371033,-0.3250998258590698,-0.6062600016593933,-0.33614638447761536,-0.3911052644252777,-0.02764941193163395,0.09281305968761444,0.3036852180957794,-0.2940620481967926,-0.3909836709499359,-0.4111221432685852,0.045365218073129654,-0.1677154153585434,-0.036793194711208344,-0.12308115512132645,0.19829417765140533,-0.026327477768063545,0.005637824069708586,-0.01937585510313511,0.08428425341844559,0.31975656747817993,0.20086908340454102,0.11473625153303146,-0.17348085343837738,-0.010385962203145027,-0.036375369876623154,-0.02030407264828682,-0.11290488392114639,-0.313364714384079,0.1587957888841629,0.07520169019699097,-0.28585106134414673,0.20084711909294128,0.16477154195308685,-0.19381843507289886,0.3328498899936676,0.5142767429351807,-0.004855471663177013,0.02833450399339199,-0.10948711633682251,0.03862619772553444,-0.774282693862915,-0.13490140438079834,0.05425048619508743,0.22979508340358734,0.10908099263906479,0.3219730854034424,-0.03137602284550667,-0.013697675429284573,0.09482251852750778,0.11138255149126053,-0.15301409363746643,-0.07670827209949493,-0.018658436834812164,-0.2588174045085907,-0.0652812197804451,0.1406218260526657,-0.05005946755409241,0.41139543056488037,-0.23434841632843018,-0.1460012048482895,-0.06736625730991364,0.058798279613256454,0.06136816740036011,0.14811287820339203,-0.20376044511795044,0.23392321169376373,0.12358078360557556,0.15110357105731964,-0.11790937185287476,-0.13197112083435059,-0.18708214163780212,-0.25525879859924316,-0.06009339168667793,0.20428217947483063,-0.16990573704242706,0.408064603805542,-0.08603088557720184,-0.25858208537101746,-0.5430952906608582,-0.16637305915355682,0.24170053005218506,0.10536427050828934,0.08747654408216476,0.1280941367149353,-0.4249788820743561,0.1837616115808487,0.20473770797252655,0.014282513409852982,-0.1729973554611206,0.24783751368522644,0.16409824788570404,0.18074657022953033,0.30558323860168457,0.11137479543685913,0.00271092401817441,-0.20942217111587524,-0.2399483323097229,-0.02756466343998909,0.10758697986602783,-0.5037834644317627,-0.04508523643016815,0.10920466482639313,0.37361302971839905,-0.03204602748155594,0.03345651924610138,0.012049994431436062,0.0753832533955574,0.007641427684575319,-0.1312444508075714,0.2590802013874054,0.17937316000461578,0.23517248034477234,-0.03539521247148514,0.08184719830751419,-0.04684394598007202,0.011434941552579403,0.2504828870296478,-0.2340869903564453,0.1294715404510498,-0.1289939284324646,-0.45448896288871765,0.2531031668186188,-0.03418556600809097,-0.08146373927593231,0.33026570081710815,0.025532381609082222,-0.4999701976776123,-0.3619961738586426,0.123454250395298,0.04468808323144913,0.3386148512363434,-0.06388427317142487,-0.1249263733625412,-0.10981855541467667,0.30535244941711426,0.10529278218746185,-0.04155170917510986,0.1708076447248459,0.10897000133991241,0.11295151710510254,0.15964671969413757,0.39220118522644043,0.217478945851326,-0.1926928013563156,0.048893824219703674,0.2189650535583496,-0.6915607452392578,0.07043702900409698,-0.3295673429965973,0.09074114263057709,-0.06503433734178543,0.060554035007953644,0.2801147699356079,-0.25385066866874695,0.1848050355911255,-0.230803981423378,0.13087092339992523,0.053414929658174515,0.022839020937681198,0.15921075642108917,0.2866474688053131,0.08285661041736603,-0.21524369716644287,0.606732189655304,0.22478707134723663,-0.20430977642536163,-0.18700774013996124,0.26712778210639954,0.11608409136533737,0.4180324673652649,0.50132155418396,-0.07880542427301407,0.13381052017211914,0.00019622343825176358,-0.35847628116607666,0.12842942774295807,-0.12592951953411102,-0.0871756300330162,0.2797311842441559,-0.317935973405838,0.3752549886703491,0.045633964240550995,-0.06609180569648743,0.12149976193904877,0.11355774104595184,0.4083333909511566,0.17670589685440063,0.04707850143313408,0.12794877588748932,0.05009369179606438,-0.11516942083835602,-0.41962867975234985,0.07771387696266174,0.05752887949347496,0.03390463441610336,-0.13786211609840393,-0.202936589717865,0.07534759491682053,-0.5842049717903137,-0.5171095132827759,-0.2676808536052704,-0.15116968750953674,-0.08610349893569946,-2.3100408725440502e-05,0.21900992095470428,-0.007568396627902985,0.009000124409794807,0.25133365392684937,-0.6527806520462036,0.08652312308549881,-0.09305571019649506,0.03386746719479561,-0.2233034372329712,-0.007760391570627689,0.444343626499176,-0.3012138605117798,0.14086280763149261,-0.10743048787117004,-0.07217662781476974,0.01910417713224888,0.17087693512439728,0.01739230751991272,0.3952680826187134,-0.2899637222290039,-0.05026790872216225,-0.11715840548276901,0.7239779829978943,-0.18804703652858734,-0.6142780780792236,0.2106255441904068,0.15474583208560944,-0.29707005620002747,0.14449812471866608,0.09346862882375717,0.12508931756019592,-0.024212196469306946,0.03742235526442528,0.11083655059337616,-0.29335203766822815,0.23215657472610474,-0.047121163457632065,-0.322165846824646,-0.03120199218392372,-0.04113004729151726,-0.359640896320343,0.21263855695724487,-0.06356503814458847,-0.20616163313388824,-0.1661326140165329,0.01903596892952919,-0.2402014583349228,0.033117007464170456,0.20852702856063843,0.10803002864122391,-0.0022686473093926907,-0.7093378305435181,-0.5046769380569458,-0.3145419657230377,-0.3533930480480194,0.49506640434265137,0.16289468109607697,0.10410522669553757,-0.36279961466789246,-0.2746943533420563,0.057219117879867554,-0.26952773332595825,-0.2522967755794525,-0.18340541422367096,-0.05504477396607399,0.0021975457202643156,-0.01210810150951147,0.17350000143051147,-0.2884112298488617,-0.253378689289093,-0.041965942829847336,-0.0583379752933979,0.3211599290370941,-0.21003960072994232,0.1161753460764885,-0.04069230332970619,-0.18030782043933868,-0.15252374112606049,-0.08401941508054733,0.07057832926511765,-0.09455837309360504,0.1784357875585556,0.12003426998853683,-0.3612748980522156,-0.37944066524505615,0.21188636124134064,0.6316364407539368,-0.12332099676132202,-0.23094594478607178,-0.40910354256629944,-0.49540644884109497,-0.2972565293312073,-0.2517472505569458,0.19330286979675293,-0.08968061208724976,0.1837402582168579,0.31653639674186707,0.07029007375240326,-0.13962958753108978,0.38930797576904297,-0.17358119785785675,0.17035648226737976,-0.5815429091453552,-0.1339721530675888,-0.01751136966049671,-0.0732356384396553,0.11562720686197281,-0.2720543444156647,-0.029161551967263222,-0.003232093993574381,0.37322288751602173,0.27356064319610596,-0.18519434332847595,-0.03960500285029411,-0.007506899535655975,0.2071456015110016,-0.3774279057979584,0.011648929677903652,-0.09940922260284424,-0.5128089785575867,-0.014158114790916443,-0.11654548346996307,0.010270972736179829,0.045387495309114456,-0.08876079320907593,0.2687826156616211,-0.06725453585386276,0.0129004567861557,0.3210088908672333,-0.1834176480770111,0.023739734664559364,0.06398150324821472,-0.12089992314577103,-0.08365194499492645,0.14486277103424072,-0.2026461958885193,-0.6057451367378235,-0.09106678515672684,0.13219764828681946,0.1800704002380371,-0.09305350482463837,-0.0020903481636196375,-0.048088256269693375,-0.17409247159957886,0.4074294865131378,0.015451779589056969,-0.04233471676707268,0.2930886149406433,-0.04135270044207573,-0.0367269404232502,0.11916735768318176,-0.01889321580529213,0.007778058294206858,-0.3362486660480499,0.19674737751483917,-0.08064866065979004,0.01636311411857605,0.08226324617862701,-0.2800595760345459,0.12253760546445847,0.07651381939649582,-0.03576973080635071,-0.021943332627415657,0.12828609347343445,-0.4634927213191986,0.4873574674129486,-0.08965037763118744,-0.18584851920604706,0.1608775407075882,-0.16428424417972565,-0.09849680215120316,-0.14276452362537384,-0.08722764253616333,0.17685844004154205,0.14388589560985565,-0.6295959949493408,-0.041617970913648605,0.09083621203899384,0.2802291512489319,-0.1432715505361557,0.6563757658004761,-0.16943944990634918,0.1129651665687561,0.16274982690811157,-0.3350733816623688,-0.46547532081604004,0.07176890224218369,-0.1911689043045044,0.2486327588558197],\"y\":[0.1392802745103836,0.05089486017823219,0.21169191598892212,-0.29628029465675354,0.04277489334344864,0.05230226367712021,0.3524545431137085,-0.21603243052959442,-0.20625099539756775,-0.2000935673713684,0.9699625372886658,-0.05920231342315674,0.12839941680431366,-0.17589345574378967,0.8464065194129944,0.10054320842027664,-0.034159302711486816,-0.5702072978019714,0.06999219954013824,-0.1110183522105217,-0.2634962201118469,0.2214982509613037,0.3498811423778534,-0.12234829366207123,-0.03073456510901451,0.047551508992910385,-0.0019082335056737065,-0.9371590614318848,-0.02633926272392273,0.0809074267745018,0.7931851148605347,-0.009367594495415688,-0.3640804588794708,-0.08209815621376038,-0.3445604741573334,0.06031789630651474,-0.5009857416152954,0.19368433952331543,-0.024152640253305435,-0.2713828980922699,-0.1382637321949005,0.01898346282541752,-0.4481133222579956,0.21299320459365845,0.17268361151218414,0.2473365068435669,-0.21714749932289124,0.05084225907921791,0.2062440812587738,-0.2736746370792389,-0.19907979667186737,-0.045455366373062134,0.04556978493928909,-0.034726399928331375,0.2497849017381668,0.3003252446651459,-0.17071226239204407,0.014267215505242348,-0.5405717492103577,0.2615797221660614,-0.14932501316070557,-0.08543583750724792,0.2085629403591156,0.1314801722764969,0.04721180722117424,0.1933879405260086,-0.3170752227306366,-0.200456440448761,0.1524827480316162,0.21140508353710175,-0.07422836124897003,-0.2387697994709015,-0.08554954081773758,0.09638573974370956,-0.2800059914588928,0.03504379466176033,-0.014611126855015755,0.15669015049934387,-0.32996666431427,0.28213223814964294,0.23742510378360748,0.10721693933010101,0.09294884651899338,-0.19419260323047638,-0.13421595096588135,0.15140247344970703,-0.016708696261048317,-0.007497668266296387,0.12258026748895645,-0.4416097402572632,-0.2883736193180084,-0.44404786825180054,0.3452054560184479,-0.0954236164689064,-0.17248943448066711,-0.6576222777366638,0.45382222533226013,-0.08762650191783905,0.11247425526380539,-0.30755192041397095,0.005729202646762133,-0.50065678358078,0.24909546971321106,0.00944596715271473,-0.3136597275733948,0.053106699138879776,0.5278586149215698,-0.35503947734832764,-0.4819769859313965,-0.2596168518066406,-0.29511916637420654,0.057902321219444275,0.15958328545093536,0.28208455443382263,-0.3461352288722992,-0.3609497845172882,-0.3583224415779114,0.03020809404551983,-0.17651844024658203,-0.03869720175862312,-0.12437226623296738,0.2228502333164215,0.011303924955427647,-0.005914138164371252,0.047492675483226776,0.03417058661580086,0.3835063576698303,0.1555289924144745,0.15603046119213104,-0.17301543056964874,0.04829365387558937,-0.11478334665298462,-0.04150008410215378,-0.1786918044090271,-0.2819889485836029,0.12362740933895111,0.09064897149801254,-0.2939142882823944,0.24735502898693085,0.12865783274173737,-0.20549501478672028,0.28107091784477234,0.48625481128692627,0.05516653507947922,-0.009665388613939285,-0.11069606244564056,0.02690552920103073,-0.7093162536621094,-0.14575417339801788,0.031549956649541855,0.23583213984966278,0.0819394662976265,0.2778746783733368,-0.04236062988638878,0.013340155594050884,0.07319852709770203,0.11955082416534424,-0.20298664271831512,-0.05563577264547348,-0.0543743297457695,-0.27993059158325195,-0.06875918060541153,0.12068355083465576,-0.024875864386558533,0.3443419635295868,-0.20626525580883026,-0.15747448801994324,-0.062237758189439774,-0.005860935430973768,0.13080494105815887,0.22599294781684875,-0.11972522735595703,0.18458017706871033,0.18676702678203583,0.1924557089805603,-0.156546488404274,-0.17861957848072052,-0.1281246691942215,-0.23286280035972595,-0.008112718351185322,0.13984161615371704,-0.17195364832878113,0.377833753824234,-0.05909809097647667,-0.2522467374801636,-0.5881890058517456,-0.1524622142314911,0.23953503370285034,0.039530713111162186,0.05251408368349075,0.028435057029128075,-0.45141762495040894,0.14605757594108582,0.2564813494682312,0.005556815769523382,-0.17494162917137146,0.18228764832019806,0.1652584969997406,0.1957659125328064,0.31542378664016724,0.1203550174832344,-0.01955813355743885,-0.18410611152648926,-0.24239374697208405,0.012780767865478992,0.10835882276296616,-0.48451465368270874,0.003158526262268424,0.16170896589756012,0.3674582540988922,0.002500720787793398,0.10170173645019531,0.025345329195261,0.043704524636268616,-0.01570172794163227,-0.20214661955833435,0.254631906747818,0.16575491428375244,0.17948651313781738,-0.07989302277565002,-0.0014628006611019373,-0.10535067319869995,0.010687224566936493,0.3126160204410553,-0.2818310558795929,0.12041408568620682,-0.044450320303440094,-0.3547169864177704,0.28621092438697815,-0.03961924836039543,-0.0905851274728775,0.3291626572608948,0.06237052008509636,-0.4612305462360382,-0.39443880319595337,0.18606874346733093,0.015081305056810379,0.3132981061935425,-0.002110586501657963,-0.15026900172233582,-0.09779942035675049,0.27987706661224365,0.1277461051940918,-0.008439844474196434,0.15493230521678925,0.08368843048810959,0.14765000343322754,0.16077128052711487,0.36217188835144043,0.22243380546569824,-0.13133983314037323,0.017233923077583313,0.2489480972290039,-0.6075730919837952,0.07354230433702469,-0.3537212610244751,0.026003561913967133,-0.09514516592025757,0.018747052177786827,0.2659011781215668,-0.20275434851646423,0.24052700400352478,-0.2603687345981598,0.0969395563006401,0.019688235595822334,0.01156320609152317,0.18792158365249634,0.20093287527561188,0.09158304333686829,-0.1499960869550705,0.6009389758110046,0.19795875251293182,-0.17789766192436218,-0.14924779534339905,0.283847451210022,0.11789063364267349,0.36225926876068115,0.47355788946151733,-0.07792918384075165,0.119034044444561,0.05057179182767868,-0.4066973924636841,0.19397293031215668,-0.06931717693805695,-0.07315796613693237,0.34284353256225586,-0.30978646874427795,0.32787591218948364,0.045370038598775864,-0.11006195098161697,0.15565209090709686,0.10872475057840347,0.3393685221672058,0.09392519295215607,0.028615456074476242,0.042828142642974854,0.04934493452310562,-0.04215323552489281,-0.33665451407432556,0.04558790847659111,0.13568103313446045,0.0029420210048556328,-0.15732398629188538,-0.2158515453338623,0.07925546169281006,-0.4741918742656708,-0.5212733745574951,-0.2997358739376068,-0.14822900295257568,-0.017477111890912056,0.044000253081321716,0.2018858790397644,0.022894686087965965,0.010758410207927227,0.26745158433914185,-0.6465513110160828,0.07929971069097519,-0.17164826393127441,-0.007740664295852184,-0.1979842633008957,-0.06044628471136093,0.40213748812675476,-0.22893694043159485,0.12471754103899002,-0.15136535465717316,-0.060416437685489655,0.01703442819416523,0.23210956156253815,0.0035690711811184883,0.36270806193351746,-0.1948106288909912,0.007888349704444408,-0.10451420396566391,0.6128330230712891,-0.23208047449588776,-0.6189334392547607,0.11641917377710342,0.12795323133468628,-0.23498451709747314,0.21913288533687592,0.07552365213632584,0.11392507702112198,0.03347962722182274,0.07027433067560196,0.10155848413705826,-0.28379446268081665,0.1494213044643402,-0.04784787446260452,-0.32805728912353516,-0.095123291015625,0.029139533638954163,-0.4236135482788086,0.2218068689107895,-0.06496722996234894,-0.1853029876947403,-0.09338121861219406,0.028498761355876923,-0.16579978168010712,0.048135191202163696,0.16282150149345398,0.10548403859138489,0.07420748472213745,-0.6966065168380737,-0.5265184640884399,-0.24574027955532074,-0.3227058947086334,0.5481432676315308,0.23429447412490845,0.11770965903997421,-0.387651264667511,-0.21029089391231537,0.10857272893190384,-0.23058171570301056,-0.24208730459213257,-0.1431393176317215,-0.03387448564171791,-0.02923014760017395,-0.017543110996484756,0.17250797152519226,-0.30200353264808655,-0.2731570601463318,-0.08740196377038956,-0.04937557876110077,0.27623358368873596,-0.19511623680591583,0.14764496684074402,-0.018856143578886986,-0.20799332857131958,-0.11479545384645462,-0.00301286275498569,0.10010974109172821,-0.1079493835568428,0.17923913896083832,0.11514024436473846,-0.3420751690864563,-0.38797345757484436,0.19439637660980225,0.5787100791931152,-0.12139371782541275,-0.1891062706708908,-0.4411880075931549,-0.410273015499115,-0.2054295539855957,-0.17877918481826782,0.2103797346353531,-0.02634809911251068,0.12602515518665314,0.3250008225440979,0.10378504544496536,-0.04451890289783478,0.35107356309890747,-0.1652860790491104,0.1922125220298767,-0.5752424597740173,-0.13177698850631714,-0.01658710651099682,-0.03339855372905731,0.06959906965494156,-0.1905088573694229,-0.02710532397031784,-0.070596843957901,0.2974923551082611,0.28639963269233704,-0.1989297866821289,-0.08706080913543701,0.08158283680677414,0.21511754393577576,-0.33962804079055786,-0.03093877248466015,-0.04096180200576782,-0.5555967092514038,-0.026093533262610435,-0.10267266631126404,0.026144854724407196,0.005634405184537172,-0.03784739226102829,0.23786747455596924,-0.0790911391377449,0.03715967759490013,0.34432274103164673,-0.1638420671224594,0.09005692601203918,0.03538329899311066,-0.10356583446264267,-0.04945538565516472,0.16570846736431122,-0.11633701622486115,-0.6526156067848206,-0.08810349553823471,0.08344318717718124,0.17437951266765594,-0.062409866601228714,-0.06545191258192062,-0.08197182416915894,-0.17925219237804413,0.3965751528739929,-0.038008544594049454,-0.04182694852352142,0.1967845857143402,-0.011501442641019821,-0.0564785972237587,0.1287194937467575,0.05488336831331253,-0.07351066172122955,-0.30408838391304016,0.16399574279785156,-0.09988564997911453,0.036235108971595764,0.08757267892360687,-0.2996910810470581,0.08703732490539551,0.015615863725543022,-0.029649926349520683,-0.08333338797092438,0.16497226059436798,-0.4840494692325592,0.44517818093299866,-0.07338616997003555,-0.12243509292602539,0.16859211027622223,-0.15261530876159668,-0.11849415302276611,-0.1252843141555786,-0.06649520248174667,0.18600282073020935,0.12369774281978607,-0.5352449417114258,-0.0534084215760231,0.025620708242058754,0.2645696997642517,-0.22166891396045685,0.6285555362701416,-0.22689414024353027,0.11471953243017197,0.20479674637317657,-0.3163287937641144,-0.47147998213768005,0.017309384420514107,-0.1713247001171112,0.20070098340511322],\"type\":\"scatter\"}],                        {\"hovermode\":\"closest\",\"title\":{\"text\":\"Word Embeddings\"},\"template\":{\"data\":{\"histogram2dcontour\":[{\"type\":\"histogram2dcontour\",\"colorbar\":{\"outlinewidth\":0,\"ticks\":\"\"},\"colorscale\":[[0.0,\"#0d0887\"],[0.1111111111111111,\"#46039f\"],[0.2222222222222222,\"#7201a8\"],[0.3333333333333333,\"#9c179e\"],[0.4444444444444444,\"#bd3786\"],[0.5555555555555556,\"#d8576b\"],[0.6666666666666666,\"#ed7953\"],[0.7777777777777778,\"#fb9f3a\"],[0.8888888888888888,\"#fdca26\"],[1.0,\"#f0f921\"]]}],\"choropleth\":[{\"type\":\"choropleth\",\"colorbar\":{\"outlinewidth\":0,\"ticks\":\"\"}}],\"histogram2d\":[{\"type\":\"histogram2d\",\"colorbar\":{\"outlinewidth\":0,\"ticks\":\"\"},\"colorscale\":[[0.0,\"#0d0887\"],[0.1111111111111111,\"#46039f\"],[0.2222222222222222,\"#7201a8\"],[0.3333333333333333,\"#9c179e\"],[0.4444444444444444,\"#bd3786\"],[0.5555555555555556,\"#d8576b\"],[0.6666666666666666,\"#ed7953\"],[0.7777777777777778,\"#fb9f3a\"],[0.8888888888888888,\"#fdca26\"],[1.0,\"#f0f921\"]]}],\"heatmap\":[{\"type\":\"heatmap\",\"colorbar\":{\"outlinewidth\":0,\"ticks\":\"\"},\"colorscale\":[[0.0,\"#0d0887\"],[0.1111111111111111,\"#46039f\"],[0.2222222222222222,\"#7201a8\"],[0.3333333333333333,\"#9c179e\"],[0.4444444444444444,\"#bd3786\"],[0.5555555555555556,\"#d8576b\"],[0.6666666666666666,\"#ed7953\"],[0.7777777777777778,\"#fb9f3a\"],[0.8888888888888888,\"#fdca26\"],[1.0,\"#f0f921\"]]}],\"heatmapgl\":[{\"type\":\"heatmapgl\",\"colorbar\":{\"outlinewidth\":0,\"ticks\":\"\"},\"colorscale\":[[0.0,\"#0d0887\"],[0.1111111111111111,\"#46039f\"],[0.2222222222222222,\"#7201a8\"],[0.3333333333333333,\"#9c179e\"],[0.4444444444444444,\"#bd3786\"],[0.5555555555555556,\"#d8576b\"],[0.6666666666666666,\"#ed7953\"],[0.7777777777777778,\"#fb9f3a\"],[0.8888888888888888,\"#fdca26\"],[1.0,\"#f0f921\"]]}],\"contourcarpet\":[{\"type\":\"contourcarpet\",\"colorbar\":{\"outlinewidth\":0,\"ticks\":\"\"}}],\"contour\":[{\"type\":\"contour\",\"colorbar\":{\"outlinewidth\":0,\"ticks\":\"\"},\"colorscale\":[[0.0,\"#0d0887\"],[0.1111111111111111,\"#46039f\"],[0.2222222222222222,\"#7201a8\"],[0.3333333333333333,\"#9c179e\"],[0.4444444444444444,\"#bd3786\"],[0.5555555555555556,\"#d8576b\"],[0.6666666666666666,\"#ed7953\"],[0.7777777777777778,\"#fb9f3a\"],[0.8888888888888888,\"#fdca26\"],[1.0,\"#f0f921\"]]}],\"surface\":[{\"type\":\"surface\",\"colorbar\":{\"outlinewidth\":0,\"ticks\":\"\"},\"colorscale\":[[0.0,\"#0d0887\"],[0.1111111111111111,\"#46039f\"],[0.2222222222222222,\"#7201a8\"],[0.3333333333333333,\"#9c179e\"],[0.4444444444444444,\"#bd3786\"],[0.5555555555555556,\"#d8576b\"],[0.6666666666666666,\"#ed7953\"],[0.7777777777777778,\"#fb9f3a\"],[0.8888888888888888,\"#fdca26\"],[1.0,\"#f0f921\"]]}],\"mesh3d\":[{\"type\":\"mesh3d\",\"colorbar\":{\"outlinewidth\":0,\"ticks\":\"\"}}],\"scatter\":[{\"fillpattern\":{\"fillmode\":\"overlay\",\"size\":10,\"solidity\":0.2},\"type\":\"scatter\"}],\"parcoords\":[{\"type\":\"parcoords\",\"line\":{\"colorbar\":{\"outlinewidth\":0,\"ticks\":\"\"}}}],\"scatterpolargl\":[{\"type\":\"scatterpolargl\",\"marker\":{\"colorbar\":{\"outlinewidth\":0,\"ticks\":\"\"}}}],\"bar\":[{\"error_x\":{\"color\":\"#2a3f5f\"},\"error_y\":{\"color\":\"#2a3f5f\"},\"marker\":{\"line\":{\"color\":\"#E5ECF6\",\"width\":0.5},\"pattern\":{\"fillmode\":\"overlay\",\"size\":10,\"solidity\":0.2}},\"type\":\"bar\"}],\"scattergeo\":[{\"type\":\"scattergeo\",\"marker\":{\"colorbar\":{\"outlinewidth\":0,\"ticks\":\"\"}}}],\"scatterpolar\":[{\"type\":\"scatterpolar\",\"marker\":{\"colorbar\":{\"outlinewidth\":0,\"ticks\":\"\"}}}],\"histogram\":[{\"marker\":{\"pattern\":{\"fillmode\":\"overlay\",\"size\":10,\"solidity\":0.2}},\"type\":\"histogram\"}],\"scattergl\":[{\"type\":\"scattergl\",\"marker\":{\"colorbar\":{\"outlinewidth\":0,\"ticks\":\"\"}}}],\"scatter3d\":[{\"type\":\"scatter3d\",\"line\":{\"colorbar\":{\"outlinewidth\":0,\"ticks\":\"\"}},\"marker\":{\"colorbar\":{\"outlinewidth\":0,\"ticks\":\"\"}}}],\"scattermapbox\":[{\"type\":\"scattermapbox\",\"marker\":{\"colorbar\":{\"outlinewidth\":0,\"ticks\":\"\"}}}],\"scatterternary\":[{\"type\":\"scatterternary\",\"marker\":{\"colorbar\":{\"outlinewidth\":0,\"ticks\":\"\"}}}],\"scattercarpet\":[{\"type\":\"scattercarpet\",\"marker\":{\"colorbar\":{\"outlinewidth\":0,\"ticks\":\"\"}}}],\"carpet\":[{\"aaxis\":{\"endlinecolor\":\"#2a3f5f\",\"gridcolor\":\"white\",\"linecolor\":\"white\",\"minorgridcolor\":\"white\",\"startlinecolor\":\"#2a3f5f\"},\"baxis\":{\"endlinecolor\":\"#2a3f5f\",\"gridcolor\":\"white\",\"linecolor\":\"white\",\"minorgridcolor\":\"white\",\"startlinecolor\":\"#2a3f5f\"},\"type\":\"carpet\"}],\"table\":[{\"cells\":{\"fill\":{\"color\":\"#EBF0F8\"},\"line\":{\"color\":\"white\"}},\"header\":{\"fill\":{\"color\":\"#C8D4E3\"},\"line\":{\"color\":\"white\"}},\"type\":\"table\"}],\"barpolar\":[{\"marker\":{\"line\":{\"color\":\"#E5ECF6\",\"width\":0.5},\"pattern\":{\"fillmode\":\"overlay\",\"size\":10,\"solidity\":0.2}},\"type\":\"barpolar\"}],\"pie\":[{\"automargin\":true,\"type\":\"pie\"}]},\"layout\":{\"autotypenumbers\":\"strict\",\"colorway\":[\"#636efa\",\"#EF553B\",\"#00cc96\",\"#ab63fa\",\"#FFA15A\",\"#19d3f3\",\"#FF6692\",\"#B6E880\",\"#FF97FF\",\"#FECB52\"],\"font\":{\"color\":\"#2a3f5f\"},\"hovermode\":\"closest\",\"hoverlabel\":{\"align\":\"left\"},\"paper_bgcolor\":\"white\",\"plot_bgcolor\":\"#E5ECF6\",\"polar\":{\"bgcolor\":\"#E5ECF6\",\"angularaxis\":{\"gridcolor\":\"white\",\"linecolor\":\"white\",\"ticks\":\"\"},\"radialaxis\":{\"gridcolor\":\"white\",\"linecolor\":\"white\",\"ticks\":\"\"}},\"ternary\":{\"bgcolor\":\"#E5ECF6\",\"aaxis\":{\"gridcolor\":\"white\",\"linecolor\":\"white\",\"ticks\":\"\"},\"baxis\":{\"gridcolor\":\"white\",\"linecolor\":\"white\",\"ticks\":\"\"},\"caxis\":{\"gridcolor\":\"white\",\"linecolor\":\"white\",\"ticks\":\"\"}},\"coloraxis\":{\"colorbar\":{\"outlinewidth\":0,\"ticks\":\"\"}},\"colorscale\":{\"sequential\":[[0.0,\"#0d0887\"],[0.1111111111111111,\"#46039f\"],[0.2222222222222222,\"#7201a8\"],[0.3333333333333333,\"#9c179e\"],[0.4444444444444444,\"#bd3786\"],[0.5555555555555556,\"#d8576b\"],[0.6666666666666666,\"#ed7953\"],[0.7777777777777778,\"#fb9f3a\"],[0.8888888888888888,\"#fdca26\"],[1.0,\"#f0f921\"]],\"sequentialminus\":[[0.0,\"#0d0887\"],[0.1111111111111111,\"#46039f\"],[0.2222222222222222,\"#7201a8\"],[0.3333333333333333,\"#9c179e\"],[0.4444444444444444,\"#bd3786\"],[0.5555555555555556,\"#d8576b\"],[0.6666666666666666,\"#ed7953\"],[0.7777777777777778,\"#fb9f3a\"],[0.8888888888888888,\"#fdca26\"],[1.0,\"#f0f921\"]],\"diverging\":[[0,\"#8e0152\"],[0.1,\"#c51b7d\"],[0.2,\"#de77ae\"],[0.3,\"#f1b6da\"],[0.4,\"#fde0ef\"],[0.5,\"#f7f7f7\"],[0.6,\"#e6f5d0\"],[0.7,\"#b8e186\"],[0.8,\"#7fbc41\"],[0.9,\"#4d9221\"],[1,\"#276419\"]]},\"xaxis\":{\"gridcolor\":\"white\",\"linecolor\":\"white\",\"ticks\":\"\",\"title\":{\"standoff\":15},\"zerolinecolor\":\"white\",\"automargin\":true,\"zerolinewidth\":2},\"yaxis\":{\"gridcolor\":\"white\",\"linecolor\":\"white\",\"ticks\":\"\",\"title\":{\"standoff\":15},\"zerolinecolor\":\"white\",\"automargin\":true,\"zerolinewidth\":2},\"scene\":{\"xaxis\":{\"backgroundcolor\":\"#E5ECF6\",\"gridcolor\":\"white\",\"linecolor\":\"white\",\"showbackground\":true,\"ticks\":\"\",\"zerolinecolor\":\"white\",\"gridwidth\":2},\"yaxis\":{\"backgroundcolor\":\"#E5ECF6\",\"gridcolor\":\"white\",\"linecolor\":\"white\",\"showbackground\":true,\"ticks\":\"\",\"zerolinecolor\":\"white\",\"gridwidth\":2},\"zaxis\":{\"backgroundcolor\":\"#E5ECF6\",\"gridcolor\":\"white\",\"linecolor\":\"white\",\"showbackground\":true,\"ticks\":\"\",\"zerolinecolor\":\"white\",\"gridwidth\":2}},\"shapedefaults\":{\"line\":{\"color\":\"#2a3f5f\"}},\"annotationdefaults\":{\"arrowcolor\":\"#2a3f5f\",\"arrowhead\":0,\"arrowwidth\":1},\"geo\":{\"bgcolor\":\"white\",\"landcolor\":\"#E5ECF6\",\"subunitcolor\":\"white\",\"showland\":true,\"showlakes\":true,\"lakecolor\":\"white\"},\"title\":{\"x\":0.05},\"mapbox\":{\"style\":\"light\"}}}},                        {\"responsive\": true}                    ).then(function(){\n",
       "                            \n",
       "var gd = document.getElementById('e0556fac-d4ce-429a-b4d9-abe89934abea');\n",
       "var x = new MutationObserver(function (mutations, observer) {{\n",
       "        var display = window.getComputedStyle(gd).display;\n",
       "        if (!display || display === 'none') {{\n",
       "            console.log([gd, 'removed!']);\n",
       "            Plotly.purge(gd);\n",
       "            observer.disconnect();\n",
       "        }}\n",
       "}});\n",
       "\n",
       "// Listen for the removal of the full notebook cells\n",
       "var notebookContainer = gd.closest('#notebook-container');\n",
       "if (notebookContainer) {{\n",
       "    x.observe(notebookContainer, {childList: true});\n",
       "}}\n",
       "\n",
       "// Listen for the clearing of the current output cell\n",
       "var outputEl = gd.closest('.output');\n",
       "if (outputEl) {{\n",
       "    x.observe(outputEl, {childList: true});\n",
       "}}\n",
       "\n",
       "                        })                };                });            </script>        </div>"
      ]
     },
     "metadata": {},
     "output_type": "display_data"
    }
   ],
   "source": [
    "def plot_2d_embeddings(embeddings, id_start=1, count=100):\n",
    "  # Get 1st and 2nd embedding dims for the desired tokens.\n",
    "  x1 = embeddings[id_start:id_start+count, 0]\n",
    "  x2 = embeddings[id_start:id_start+count, 1]\n",
    "  \n",
    "  # Get the corresponding words from the reverse index (for labeling).\n",
    "  tokens = [reverse_index[i] for i in range(id_start, id_start+count)]\n",
    "\n",
    "  # Plot with the plotly library.\n",
    "  data = plotly.Scatter(x=x1, y=x2, text=tokens,\n",
    "                        mode='markers', textposition='bottom left',\n",
    "                        hoverinfo='text')\n",
    "  fig = plotly.Figure(data=[data],\n",
    "                      layout=plotly.Layout(title=\"Word Embeddings\",\n",
    "                                           hovermode='closest'))\n",
    "  fig.show()\n",
    "\n",
    "# Very frequent tokens tend to be more syntactic than semantic, so let's plot\n",
    "# some rarer words.    \n",
    "plot_2d_embeddings(embeddings2, id_start=500, count=500)"
   ]
  },
  {
   "cell_type": "markdown",
   "metadata": {},
   "source": [
    "### <span style=\"color:chocolate\">Exercise 8:</span> Interpreting embeddings (20 points)"
   ]
  },
  {
   "cell_type": "markdown",
   "metadata": {
    "id": "Z3Mm8MjRcZ20"
   },
   "source": [
    "Notice that the 2-D embeddings fall in a narrow diagonal band. Answer the following questions:\n",
    "\n",
    "1. Have the learned embeddings separated positive and negative words? What is the most negative word? Does this make sense?\n",
    "2. Give 2 examples of words that seem to have surprising embedding values and try to explain their positions. For example, what's going on with the tokens '7', '8', and '9'? What are two other surprising results?\n",
    "3. The embedding for 'crazy' is very close to (0,0). Explain what this means in terms of the model's output.\n",
    "4. Can you explain what you think the 2 learned embedding dimensions mean, if anything?"
   ]
  },
  {
   "cell_type": "markdown",
   "metadata": {
    "id": "x_qAAvvo2y3t"
   },
   "source": [
    "YOUR ANSWER HERE\n",
    "\n",
    "1. Yes the model has seperated positive and negative words and has learned to differentiate it. The most negative word is on left lower side e.g. horrible and positive word is on right upper side : i.e. enjoyed and it does look correct for negative and positive ratings.\n",
    "\n",
    "2. In the model with textual embeddings - digits might not carry strong semantic meaning compared to words, so they could be placed somewhere in the middle or at an unexpected location. e.g. 7 and 8 is placed 0-0.5 and 0 to 0.5 (middle).\n",
    "Other two surprising results:\n",
    "similarly word like \"re\" and \"de\" are placed in middle and has no direct impact to rating sentiment and are neutral/ambigious in nature.\n",
    "\n",
    "3. crazy is very close to (0,0) suggests - its neutralitly and doesn't strongly relate to other words and doesn't form a cluster which suggests ambiguity.\n",
    "\n",
    "4. Dimension 1 suggests the over all sentiment i.e. left most side ~-1 suggests strong negative sentiment while the right side ~1 suggests strong positive sentiment.\n",
    "Dimension 2 suggests categorization and relationship of words. The similar words are clustered together on this axis. \n",
    "\n"
   ]
  },
  {
   "cell_type": "markdown",
   "metadata": {},
   "source": [
    "----\n",
    "#### <span style=\"color:chocolate\">Additional practice question</span> (not graded)\n",
    "\n",
    "More data and bigger models"
   ]
  },
  {
   "cell_type": "markdown",
   "metadata": {
    "id": "IXCitmUvxfwb"
   },
   "source": [
    "Remember how you limited your input sequences to 20 tokens and 1000 vocabulary entries? Let's see how well you can do using more data and bigger models (more parameters)."
   ]
  },
  {
   "cell_type": "markdown",
   "metadata": {},
   "source": [
    "Using pieces of code from above, set up and train a model to achieve at least 80% accuracy on both training and validation data. Ensure the following elements are included:\n",
    "\n",
    "1. Truncate and pad input to the desired length;\n",
    "2. Limit the vocabulary to the desired size;\n",
    "3. Set up a model using embeddings;\n",
    "4. Use the averaging strategy rather than the concatenating strategy;\n",
    "5. Add additional layer(s) after the GlobalAveragePooling1D layer and before the output layer;\n",
    "6. Evaluate the model's performance on the test data and comment on its generalization performance. Hint: remember to apply the same preprocessing to the test data. Use the <span style=\"color:chocolate\">model.evaluate()</span> function for the final evaluation."
   ]
  },
  {
   "cell_type": "code",
   "execution_count": 19,
   "metadata": {
    "id": "ekbJ4sIq2hID"
   },
   "outputs": [],
   "source": [
    "# YOUR CODE HERE"
   ]
  }
 ],
 "metadata": {
  "colab": {
   "authorship_tag": "ABX9TyMbG/uKJC3itEUb58OjZyV3",
   "name": "09 Embeddings for Text.ipynb",
   "provenance": []
  },
  "kernelspec": {
   "display_name": "Python 3 (ipykernel)",
   "language": "python",
   "name": "python3"
  },
  "language_info": {
   "codemirror_mode": {
    "name": "ipython",
    "version": 3
   },
   "file_extension": ".py",
   "mimetype": "text/x-python",
   "name": "python",
   "nbconvert_exporter": "python",
   "pygments_lexer": "ipython3",
   "version": "3.12.2"
  }
 },
 "nbformat": 4,
 "nbformat_minor": 4
}
